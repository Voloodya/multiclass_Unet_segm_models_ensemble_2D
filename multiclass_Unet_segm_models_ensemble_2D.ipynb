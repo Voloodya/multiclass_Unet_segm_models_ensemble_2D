{
  "nbformat": 4,
  "nbformat_minor": 0,
  "metadata": {
    "colab": {
      "name": "multiclass_Unet_segm_models_ensemble_2D.ipynb",
      "provenance": [],
      "collapsed_sections": [],
      "authorship_tag": "ABX9TyOq9y6Us3t7+SyY32Y/ZkGr",
      "include_colab_link": true
    },
    "kernelspec": {
      "name": "python3",
      "display_name": "Python 3"
    },
    "language_info": {
      "name": "python"
    },
    "accelerator": "GPU"
  },
  "cells": [
    {
      "cell_type": "markdown",
      "metadata": {
        "id": "view-in-github",
        "colab_type": "text"
      },
      "source": [
        "<a href=\"https://colab.research.google.com/github/Voloodya/multiclass_Unet_segm_models_ensemble_2D/blob/main/multiclass_Unet_segm_models_ensemble_2D.ipynb\" target=\"_parent\"><img src=\"https://colab.research.google.com/assets/colab-badge.svg\" alt=\"Open In Colab\"/></a>"
      ]
    },
    {
      "cell_type": "markdown",
      "metadata": {
        "id": "7dQqmzKm8Ops"
      },
      "source": [
        "## **Мультиклассовая семантическая сегментация с использованием U-Net**\n",
        "\n",
        "Ансамбль сетей для повышения точности глубокого обучения"
      ]
    },
    {
      "cell_type": "code",
      "metadata": {
        "colab": {
          "base_uri": "https://localhost:8080/"
        },
        "id": "CQsZWmZedYWT",
        "outputId": "528e6783-337f-4e43-ea6f-cd9fb92613a5"
      },
      "source": [
        "!python3 --version"
      ],
      "execution_count": null,
      "outputs": [
        {
          "output_type": "stream",
          "text": [
            "Python 3.7.10\n"
          ],
          "name": "stdout"
        }
      ]
    },
    {
      "cell_type": "code",
      "metadata": {
        "colab": {
          "base_uri": "https://localhost:8080/"
        },
        "id": "brIkDfhtsHNi",
        "outputId": "9677d836-33b0-4633-a239-52b10844b500"
      },
      "source": [
        "!pip3 --version"
      ],
      "execution_count": null,
      "outputs": [
        {
          "output_type": "stream",
          "text": [
            "pip 19.3.1 from /usr/local/lib/python3.7/dist-packages/pip (python 3.7)\n"
          ],
          "name": "stdout"
        }
      ]
    },
    {
      "cell_type": "code",
      "metadata": {
        "id": "TFC0aW_mH0GK"
      },
      "source": [
        "!pip install -U -q segmentation-models\n",
        "!pip install -U --pre segmentation-models"
      ],
      "execution_count": null,
      "outputs": []
    },
    {
      "cell_type": "code",
      "metadata": {
        "id": "1faR2QdDIA14"
      },
      "source": [
        "!pip install -U albumentations"
      ],
      "execution_count": null,
      "outputs": []
    },
    {
      "cell_type": "code",
      "metadata": {
        "id": "wZ8rxnVym5TR"
      },
      "source": [
        "#!pip install gast==0.3.2"
      ],
      "execution_count": null,
      "outputs": []
    },
    {
      "cell_type": "code",
      "metadata": {
        "colab": {
          "base_uri": "https://localhost:8080/"
        },
        "id": "Iu4j9vxgAcyA",
        "outputId": "ccb2645c-4d7d-493f-f486-3e60daa7ce66"
      },
      "source": [
        "!pip install -q tensorflow==2.1\n",
        "!pip install -q keras==2.3.1\n",
        "!pip install -q tensorflow-estimator==2.1"
      ],
      "execution_count": 4,
      "outputs": [
        {
          "output_type": "stream",
          "text": [
            "\u001b[K     |████████████████████████████████| 421.8MB 34kB/s \n",
            "\u001b[K     |████████████████████████████████| 3.9MB 35.8MB/s \n",
            "\u001b[K     |████████████████████████████████| 450kB 51.7MB/s \n",
            "\u001b[?25h  Building wheel for gast (setup.py) ... \u001b[?25l\u001b[?25hdone\n",
            "\u001b[31mERROR: tensorflow-probability 0.12.1 has requirement gast>=0.3.2, but you'll have gast 0.2.2 which is incompatible.\u001b[0m\n",
            "\u001b[K     |████████████████████████████████| 378kB 33.9MB/s \n",
            "\u001b[?25h"
          ],
          "name": "stdout"
        }
      ]
    },
    {
      "cell_type": "code",
      "metadata": {
        "colab": {
          "base_uri": "https://localhost:8080/"
        },
        "id": "O3iQNEvv2Go_",
        "outputId": "610756ad-8efd-4974-d2f5-a97d0cdd5ee1"
      },
      "source": [
        "!pip uninstall h5py"
      ],
      "execution_count": 5,
      "outputs": [
        {
          "output_type": "stream",
          "text": [
            "Uninstalling h5py-3.1.0:\n",
            "  Would remove:\n",
            "    /usr/local/lib/python3.7/dist-packages/h5py-3.1.0.dist-info/*\n",
            "    /usr/local/lib/python3.7/dist-packages/h5py.libs/libaec-9c9e97eb.so.0.0.10\n",
            "    /usr/local/lib/python3.7/dist-packages/h5py.libs/libhdf5-00e8fae8.so.200.0.0\n",
            "    /usr/local/lib/python3.7/dist-packages/h5py.libs/libhdf5_hl-383c339f.so.200.0.0\n",
            "    /usr/local/lib/python3.7/dist-packages/h5py.libs/libsz-e7aa62f5.so.2.0.1\n",
            "    /usr/local/lib/python3.7/dist-packages/h5py.libs/libz-eb09ad1d.so.1.2.3\n",
            "    /usr/local/lib/python3.7/dist-packages/h5py/*\n",
            "Proceed (y/n)? y\n",
            "  Successfully uninstalled h5py-3.1.0\n"
          ],
          "name": "stdout"
        }
      ]
    },
    {
      "cell_type": "code",
      "metadata": {
        "colab": {
          "base_uri": "https://localhost:8080/"
        },
        "id": "LNLYfkrbV2zt",
        "outputId": "13b50bec-f8f3-45a6-c91d-84b6cba9b7a5"
      },
      "source": [
        "!pip install -q h5py==2.10.0"
      ],
      "execution_count": 6,
      "outputs": [
        {
          "output_type": "stream",
          "text": [
            "\u001b[?25l\r\u001b[K     |▏                               | 10kB 23.8MB/s eta 0:00:01\r\u001b[K     |▎                               | 20kB 31.2MB/s eta 0:00:01\r\u001b[K     |▍                               | 30kB 35.4MB/s eta 0:00:01\r\u001b[K     |▌                               | 40kB 31.1MB/s eta 0:00:01\r\u001b[K     |▋                               | 51kB 29.5MB/s eta 0:00:01\r\u001b[K     |▊                               | 61kB 31.3MB/s eta 0:00:01\r\u001b[K     |▉                               | 71kB 26.0MB/s eta 0:00:01\r\u001b[K     |█                               | 81kB 27.0MB/s eta 0:00:01\r\u001b[K     |█                               | 92kB 28.6MB/s eta 0:00:01\r\u001b[K     |█▏                              | 102kB 27.0MB/s eta 0:00:01\r\u001b[K     |█▎                              | 112kB 27.0MB/s eta 0:00:01\r\u001b[K     |█▍                              | 122kB 27.0MB/s eta 0:00:01\r\u001b[K     |█▌                              | 133kB 27.0MB/s eta 0:00:01\r\u001b[K     |█▋                              | 143kB 27.0MB/s eta 0:00:01\r\u001b[K     |█▊                              | 153kB 27.0MB/s eta 0:00:01\r\u001b[K     |█▉                              | 163kB 27.0MB/s eta 0:00:01\r\u001b[K     |██                              | 174kB 27.0MB/s eta 0:00:01\r\u001b[K     |██                              | 184kB 27.0MB/s eta 0:00:01\r\u001b[K     |██▏                             | 194kB 27.0MB/s eta 0:00:01\r\u001b[K     |██▎                             | 204kB 27.0MB/s eta 0:00:01\r\u001b[K     |██▍                             | 215kB 27.0MB/s eta 0:00:01\r\u001b[K     |██▌                             | 225kB 27.0MB/s eta 0:00:01\r\u001b[K     |██▋                             | 235kB 27.0MB/s eta 0:00:01\r\u001b[K     |██▊                             | 245kB 27.0MB/s eta 0:00:01\r\u001b[K     |██▉                             | 256kB 27.0MB/s eta 0:00:01\r\u001b[K     |███                             | 266kB 27.0MB/s eta 0:00:01\r\u001b[K     |███                             | 276kB 27.0MB/s eta 0:00:01\r\u001b[K     |███▏                            | 286kB 27.0MB/s eta 0:00:01\r\u001b[K     |███▎                            | 296kB 27.0MB/s eta 0:00:01\r\u001b[K     |███▍                            | 307kB 27.0MB/s eta 0:00:01\r\u001b[K     |███▌                            | 317kB 27.0MB/s eta 0:00:01\r\u001b[K     |███▋                            | 327kB 27.0MB/s eta 0:00:01\r\u001b[K     |███▊                            | 337kB 27.0MB/s eta 0:00:01\r\u001b[K     |███▉                            | 348kB 27.0MB/s eta 0:00:01\r\u001b[K     |████                            | 358kB 27.0MB/s eta 0:00:01\r\u001b[K     |████                            | 368kB 27.0MB/s eta 0:00:01\r\u001b[K     |████▎                           | 378kB 27.0MB/s eta 0:00:01\r\u001b[K     |████▍                           | 389kB 27.0MB/s eta 0:00:01\r\u001b[K     |████▌                           | 399kB 27.0MB/s eta 0:00:01\r\u001b[K     |████▋                           | 409kB 27.0MB/s eta 0:00:01\r\u001b[K     |████▊                           | 419kB 27.0MB/s eta 0:00:01\r\u001b[K     |████▉                           | 430kB 27.0MB/s eta 0:00:01\r\u001b[K     |█████                           | 440kB 27.0MB/s eta 0:00:01\r\u001b[K     |█████                           | 450kB 27.0MB/s eta 0:00:01\r\u001b[K     |█████▏                          | 460kB 27.0MB/s eta 0:00:01\r\u001b[K     |█████▎                          | 471kB 27.0MB/s eta 0:00:01\r\u001b[K     |█████▍                          | 481kB 27.0MB/s eta 0:00:01\r\u001b[K     |█████▌                          | 491kB 27.0MB/s eta 0:00:01\r\u001b[K     |█████▋                          | 501kB 27.0MB/s eta 0:00:01\r\u001b[K     |█████▊                          | 512kB 27.0MB/s eta 0:00:01\r\u001b[K     |█████▉                          | 522kB 27.0MB/s eta 0:00:01\r\u001b[K     |██████                          | 532kB 27.0MB/s eta 0:00:01\r\u001b[K     |██████                          | 542kB 27.0MB/s eta 0:00:01\r\u001b[K     |██████▏                         | 552kB 27.0MB/s eta 0:00:01\r\u001b[K     |██████▎                         | 563kB 27.0MB/s eta 0:00:01\r\u001b[K     |██████▍                         | 573kB 27.0MB/s eta 0:00:01\r\u001b[K     |██████▌                         | 583kB 27.0MB/s eta 0:00:01\r\u001b[K     |██████▋                         | 593kB 27.0MB/s eta 0:00:01\r\u001b[K     |██████▊                         | 604kB 27.0MB/s eta 0:00:01\r\u001b[K     |██████▉                         | 614kB 27.0MB/s eta 0:00:01\r\u001b[K     |███████                         | 624kB 27.0MB/s eta 0:00:01\r\u001b[K     |███████                         | 634kB 27.0MB/s eta 0:00:01\r\u001b[K     |███████▏                        | 645kB 27.0MB/s eta 0:00:01\r\u001b[K     |███████▎                        | 655kB 27.0MB/s eta 0:00:01\r\u001b[K     |███████▍                        | 665kB 27.0MB/s eta 0:00:01\r\u001b[K     |███████▌                        | 675kB 27.0MB/s eta 0:00:01\r\u001b[K     |███████▋                        | 686kB 27.0MB/s eta 0:00:01\r\u001b[K     |███████▊                        | 696kB 27.0MB/s eta 0:00:01\r\u001b[K     |███████▉                        | 706kB 27.0MB/s eta 0:00:01\r\u001b[K     |████████                        | 716kB 27.0MB/s eta 0:00:01\r\u001b[K     |████████                        | 727kB 27.0MB/s eta 0:00:01\r\u001b[K     |████████▏                       | 737kB 27.0MB/s eta 0:00:01\r\u001b[K     |████████▍                       | 747kB 27.0MB/s eta 0:00:01\r\u001b[K     |████████▌                       | 757kB 27.0MB/s eta 0:00:01\r\u001b[K     |████████▋                       | 768kB 27.0MB/s eta 0:00:01\r\u001b[K     |████████▊                       | 778kB 27.0MB/s eta 0:00:01\r\u001b[K     |████████▉                       | 788kB 27.0MB/s eta 0:00:01\r\u001b[K     |█████████                       | 798kB 27.0MB/s eta 0:00:01\r\u001b[K     |█████████                       | 808kB 27.0MB/s eta 0:00:01\r\u001b[K     |█████████▏                      | 819kB 27.0MB/s eta 0:00:01\r\u001b[K     |█████████▎                      | 829kB 27.0MB/s eta 0:00:01\r\u001b[K     |█████████▍                      | 839kB 27.0MB/s eta 0:00:01\r\u001b[K     |█████████▌                      | 849kB 27.0MB/s eta 0:00:01\r\u001b[K     |█████████▋                      | 860kB 27.0MB/s eta 0:00:01\r\u001b[K     |█████████▊                      | 870kB 27.0MB/s eta 0:00:01\r\u001b[K     |█████████▉                      | 880kB 27.0MB/s eta 0:00:01\r\u001b[K     |██████████                      | 890kB 27.0MB/s eta 0:00:01\r\u001b[K     |██████████                      | 901kB 27.0MB/s eta 0:00:01\r\u001b[K     |██████████▏                     | 911kB 27.0MB/s eta 0:00:01\r\u001b[K     |██████████▎                     | 921kB 27.0MB/s eta 0:00:01\r\u001b[K     |██████████▍                     | 931kB 27.0MB/s eta 0:00:01\r\u001b[K     |██████████▌                     | 942kB 27.0MB/s eta 0:00:01\r\u001b[K     |██████████▋                     | 952kB 27.0MB/s eta 0:00:01\r\u001b[K     |██████████▊                     | 962kB 27.0MB/s eta 0:00:01\r\u001b[K     |██████████▉                     | 972kB 27.0MB/s eta 0:00:01\r\u001b[K     |███████████                     | 983kB 27.0MB/s eta 0:00:01\r\u001b[K     |███████████                     | 993kB 27.0MB/s eta 0:00:01\r\u001b[K     |███████████▏                    | 1.0MB 27.0MB/s eta 0:00:01\r\u001b[K     |███████████▎                    | 1.0MB 27.0MB/s eta 0:00:01\r\u001b[K     |███████████▍                    | 1.0MB 27.0MB/s eta 0:00:01\r\u001b[K     |███████████▌                    | 1.0MB 27.0MB/s eta 0:00:01\r\u001b[K     |███████████▋                    | 1.0MB 27.0MB/s eta 0:00:01\r\u001b[K     |███████████▊                    | 1.1MB 27.0MB/s eta 0:00:01\r\u001b[K     |███████████▉                    | 1.1MB 27.0MB/s eta 0:00:01\r\u001b[K     |████████████                    | 1.1MB 27.0MB/s eta 0:00:01\r\u001b[K     |████████████                    | 1.1MB 27.0MB/s eta 0:00:01\r\u001b[K     |████████████▏                   | 1.1MB 27.0MB/s eta 0:00:01\r\u001b[K     |████████████▎                   | 1.1MB 27.0MB/s eta 0:00:01\r\u001b[K     |████████████▌                   | 1.1MB 27.0MB/s eta 0:00:01\r\u001b[K     |████████████▋                   | 1.1MB 27.0MB/s eta 0:00:01\r\u001b[K     |████████████▊                   | 1.1MB 27.0MB/s eta 0:00:01\r\u001b[K     |████████████▉                   | 1.1MB 27.0MB/s eta 0:00:01\r\u001b[K     |█████████████                   | 1.2MB 27.0MB/s eta 0:00:01\r\u001b[K     |█████████████                   | 1.2MB 27.0MB/s eta 0:00:01\r\u001b[K     |█████████████▏                  | 1.2MB 27.0MB/s eta 0:00:01\r\u001b[K     |█████████████▎                  | 1.2MB 27.0MB/s eta 0:00:01\r\u001b[K     |█████████████▍                  | 1.2MB 27.0MB/s eta 0:00:01\r\u001b[K     |█████████████▌                  | 1.2MB 27.0MB/s eta 0:00:01\r\u001b[K     |█████████████▋                  | 1.2MB 27.0MB/s eta 0:00:01\r\u001b[K     |█████████████▊                  | 1.2MB 27.0MB/s eta 0:00:01\r\u001b[K     |█████████████▉                  | 1.2MB 27.0MB/s eta 0:00:01\r\u001b[K     |██████████████                  | 1.2MB 27.0MB/s eta 0:00:01\r\u001b[K     |██████████████                  | 1.3MB 27.0MB/s eta 0:00:01\r\u001b[K     |██████████████▏                 | 1.3MB 27.0MB/s eta 0:00:01\r\u001b[K     |██████████████▎                 | 1.3MB 27.0MB/s eta 0:00:01\r\u001b[K     |██████████████▍                 | 1.3MB 27.0MB/s eta 0:00:01\r\u001b[K     |██████████████▌                 | 1.3MB 27.0MB/s eta 0:00:01\r\u001b[K     |██████████████▋                 | 1.3MB 27.0MB/s eta 0:00:01\r\u001b[K     |██████████████▊                 | 1.3MB 27.0MB/s eta 0:00:01\r\u001b[K     |██████████████▉                 | 1.3MB 27.0MB/s eta 0:00:01\r\u001b[K     |███████████████                 | 1.3MB 27.0MB/s eta 0:00:01\r\u001b[K     |███████████████                 | 1.4MB 27.0MB/s eta 0:00:01\r\u001b[K     |███████████████▏                | 1.4MB 27.0MB/s eta 0:00:01\r\u001b[K     |███████████████▎                | 1.4MB 27.0MB/s eta 0:00:01\r\u001b[K     |███████████████▍                | 1.4MB 27.0MB/s eta 0:00:01\r\u001b[K     |███████████████▌                | 1.4MB 27.0MB/s eta 0:00:01\r\u001b[K     |███████████████▋                | 1.4MB 27.0MB/s eta 0:00:01\r\u001b[K     |███████████████▊                | 1.4MB 27.0MB/s eta 0:00:01\r\u001b[K     |███████████████▉                | 1.4MB 27.0MB/s eta 0:00:01\r\u001b[K     |████████████████                | 1.4MB 27.0MB/s eta 0:00:01\r\u001b[K     |████████████████                | 1.4MB 27.0MB/s eta 0:00:01\r\u001b[K     |████████████████▏               | 1.5MB 27.0MB/s eta 0:00:01\r\u001b[K     |████████████████▎               | 1.5MB 27.0MB/s eta 0:00:01\r\u001b[K     |████████████████▍               | 1.5MB 27.0MB/s eta 0:00:01\r\u001b[K     |████████████████▋               | 1.5MB 27.0MB/s eta 0:00:01\r\u001b[K     |████████████████▊               | 1.5MB 27.0MB/s eta 0:00:01\r\u001b[K     |████████████████▉               | 1.5MB 27.0MB/s eta 0:00:01\r\u001b[K     |█████████████████               | 1.5MB 27.0MB/s eta 0:00:01\r\u001b[K     |█████████████████               | 1.5MB 27.0MB/s eta 0:00:01\r\u001b[K     |█████████████████▏              | 1.5MB 27.0MB/s eta 0:00:01\r\u001b[K     |█████████████████▎              | 1.5MB 27.0MB/s eta 0:00:01\r\u001b[K     |█████████████████▍              | 1.6MB 27.0MB/s eta 0:00:01\r\u001b[K     |█████████████████▌              | 1.6MB 27.0MB/s eta 0:00:01\r\u001b[K     |█████████████████▋              | 1.6MB 27.0MB/s eta 0:00:01\r\u001b[K     |█████████████████▊              | 1.6MB 27.0MB/s eta 0:00:01\r\u001b[K     |█████████████████▉              | 1.6MB 27.0MB/s eta 0:00:01\r\u001b[K     |██████████████████              | 1.6MB 27.0MB/s eta 0:00:01\r\u001b[K     |██████████████████              | 1.6MB 27.0MB/s eta 0:00:01\r\u001b[K     |██████████████████▏             | 1.6MB 27.0MB/s eta 0:00:01\r\u001b[K     |██████████████████▎             | 1.6MB 27.0MB/s eta 0:00:01\r\u001b[K     |██████████████████▍             | 1.6MB 27.0MB/s eta 0:00:01\r\u001b[K     |██████████████████▌             | 1.7MB 27.0MB/s eta 0:00:01\r\u001b[K     |██████████████████▋             | 1.7MB 27.0MB/s eta 0:00:01\r\u001b[K     |██████████████████▊             | 1.7MB 27.0MB/s eta 0:00:01\r\u001b[K     |██████████████████▉             | 1.7MB 27.0MB/s eta 0:00:01\r\u001b[K     |███████████████████             | 1.7MB 27.0MB/s eta 0:00:01\r\u001b[K     |███████████████████             | 1.7MB 27.0MB/s eta 0:00:01\r\u001b[K     |███████████████████▏            | 1.7MB 27.0MB/s eta 0:00:01\r\u001b[K     |███████████████████▎            | 1.7MB 27.0MB/s eta 0:00:01\r\u001b[K     |███████████████████▍            | 1.7MB 27.0MB/s eta 0:00:01\r\u001b[K     |███████████████████▌            | 1.8MB 27.0MB/s eta 0:00:01\r\u001b[K     |███████████████████▋            | 1.8MB 27.0MB/s eta 0:00:01\r\u001b[K     |███████████████████▊            | 1.8MB 27.0MB/s eta 0:00:01\r\u001b[K     |███████████████████▉            | 1.8MB 27.0MB/s eta 0:00:01\r\u001b[K     |████████████████████            | 1.8MB 27.0MB/s eta 0:00:01\r\u001b[K     |████████████████████            | 1.8MB 27.0MB/s eta 0:00:01\r\u001b[K     |████████████████████▏           | 1.8MB 27.0MB/s eta 0:00:01\r\u001b[K     |████████████████████▎           | 1.8MB 27.0MB/s eta 0:00:01\r\u001b[K     |████████████████████▍           | 1.8MB 27.0MB/s eta 0:00:01\r\u001b[K     |████████████████████▌           | 1.8MB 27.0MB/s eta 0:00:01\r\u001b[K     |████████████████████▊           | 1.9MB 27.0MB/s eta 0:00:01\r\u001b[K     |████████████████████▉           | 1.9MB 27.0MB/s eta 0:00:01\r\u001b[K     |█████████████████████           | 1.9MB 27.0MB/s eta 0:00:01\r\u001b[K     |█████████████████████           | 1.9MB 27.0MB/s eta 0:00:01\r\u001b[K     |█████████████████████▏          | 1.9MB 27.0MB/s eta 0:00:01\r\u001b[K     |█████████████████████▎          | 1.9MB 27.0MB/s eta 0:00:01\r\u001b[K     |█████████████████████▍          | 1.9MB 27.0MB/s eta 0:00:01\r\u001b[K     |█████████████████████▌          | 1.9MB 27.0MB/s eta 0:00:01\r\u001b[K     |█████████████████████▋          | 1.9MB 27.0MB/s eta 0:00:01\r\u001b[K     |█████████████████████▊          | 1.9MB 27.0MB/s eta 0:00:01\r\u001b[K     |█████████████████████▉          | 2.0MB 27.0MB/s eta 0:00:01\r\u001b[K     |██████████████████████          | 2.0MB 27.0MB/s eta 0:00:01\r\u001b[K     |██████████████████████          | 2.0MB 27.0MB/s eta 0:00:01\r\u001b[K     |██████████████████████▏         | 2.0MB 27.0MB/s eta 0:00:01\r\u001b[K     |██████████████████████▎         | 2.0MB 27.0MB/s eta 0:00:01\r\u001b[K     |██████████████████████▍         | 2.0MB 27.0MB/s eta 0:00:01\r\u001b[K     |██████████████████████▌         | 2.0MB 27.0MB/s eta 0:00:01\r\u001b[K     |██████████████████████▋         | 2.0MB 27.0MB/s eta 0:00:01\r\u001b[K     |██████████████████████▊         | 2.0MB 27.0MB/s eta 0:00:01\r\u001b[K     |██████████████████████▉         | 2.0MB 27.0MB/s eta 0:00:01\r\u001b[K     |███████████████████████         | 2.1MB 27.0MB/s eta 0:00:01\r\u001b[K     |███████████████████████         | 2.1MB 27.0MB/s eta 0:00:01\r\u001b[K     |███████████████████████▏        | 2.1MB 27.0MB/s eta 0:00:01\r\u001b[K     |███████████████████████▎        | 2.1MB 27.0MB/s eta 0:00:01\r\u001b[K     |███████████████████████▍        | 2.1MB 27.0MB/s eta 0:00:01\r\u001b[K     |███████████████████████▌        | 2.1MB 27.0MB/s eta 0:00:01\r\u001b[K     |███████████████████████▋        | 2.1MB 27.0MB/s eta 0:00:01\r\u001b[K     |███████████████████████▊        | 2.1MB 27.0MB/s eta 0:00:01\r\u001b[K     |███████████████████████▉        | 2.1MB 27.0MB/s eta 0:00:01\r\u001b[K     |████████████████████████        | 2.2MB 27.0MB/s eta 0:00:01\r\u001b[K     |████████████████████████        | 2.2MB 27.0MB/s eta 0:00:01\r\u001b[K     |████████████████████████▏       | 2.2MB 27.0MB/s eta 0:00:01\r\u001b[K     |████████████████████████▎       | 2.2MB 27.0MB/s eta 0:00:01\r\u001b[K     |████████████████████████▍       | 2.2MB 27.0MB/s eta 0:00:01\r\u001b[K     |████████████████████████▌       | 2.2MB 27.0MB/s eta 0:00:01\r\u001b[K     |████████████████████████▋       | 2.2MB 27.0MB/s eta 0:00:01\r\u001b[K     |████████████████████████▊       | 2.2MB 27.0MB/s eta 0:00:01\r\u001b[K     |█████████████████████████       | 2.2MB 27.0MB/s eta 0:00:01\r\u001b[K     |█████████████████████████       | 2.2MB 27.0MB/s eta 0:00:01\r\u001b[K     |█████████████████████████▏      | 2.3MB 27.0MB/s eta 0:00:01\r\u001b[K     |█████████████████████████▎      | 2.3MB 27.0MB/s eta 0:00:01\r\u001b[K     |█████████████████████████▍      | 2.3MB 27.0MB/s eta 0:00:01\r\u001b[K     |█████████████████████████▌      | 2.3MB 27.0MB/s eta 0:00:01\r\u001b[K     |█████████████████████████▋      | 2.3MB 27.0MB/s eta 0:00:01\r\u001b[K     |█████████████████████████▊      | 2.3MB 27.0MB/s eta 0:00:01\r\u001b[K     |█████████████████████████▉      | 2.3MB 27.0MB/s eta 0:00:01\r\u001b[K     |██████████████████████████      | 2.3MB 27.0MB/s eta 0:00:01\r\u001b[K     |██████████████████████████      | 2.3MB 27.0MB/s eta 0:00:01\r\u001b[K     |██████████████████████████▏     | 2.3MB 27.0MB/s eta 0:00:01\r\u001b[K     |██████████████████████████▎     | 2.4MB 27.0MB/s eta 0:00:01\r\u001b[K     |██████████████████████████▍     | 2.4MB 27.0MB/s eta 0:00:01\r\u001b[K     |██████████████████████████▌     | 2.4MB 27.0MB/s eta 0:00:01\r\u001b[K     |██████████████████████████▋     | 2.4MB 27.0MB/s eta 0:00:01\r\u001b[K     |██████████████████████████▊     | 2.4MB 27.0MB/s eta 0:00:01\r\u001b[K     |██████████████████████████▉     | 2.4MB 27.0MB/s eta 0:00:01\r\u001b[K     |███████████████████████████     | 2.4MB 27.0MB/s eta 0:00:01\r\u001b[K     |███████████████████████████     | 2.4MB 27.0MB/s eta 0:00:01\r\u001b[K     |███████████████████████████▏    | 2.4MB 27.0MB/s eta 0:00:01\r\u001b[K     |███████████████████████████▎    | 2.4MB 27.0MB/s eta 0:00:01\r\u001b[K     |███████████████████████████▍    | 2.5MB 27.0MB/s eta 0:00:01\r\u001b[K     |███████████████████████████▌    | 2.5MB 27.0MB/s eta 0:00:01\r\u001b[K     |███████████████████████████▋    | 2.5MB 27.0MB/s eta 0:00:01\r\u001b[K     |███████████████████████████▊    | 2.5MB 27.0MB/s eta 0:00:01\r\u001b[K     |███████████████████████████▉    | 2.5MB 27.0MB/s eta 0:00:01\r\u001b[K     |████████████████████████████    | 2.5MB 27.0MB/s eta 0:00:01\r\u001b[K     |████████████████████████████    | 2.5MB 27.0MB/s eta 0:00:01\r\u001b[K     |████████████████████████████▏   | 2.5MB 27.0MB/s eta 0:00:01\r\u001b[K     |████████████████████████████▎   | 2.5MB 27.0MB/s eta 0:00:01\r\u001b[K     |████████████████████████████▍   | 2.5MB 27.0MB/s eta 0:00:01\r\u001b[K     |████████████████████████████▌   | 2.6MB 27.0MB/s eta 0:00:01\r\u001b[K     |████████████████████████████▋   | 2.6MB 27.0MB/s eta 0:00:01\r\u001b[K     |████████████████████████████▊   | 2.6MB 27.0MB/s eta 0:00:01\r\u001b[K     |████████████████████████████▉   | 2.6MB 27.0MB/s eta 0:00:01\r\u001b[K     |█████████████████████████████   | 2.6MB 27.0MB/s eta 0:00:01\r\u001b[K     |█████████████████████████████▏  | 2.6MB 27.0MB/s eta 0:00:01\r\u001b[K     |█████████████████████████████▎  | 2.6MB 27.0MB/s eta 0:00:01\r\u001b[K     |█████████████████████████████▍  | 2.6MB 27.0MB/s eta 0:00:01\r\u001b[K     |█████████████████████████████▌  | 2.6MB 27.0MB/s eta 0:00:01\r\u001b[K     |█████████████████████████████▋  | 2.7MB 27.0MB/s eta 0:00:01\r\u001b[K     |█████████████████████████████▊  | 2.7MB 27.0MB/s eta 0:00:01\r\u001b[K     |█████████████████████████████▉  | 2.7MB 27.0MB/s eta 0:00:01\r\u001b[K     |██████████████████████████████  | 2.7MB 27.0MB/s eta 0:00:01\r\u001b[K     |██████████████████████████████  | 2.7MB 27.0MB/s eta 0:00:01\r\u001b[K     |██████████████████████████████▏ | 2.7MB 27.0MB/s eta 0:00:01\r\u001b[K     |██████████████████████████████▎ | 2.7MB 27.0MB/s eta 0:00:01\r\u001b[K     |██████████████████████████████▍ | 2.7MB 27.0MB/s eta 0:00:01\r\u001b[K     |██████████████████████████████▌ | 2.7MB 27.0MB/s eta 0:00:01\r\u001b[K     |██████████████████████████████▋ | 2.7MB 27.0MB/s eta 0:00:01\r\u001b[K     |██████████████████████████████▊ | 2.8MB 27.0MB/s eta 0:00:01\r\u001b[K     |██████████████████████████████▉ | 2.8MB 27.0MB/s eta 0:00:01\r\u001b[K     |███████████████████████████████ | 2.8MB 27.0MB/s eta 0:00:01\r\u001b[K     |███████████████████████████████ | 2.8MB 27.0MB/s eta 0:00:01\r\u001b[K     |███████████████████████████████▏| 2.8MB 27.0MB/s eta 0:00:01\r\u001b[K     |███████████████████████████████▎| 2.8MB 27.0MB/s eta 0:00:01\r\u001b[K     |███████████████████████████████▍| 2.8MB 27.0MB/s eta 0:00:01\r\u001b[K     |███████████████████████████████▌| 2.8MB 27.0MB/s eta 0:00:01\r\u001b[K     |███████████████████████████████▋| 2.8MB 27.0MB/s eta 0:00:01\r\u001b[K     |███████████████████████████████▊| 2.8MB 27.0MB/s eta 0:00:01\r\u001b[K     |███████████████████████████████▉| 2.9MB 27.0MB/s eta 0:00:01\r\u001b[K     |████████████████████████████████| 2.9MB 27.0MB/s eta 0:00:01\r\u001b[K     |████████████████████████████████| 2.9MB 27.0MB/s \n",
            "\u001b[?25h"
          ],
          "name": "stdout"
        }
      ]
    },
    {
      "cell_type": "code",
      "metadata": {
        "id": "z3WQ3mTfIcx-",
        "colab": {
          "base_uri": "https://localhost:8080/",
          "height": 989
        },
        "outputId": "45629ed9-cdcd-4f79-9b87-2fd12be6ab6d"
      },
      "source": [
        "#!pip install te"
      ],
      "execution_count": 36,
      "outputs": [
        {
          "output_type": "stream",
          "text": [
            "Collecting te\n",
            "  Downloading https://files.pythonhosted.org/packages/b1/88/1942b54e418492867f56796eae5053d95fe08f6652c3b38a1b4adb7e9684/te-1.0.1-py3-none-any.whl\n",
            "Collecting Click==7.0\n",
            "\u001b[?25l  Downloading https://files.pythonhosted.org/packages/fa/37/45185cb5abbc30d7257104c434fe0b07e5a195a6847506c074527aa599ec/Click-7.0-py2.py3-none-any.whl (81kB)\n",
            "\u001b[K     |████████████████████████████████| 81kB 5.9MB/s \n",
            "\u001b[?25hCollecting certifi==2019.11.28\n",
            "\u001b[?25l  Downloading https://files.pythonhosted.org/packages/b9/63/df50cac98ea0d5b006c55a399c3bf1db9da7b5a24de7890bc9cfd5dd9e99/certifi-2019.11.28-py2.py3-none-any.whl (156kB)\n",
            "\u001b[K     |████████████████████████████████| 163kB 21.4MB/s \n",
            "\u001b[?25hRequirement already satisfied: chardet==3.0.4 in /usr/local/lib/python3.7/dist-packages (from te) (3.0.4)\n",
            "Requirement already satisfied: python-dateutil==2.8.1 in /usr/local/lib/python3.7/dist-packages (from te) (2.8.1)\n",
            "Collecting urllib3==1.25.7\n",
            "\u001b[?25l  Downloading https://files.pythonhosted.org/packages/b4/40/a9837291310ee1ccc242ceb6ebfd9eb21539649f193a7c8c86ba15b98539/urllib3-1.25.7-py2.py3-none-any.whl (125kB)\n",
            "\u001b[K     |████████████████████████████████| 133kB 22.1MB/s \n",
            "\u001b[?25hCollecting pendulum==2.0.5\n",
            "\u001b[?25l  Downloading https://files.pythonhosted.org/packages/0b/db/eadff08d7a50a5a28d13efba6a029868f72b662f7cb30079f4af56a8de02/pendulum-2.0.5-cp37-cp37m-manylinux1_x86_64.whl (141kB)\n",
            "\u001b[K     |████████████████████████████████| 143kB 24.4MB/s \n",
            "\u001b[?25hCollecting pytzdata==2019.3\n",
            "\u001b[?25l  Downloading https://files.pythonhosted.org/packages/7f/f9/cdd39831b0465285c02ed90cfbf0db25bb951cb2a35ded0e69222375bea3/pytzdata-2019.3-py2.py3-none-any.whl (489kB)\n",
            "\u001b[K     |████████████████████████████████| 491kB 23.3MB/s \n",
            "\u001b[?25hCollecting idna==2.8\n",
            "\u001b[?25l  Downloading https://files.pythonhosted.org/packages/14/2c/cd551d81dbe15200be1cf41cd03869a46fe7226e7450af7a6545bfc474c9/idna-2.8-py2.py3-none-any.whl (58kB)\n",
            "\u001b[K     |████████████████████████████████| 61kB 5.8MB/s \n",
            "\u001b[?25hCollecting six==1.13.0\n",
            "  Downloading https://files.pythonhosted.org/packages/65/26/32b8464df2a97e6dd1b656ed26b2c194606c16fe163c695a992b36c11cdf/six-1.13.0-py2.py3-none-any.whl\n",
            "Collecting requests==2.22.0\n",
            "\u001b[?25l  Downloading https://files.pythonhosted.org/packages/51/bd/23c926cd341ea6b7dd0b2a00aba99ae0f828be89d72b2190f27c11d4b7fb/requests-2.22.0-py2.py3-none-any.whl (57kB)\n",
            "\u001b[K     |████████████████████████████████| 61kB 5.7MB/s \n",
            "\u001b[31mERROR: tensorflow-probability 0.12.1 has requirement gast>=0.3.2, but you'll have gast 0.2.2 which is incompatible.\u001b[0m\n",
            "\u001b[31mERROR: google-colab 1.0.0 has requirement requests~=2.23.0, but you'll have requests 2.22.0 which is incompatible.\u001b[0m\n",
            "\u001b[31mERROR: google-colab 1.0.0 has requirement six~=1.15.0, but you'll have six 1.13.0 which is incompatible.\u001b[0m\n",
            "\u001b[31mERROR: datascience 0.10.6 has requirement folium==0.2.1, but you'll have folium 0.8.3 which is incompatible.\u001b[0m\n",
            "\u001b[?25hInstalling collected packages: Click, certifi, urllib3, pytzdata, pendulum, idna, six, requests, te\n",
            "  Found existing installation: click 7.1.2\n",
            "    Uninstalling click-7.1.2:\n",
            "      Successfully uninstalled click-7.1.2\n",
            "  Found existing installation: certifi 2020.12.5\n",
            "    Uninstalling certifi-2020.12.5:\n",
            "      Successfully uninstalled certifi-2020.12.5\n",
            "  Found existing installation: urllib3 1.24.3\n",
            "    Uninstalling urllib3-1.24.3:\n",
            "      Successfully uninstalled urllib3-1.24.3\n",
            "  Found existing installation: idna 2.10\n",
            "    Uninstalling idna-2.10:\n",
            "      Successfully uninstalled idna-2.10\n",
            "  Found existing installation: six 1.15.0\n",
            "    Uninstalling six-1.15.0:\n",
            "      Successfully uninstalled six-1.15.0\n",
            "  Found existing installation: requests 2.23.0\n",
            "    Uninstalling requests-2.23.0:\n",
            "      Successfully uninstalled requests-2.23.0\n",
            "Successfully installed Click-7.0 certifi-2019.11.28 idna-2.8 pendulum-2.0.5 pytzdata-2019.3 requests-2.22.0 six-1.13.0 te-1.0.1 urllib3-1.25.7\n"
          ],
          "name": "stdout"
        },
        {
          "output_type": "display_data",
          "data": {
            "application/vnd.colab-display-data+json": {
              "pip_warning": {
                "packages": [
                  "certifi",
                  "idna",
                  "requests",
                  "six",
                  "urllib3"
                ]
              }
            }
          },
          "metadata": {
            "tags": []
          }
        }
      ]
    },
    {
      "cell_type": "code",
      "metadata": {
        "colab": {
          "base_uri": "https://localhost:8080/"
        },
        "id": "a3qmlmj6JbaT",
        "outputId": "391769f9-b410-4cbe-86fe-7e1aa42dd49a"
      },
      "source": [
        "import tensorflow as tf\n",
        "print(tf.__version__)"
      ],
      "execution_count": 7,
      "outputs": [
        {
          "output_type": "stream",
          "text": [
            "2.1.0\n"
          ],
          "name": "stdout"
        }
      ]
    },
    {
      "cell_type": "code",
      "metadata": {
        "colab": {
          "base_uri": "https://localhost:8080/",
          "height": 340
        },
        "id": "Nj9UHmOmK7rZ",
        "outputId": "249692ec-8829-4717-d44a-91d6b4cdb9f3"
      },
      "source": [
        "import keras as keras\n",
        "print(keras.__version__)"
      ],
      "execution_count": 7,
      "outputs": [
        {
          "output_type": "stream",
          "text": [
            "Using TensorFlow backend.\n"
          ],
          "name": "stderr"
        },
        {
          "output_type": "error",
          "ename": "AttributeError",
          "evalue": "ignored",
          "traceback": [
            "\u001b[0;31m---------------------------------------------------------------------------\u001b[0m",
            "\u001b[0;31mAttributeError\u001b[0m                            Traceback (most recent call last)",
            "\u001b[0;32m<ipython-input-7-3e8f8f1671c6>\u001b[0m in \u001b[0;36m<module>\u001b[0;34m()\u001b[0m\n\u001b[0;32m----> 1\u001b[0;31m \u001b[0;32mimport\u001b[0m \u001b[0mkeras\u001b[0m \u001b[0;32mas\u001b[0m \u001b[0mkeras\u001b[0m\u001b[0;34m\u001b[0m\u001b[0;34m\u001b[0m\u001b[0m\n\u001b[0m\u001b[1;32m      2\u001b[0m \u001b[0mprint\u001b[0m\u001b[0;34m(\u001b[0m\u001b[0mkeras\u001b[0m\u001b[0;34m.\u001b[0m\u001b[0m__version__\u001b[0m\u001b[0;34m)\u001b[0m\u001b[0;34m\u001b[0m\u001b[0;34m\u001b[0m\u001b[0m\n",
            "\u001b[0;32m/usr/local/lib/python3.7/dist-packages/keras/__init__.py\u001b[0m in \u001b[0;36m<module>\u001b[0;34m()\u001b[0m\n\u001b[1;32m      1\u001b[0m \u001b[0;32mfrom\u001b[0m \u001b[0m__future__\u001b[0m \u001b[0;32mimport\u001b[0m \u001b[0mabsolute_import\u001b[0m\u001b[0;34m\u001b[0m\u001b[0;34m\u001b[0m\u001b[0m\n\u001b[1;32m      2\u001b[0m \u001b[0;34m\u001b[0m\u001b[0m\n\u001b[0;32m----> 3\u001b[0;31m \u001b[0;32mfrom\u001b[0m \u001b[0;34m.\u001b[0m \u001b[0;32mimport\u001b[0m \u001b[0mutils\u001b[0m\u001b[0;34m\u001b[0m\u001b[0;34m\u001b[0m\u001b[0m\n\u001b[0m\u001b[1;32m      4\u001b[0m \u001b[0;32mfrom\u001b[0m \u001b[0;34m.\u001b[0m \u001b[0;32mimport\u001b[0m \u001b[0mactivations\u001b[0m\u001b[0;34m\u001b[0m\u001b[0;34m\u001b[0m\u001b[0m\n\u001b[1;32m      5\u001b[0m \u001b[0;32mfrom\u001b[0m \u001b[0;34m.\u001b[0m \u001b[0;32mimport\u001b[0m \u001b[0mapplications\u001b[0m\u001b[0;34m\u001b[0m\u001b[0;34m\u001b[0m\u001b[0m\n",
            "\u001b[0;32m/usr/local/lib/python3.7/dist-packages/keras/utils/__init__.py\u001b[0m in \u001b[0;36m<module>\u001b[0;34m()\u001b[0m\n\u001b[1;32m     24\u001b[0m \u001b[0;32mfrom\u001b[0m \u001b[0;34m.\u001b[0m\u001b[0mlayer_utils\u001b[0m \u001b[0;32mimport\u001b[0m \u001b[0mget_source_inputs\u001b[0m\u001b[0;34m\u001b[0m\u001b[0;34m\u001b[0m\u001b[0m\n\u001b[1;32m     25\u001b[0m \u001b[0;32mfrom\u001b[0m \u001b[0;34m.\u001b[0m\u001b[0mlayer_utils\u001b[0m \u001b[0;32mimport\u001b[0m \u001b[0mprint_summary\u001b[0m\u001b[0;34m\u001b[0m\u001b[0;34m\u001b[0m\u001b[0m\n\u001b[0;32m---> 26\u001b[0;31m \u001b[0;32mfrom\u001b[0m \u001b[0;34m.\u001b[0m\u001b[0mvis_utils\u001b[0m \u001b[0;32mimport\u001b[0m \u001b[0mmodel_to_dot\u001b[0m\u001b[0;34m\u001b[0m\u001b[0;34m\u001b[0m\u001b[0m\n\u001b[0m\u001b[1;32m     27\u001b[0m \u001b[0;32mfrom\u001b[0m \u001b[0;34m.\u001b[0m\u001b[0mvis_utils\u001b[0m \u001b[0;32mimport\u001b[0m \u001b[0mplot_model\u001b[0m\u001b[0;34m\u001b[0m\u001b[0;34m\u001b[0m\u001b[0m\n\u001b[1;32m     28\u001b[0m \u001b[0;32mfrom\u001b[0m \u001b[0;34m.\u001b[0m\u001b[0mnp_utils\u001b[0m \u001b[0;32mimport\u001b[0m \u001b[0mto_categorical\u001b[0m\u001b[0;34m\u001b[0m\u001b[0;34m\u001b[0m\u001b[0m\n",
            "\u001b[0;32m/usr/local/lib/python3.7/dist-packages/keras/utils/vis_utils.py\u001b[0m in \u001b[0;36m<module>\u001b[0;34m()\u001b[0m\n\u001b[1;32m      5\u001b[0m \u001b[0;34m\u001b[0m\u001b[0m\n\u001b[1;32m      6\u001b[0m \u001b[0;32mimport\u001b[0m \u001b[0mos\u001b[0m\u001b[0;34m\u001b[0m\u001b[0;34m\u001b[0m\u001b[0m\n\u001b[0;32m----> 7\u001b[0;31m \u001b[0;32mfrom\u001b[0m \u001b[0;34m.\u001b[0m\u001b[0;34m.\u001b[0m\u001b[0mmodels\u001b[0m \u001b[0;32mimport\u001b[0m \u001b[0mModel\u001b[0m\u001b[0;34m\u001b[0m\u001b[0;34m\u001b[0m\u001b[0m\n\u001b[0m\u001b[1;32m      8\u001b[0m \u001b[0;32mfrom\u001b[0m \u001b[0;34m.\u001b[0m\u001b[0;34m.\u001b[0m\u001b[0mlayers\u001b[0m\u001b[0;34m.\u001b[0m\u001b[0mwrappers\u001b[0m \u001b[0;32mimport\u001b[0m \u001b[0mWrapper\u001b[0m\u001b[0;34m\u001b[0m\u001b[0;34m\u001b[0m\u001b[0m\n\u001b[1;32m      9\u001b[0m \u001b[0;34m\u001b[0m\u001b[0m\n",
            "\u001b[0;32m/usr/local/lib/python3.7/dist-packages/keras/models.py\u001b[0m in \u001b[0;36m<module>\u001b[0;34m()\u001b[0m\n\u001b[1;32m      8\u001b[0m \u001b[0;32mfrom\u001b[0m \u001b[0;34m.\u001b[0m\u001b[0mutils\u001b[0m\u001b[0;34m.\u001b[0m\u001b[0mgeneric_utils\u001b[0m \u001b[0;32mimport\u001b[0m \u001b[0mhas_arg\u001b[0m\u001b[0;34m\u001b[0m\u001b[0;34m\u001b[0m\u001b[0m\n\u001b[1;32m      9\u001b[0m \u001b[0;32mfrom\u001b[0m \u001b[0;34m.\u001b[0m\u001b[0mutils\u001b[0m\u001b[0;34m.\u001b[0m\u001b[0mgeneric_utils\u001b[0m \u001b[0;32mimport\u001b[0m \u001b[0mto_list\u001b[0m\u001b[0;34m\u001b[0m\u001b[0;34m\u001b[0m\u001b[0m\n\u001b[0;32m---> 10\u001b[0;31m \u001b[0;32mfrom\u001b[0m \u001b[0;34m.\u001b[0m\u001b[0mengine\u001b[0m\u001b[0;34m.\u001b[0m\u001b[0minput_layer\u001b[0m \u001b[0;32mimport\u001b[0m \u001b[0mInput\u001b[0m\u001b[0;34m\u001b[0m\u001b[0;34m\u001b[0m\u001b[0m\n\u001b[0m\u001b[1;32m     11\u001b[0m \u001b[0;32mfrom\u001b[0m \u001b[0;34m.\u001b[0m\u001b[0mengine\u001b[0m\u001b[0;34m.\u001b[0m\u001b[0minput_layer\u001b[0m \u001b[0;32mimport\u001b[0m \u001b[0mInputLayer\u001b[0m\u001b[0;34m\u001b[0m\u001b[0;34m\u001b[0m\u001b[0m\n\u001b[1;32m     12\u001b[0m \u001b[0;32mfrom\u001b[0m \u001b[0;34m.\u001b[0m\u001b[0mengine\u001b[0m\u001b[0;34m.\u001b[0m\u001b[0mtraining\u001b[0m \u001b[0;32mimport\u001b[0m \u001b[0mModel\u001b[0m\u001b[0;34m\u001b[0m\u001b[0;34m\u001b[0m\u001b[0m\n",
            "\u001b[0;32m/usr/local/lib/python3.7/dist-packages/keras/engine/__init__.py\u001b[0m in \u001b[0;36m<module>\u001b[0;34m()\u001b[0m\n\u001b[1;32m      1\u001b[0m \u001b[0;31m# note: `Node` is an internal class,\u001b[0m\u001b[0;34m\u001b[0m\u001b[0;34m\u001b[0m\u001b[0;34m\u001b[0m\u001b[0m\n\u001b[1;32m      2\u001b[0m \u001b[0;31m# it isn't meant to be used by Keras users.\u001b[0m\u001b[0;34m\u001b[0m\u001b[0;34m\u001b[0m\u001b[0;34m\u001b[0m\u001b[0m\n\u001b[0;32m----> 3\u001b[0;31m \u001b[0;32mfrom\u001b[0m \u001b[0;34m.\u001b[0m\u001b[0minput_layer\u001b[0m \u001b[0;32mimport\u001b[0m \u001b[0mInput\u001b[0m\u001b[0;34m\u001b[0m\u001b[0;34m\u001b[0m\u001b[0m\n\u001b[0m\u001b[1;32m      4\u001b[0m \u001b[0;32mfrom\u001b[0m \u001b[0;34m.\u001b[0m\u001b[0minput_layer\u001b[0m \u001b[0;32mimport\u001b[0m \u001b[0mInputLayer\u001b[0m\u001b[0;34m\u001b[0m\u001b[0;34m\u001b[0m\u001b[0m\n\u001b[1;32m      5\u001b[0m \u001b[0;32mfrom\u001b[0m \u001b[0;34m.\u001b[0m\u001b[0mbase_layer\u001b[0m \u001b[0;32mimport\u001b[0m \u001b[0mInputSpec\u001b[0m\u001b[0;34m\u001b[0m\u001b[0;34m\u001b[0m\u001b[0m\n",
            "\u001b[0;32m/usr/local/lib/python3.7/dist-packages/keras/engine/input_layer.py\u001b[0m in \u001b[0;36m<module>\u001b[0;34m()\u001b[0m\n\u001b[1;32m      5\u001b[0m \u001b[0;32mfrom\u001b[0m \u001b[0m__future__\u001b[0m \u001b[0;32mimport\u001b[0m \u001b[0mdivision\u001b[0m\u001b[0;34m\u001b[0m\u001b[0;34m\u001b[0m\u001b[0m\n\u001b[1;32m      6\u001b[0m \u001b[0;34m\u001b[0m\u001b[0m\n\u001b[0;32m----> 7\u001b[0;31m \u001b[0;32mfrom\u001b[0m \u001b[0;34m.\u001b[0m\u001b[0mbase_layer\u001b[0m \u001b[0;32mimport\u001b[0m \u001b[0mLayer\u001b[0m\u001b[0;34m\u001b[0m\u001b[0;34m\u001b[0m\u001b[0m\n\u001b[0m\u001b[1;32m      8\u001b[0m \u001b[0;32mfrom\u001b[0m \u001b[0;34m.\u001b[0m\u001b[0mbase_layer\u001b[0m \u001b[0;32mimport\u001b[0m \u001b[0mNode\u001b[0m\u001b[0;34m\u001b[0m\u001b[0;34m\u001b[0m\u001b[0m\n\u001b[1;32m      9\u001b[0m \u001b[0;32mfrom\u001b[0m \u001b[0;34m.\u001b[0m\u001b[0;34m.\u001b[0m \u001b[0;32mimport\u001b[0m \u001b[0mbackend\u001b[0m \u001b[0;32mas\u001b[0m \u001b[0mK\u001b[0m\u001b[0;34m\u001b[0m\u001b[0;34m\u001b[0m\u001b[0m\n",
            "\u001b[0;32m/usr/local/lib/python3.7/dist-packages/keras/engine/base_layer.py\u001b[0m in \u001b[0;36m<module>\u001b[0;34m()\u001b[0m\n\u001b[1;32m     10\u001b[0m \u001b[0;34m\u001b[0m\u001b[0m\n\u001b[1;32m     11\u001b[0m \u001b[0;32mfrom\u001b[0m \u001b[0;34m.\u001b[0m\u001b[0;34m.\u001b[0m \u001b[0;32mimport\u001b[0m \u001b[0mbackend\u001b[0m \u001b[0;32mas\u001b[0m \u001b[0mK\u001b[0m\u001b[0;34m\u001b[0m\u001b[0;34m\u001b[0m\u001b[0m\n\u001b[0;32m---> 12\u001b[0;31m \u001b[0;32mfrom\u001b[0m \u001b[0;34m.\u001b[0m\u001b[0;34m.\u001b[0m \u001b[0;32mimport\u001b[0m \u001b[0minitializers\u001b[0m\u001b[0;34m\u001b[0m\u001b[0;34m\u001b[0m\u001b[0m\n\u001b[0m\u001b[1;32m     13\u001b[0m \u001b[0;32mfrom\u001b[0m \u001b[0;34m.\u001b[0m\u001b[0;34m.\u001b[0m\u001b[0mutils\u001b[0m\u001b[0;34m.\u001b[0m\u001b[0mlayer_utils\u001b[0m \u001b[0;32mimport\u001b[0m \u001b[0mcount_params\u001b[0m\u001b[0;34m\u001b[0m\u001b[0;34m\u001b[0m\u001b[0m\n\u001b[1;32m     14\u001b[0m \u001b[0;32mfrom\u001b[0m \u001b[0;34m.\u001b[0m\u001b[0;34m.\u001b[0m\u001b[0mutils\u001b[0m\u001b[0;34m.\u001b[0m\u001b[0mgeneric_utils\u001b[0m \u001b[0;32mimport\u001b[0m \u001b[0mhas_arg\u001b[0m\u001b[0;34m\u001b[0m\u001b[0;34m\u001b[0m\u001b[0m\n",
            "\u001b[0;32m/usr/local/lib/python3.7/dist-packages/keras/initializers/__init__.py\u001b[0m in \u001b[0;36m<module>\u001b[0;34m()\u001b[0m\n\u001b[1;32m    122\u001b[0m \u001b[0;31m# from ALL_OBJECTS. We make no guarantees as to whether these objects will\u001b[0m\u001b[0;34m\u001b[0m\u001b[0;34m\u001b[0m\u001b[0;34m\u001b[0m\u001b[0m\n\u001b[1;32m    123\u001b[0m \u001b[0;31m# using their correct version.\u001b[0m\u001b[0;34m\u001b[0m\u001b[0;34m\u001b[0m\u001b[0;34m\u001b[0m\u001b[0m\n\u001b[0;32m--> 124\u001b[0;31m \u001b[0mpopulate_deserializable_objects\u001b[0m\u001b[0;34m(\u001b[0m\u001b[0;34m)\u001b[0m\u001b[0;34m\u001b[0m\u001b[0;34m\u001b[0m\u001b[0m\n\u001b[0m\u001b[1;32m    125\u001b[0m \u001b[0mglobals\u001b[0m\u001b[0;34m(\u001b[0m\u001b[0;34m)\u001b[0m\u001b[0;34m.\u001b[0m\u001b[0mupdate\u001b[0m\u001b[0;34m(\u001b[0m\u001b[0mLOCAL\u001b[0m\u001b[0;34m.\u001b[0m\u001b[0mALL_OBJECTS\u001b[0m\u001b[0;34m)\u001b[0m\u001b[0;34m\u001b[0m\u001b[0;34m\u001b[0m\u001b[0m\n\u001b[1;32m    126\u001b[0m \u001b[0;34m\u001b[0m\u001b[0m\n",
            "\u001b[0;32m/usr/local/lib/python3.7/dist-packages/keras/initializers/__init__.py\u001b[0m in \u001b[0;36mpopulate_deserializable_objects\u001b[0;34m()\u001b[0m\n\u001b[1;32m     47\u001b[0m \u001b[0;34m\u001b[0m\u001b[0m\n\u001b[1;32m     48\u001b[0m   \u001b[0mLOCAL\u001b[0m\u001b[0;34m.\u001b[0m\u001b[0mALL_OBJECTS\u001b[0m \u001b[0;34m=\u001b[0m \u001b[0;34m{\u001b[0m\u001b[0;34m}\u001b[0m\u001b[0;34m\u001b[0m\u001b[0;34m\u001b[0m\u001b[0m\n\u001b[0;32m---> 49\u001b[0;31m   \u001b[0mLOCAL\u001b[0m\u001b[0;34m.\u001b[0m\u001b[0mGENERATED_WITH_V2\u001b[0m \u001b[0;34m=\u001b[0m \u001b[0mtf\u001b[0m\u001b[0;34m.\u001b[0m\u001b[0m__internal__\u001b[0m\u001b[0;34m.\u001b[0m\u001b[0mtf2\u001b[0m\u001b[0;34m.\u001b[0m\u001b[0menabled\u001b[0m\u001b[0;34m(\u001b[0m\u001b[0;34m)\u001b[0m\u001b[0;34m\u001b[0m\u001b[0;34m\u001b[0m\u001b[0m\n\u001b[0m\u001b[1;32m     50\u001b[0m \u001b[0;34m\u001b[0m\u001b[0m\n\u001b[1;32m     51\u001b[0m   \u001b[0;31m# Compatibility aliases (need to exist in both V1 and V2).\u001b[0m\u001b[0;34m\u001b[0m\u001b[0;34m\u001b[0m\u001b[0;34m\u001b[0m\u001b[0m\n",
            "\u001b[0;31mAttributeError\u001b[0m: module 'tensorflow_core.compat.v2' has no attribute '__internal__'"
          ]
        }
      ]
    },
    {
      "cell_type": "code",
      "metadata": {
        "id": "Pu5VRHaChize"
      },
      "source": [
        "#!pip uninstall tensorflow -y\n",
        "#!pip uninstall tensorflow-estimator -y\n",
        "#!pip install tensorflow-estimator==2.1.0"
      ],
      "execution_count": null,
      "outputs": []
    },
    {
      "cell_type": "code",
      "metadata": {
        "id": "iuiPmRW8J1Se"
      },
      "source": [
        "#!pip install tensorflow==2.1.0"
      ],
      "execution_count": null,
      "outputs": []
    },
    {
      "cell_type": "code",
      "metadata": {
        "id": "htVxXrhmKCUh"
      },
      "source": [
        "#!pip install keras==2.3.1"
      ],
      "execution_count": null,
      "outputs": []
    },
    {
      "cell_type": "code",
      "metadata": {
        "id": "yn34_ii3offd",
        "colab": {
          "base_uri": "https://localhost:8080/"
        },
        "outputId": "1d02523c-0921-4c18-d7c4-057cd72c31b3"
      },
      "source": [
        "#!pip install patchify"
      ],
      "execution_count": 8,
      "outputs": [
        {
          "output_type": "stream",
          "text": [
            "Collecting patchify\n",
            "  Downloading https://files.pythonhosted.org/packages/00/ce/d76647d95aad98d5532b5d25801dedda788c6b5d4c7457d30ae3612132af/patchify-0.2.3-py3-none-any.whl\n",
            "Requirement already satisfied: numpy<2,>=1 in /usr/local/lib/python3.7/dist-packages (from patchify) (1.19.5)\n",
            "Installing collected packages: patchify\n",
            "Successfully installed patchify-0.2.3\n"
          ],
          "name": "stdout"
        }
      ]
    },
    {
      "cell_type": "code",
      "metadata": {
        "colab": {
          "base_uri": "https://localhost:8080/"
        },
        "id": "-hNh_cRVeQMu",
        "outputId": "fa610add-ab0e-412f-fae0-ebad82aba42a"
      },
      "source": [
        "!pip install -U -q scikit-learn"
      ],
      "execution_count": 9,
      "outputs": [
        {
          "output_type": "stream",
          "text": [
            "\u001b[K     |████████████████████████████████| 22.3MB 1.5MB/s \n",
            "\u001b[?25h"
          ],
          "name": "stdout"
        }
      ]
    },
    {
      "cell_type": "code",
      "metadata": {
        "id": "1HU6F-PiBrsY"
      },
      "source": [
        "import os\n",
        "os.environ['CUDA_VISIBLE_DEVICES'] = '0'\n",
        "os.environ[\"SM_FRAMEWORK\"] = \"tf.keras\""
      ],
      "execution_count": 10,
      "outputs": []
    },
    {
      "cell_type": "code",
      "metadata": {
        "id": "EVT8dCSu8P1Z",
        "colab": {
          "base_uri": "https://localhost:8080/"
        },
        "outputId": "26e51c16-068b-4dad-925c-f703444accc3"
      },
      "source": [
        "import tensorflow as tf\n",
        "import segmentation_models as sm\n",
        "import glob\n",
        "import cv2\n",
        "import numpy as np\n",
        "from matplotlib import pyplot as plt\n",
        "#import keras \n",
        "from tensorflow import keras\n",
        "\n",
        "#from keras import normalize\n",
        "from tensorflow.keras.utils import normalize\n",
        "#from keras.metrics import MeanIoU\n",
        "from tensorflow.keras.metrics import MeanIoU"
      ],
      "execution_count": 11,
      "outputs": [
        {
          "output_type": "stream",
          "text": [
            "Segmentation Models: using `tf.keras` framework.\n"
          ],
          "name": "stdout"
        }
      ]
    },
    {
      "cell_type": "code",
      "metadata": {
        "id": "mwHFQTdB58z2"
      },
      "source": [
        "#pip install patchify\n",
        "#patchify библиотека для работы с большими изображениями\n",
        "# Можно использовать patchify, чтобы разбить большие объемы на меньшие для обучения\n",
        "# а также собрать исправления после предсказания.\n",
        "from patchify import patchify, unpatchify"
      ],
      "execution_count": 12,
      "outputs": []
    },
    {
      "cell_type": "markdown",
      "metadata": {
        "id": "iPipuEQymtwU"
      },
      "source": [
        "**Монтирование диска**"
      ]
    },
    {
      "cell_type": "code",
      "metadata": {
        "colab": {
          "base_uri": "https://localhost:8080/"
        },
        "id": "0NVxeqhJmx-O",
        "outputId": "c30ea407-2da5-45ca-cc2b-0292468423dc"
      },
      "source": [
        "from google.colab import drive\n",
        "drive.mount('/content/gdrive',force_remount=True)"
      ],
      "execution_count": 13,
      "outputs": [
        {
          "output_type": "stream",
          "text": [
            "Mounted at /content/gdrive\n"
          ],
          "name": "stdout"
        }
      ]
    },
    {
      "cell_type": "markdown",
      "metadata": {
        "id": "jZR7iX9ynNfJ"
      },
      "source": [
        "**Копирование с монтированного диска на машину**"
      ]
    },
    {
      "cell_type": "code",
      "metadata": {
        "colab": {
          "base_uri": "https://localhost:8080/"
        },
        "id": "sjDRFS5uPQD5",
        "outputId": "2065cb12-00c8-48a6-8f34-8d4fed9b8693"
      },
      "source": [
        "!pwd"
      ],
      "execution_count": null,
      "outputs": [
        {
          "output_type": "stream",
          "text": [
            "/content\n"
          ],
          "name": "stdout"
        }
      ]
    },
    {
      "cell_type": "code",
      "metadata": {
        "colab": {
          "base_uri": "https://localhost:8080/"
        },
        "id": "yjnxsFm6PTfD",
        "outputId": "475019a0-0c0d-4e28-da08-bea1210c125c"
      },
      "source": [
        "!mkdir sandstone\n",
        "!mkdir Train_masks"
      ],
      "execution_count": null,
      "outputs": [
        {
          "output_type": "stream",
          "text": [
            "mkdir: cannot create directory ‘Train_masks’: File exists\n"
          ],
          "name": "stdout"
        }
      ]
    },
    {
      "cell_type": "code",
      "metadata": {
        "id": "aF9Lr8ywNl2W"
      },
      "source": [
        "!cp /content/gdrive/\"My Drive\"/Image_dataset/all_images/Train_images/*.tif '/content/Train_images/'\n",
        "!cp  /content/gdrive/\"My Drive\"/Image_dataset/all_images/Train_masks/*.tif '/content/Train_masks/'"
      ],
      "execution_count": null,
      "outputs": []
    },
    {
      "cell_type": "markdown",
      "metadata": {
        "id": "60ISXBvIQFMZ"
      },
      "source": [
        "**Копирование с машины на смонтированный диск**"
      ]
    },
    {
      "cell_type": "code",
      "metadata": {
        "colab": {
          "base_uri": "https://localhost:8080/"
        },
        "id": "V22sWFshnOHm",
        "outputId": "f504600a-c16c-4aae-caac-b5fd45146178"
      },
      "source": [
        "!cp '...' /content/gdrive/\"My Drive\"/...\n",
        "!cp '...' /content/gdrive/\"My Drive\"/..."
      ],
      "execution_count": null,
      "outputs": [
        {
          "output_type": "stream",
          "text": [
            "cp: cannot stat '/Train_images': No such file or directory\n",
            "cp: cannot stat '/Train_masks': No such file or directory\n"
          ],
          "name": "stdout"
        }
      ]
    },
    {
      "cell_type": "markdown",
      "metadata": {
        "id": "7etYGPUh85Ft"
      },
      "source": [
        "Resizing images, if needed"
      ]
    },
    {
      "cell_type": "code",
      "metadata": {
        "id": "4wV_jLwa87wj"
      },
      "source": [
        "SIZE_X = 128 \n",
        "SIZE_Y = 128"
      ],
      "execution_count": 14,
      "outputs": []
    },
    {
      "cell_type": "code",
      "metadata": {
        "id": "_dk_iaH78_h7"
      },
      "source": [
        "n_classes=4 #Number of classes for segmentation"
      ],
      "execution_count": 15,
      "outputs": []
    },
    {
      "cell_type": "code",
      "metadata": {
        "id": "ir8XZMjJUwsd"
      },
      "source": [
        "image_directory='/content/Train_images/'\n",
        "mask_directory='/content/Train_masks/'"
      ],
      "execution_count": null,
      "outputs": []
    },
    {
      "cell_type": "code",
      "metadata": {
        "id": "J9m8RpdbVNHG"
      },
      "source": [
        "images=os.listdir(image_directory)\n",
        "masks_images=os.listdir(mask_directory)"
      ],
      "execution_count": null,
      "outputs": []
    },
    {
      "cell_type": "markdown",
      "metadata": {
        "id": "-lSQtssH9Pxm"
      },
      "source": [
        "Сохранение информации об обучающем образе в виде списка"
      ]
    },
    {
      "cell_type": "code",
      "metadata": {
        "id": "doJdBIbZ9R_3"
      },
      "source": [
        "train_images = []"
      ],
      "execution_count": 16,
      "outputs": []
    },
    {
      "cell_type": "markdown",
      "metadata": {
        "id": "to5Unk_Z9Vrn"
      },
      "source": [
        ""
      ]
    },
    {
      "cell_type": "code",
      "metadata": {
        "id": "RA8jmRLS9Ysf"
      },
      "source": [
        "for directory_path in glob.glob('/content/gdrive/My Drive/Image_dataset/sandstone/images_train_128_patches_stone'):\n",
        "    for img_path in sorted(glob.glob(os.path.join(directory_path, \"*.tif\"))):\n",
        "        #Считывание изображения в (RGB-1)\n",
        "        img = cv2.imread(img_path, 1)       \n",
        "        #img = cv2.resize(img, (SIZE_Y, SIZE_X))\n",
        "        #img = cv2.cvtColor(img, cv2.COLOR_RGB2BGR)\n",
        "        train_images.append(img)"
      ],
      "execution_count": 17,
      "outputs": []
    },
    {
      "cell_type": "markdown",
      "metadata": {
        "id": "nIWNJVfq9ucx"
      },
      "source": [
        "Преобразовать список в массив для обработки"
      ]
    },
    {
      "cell_type": "code",
      "metadata": {
        "id": "yG8bHwrs9wwx"
      },
      "source": [
        "train_images = np.array(train_images)"
      ],
      "execution_count": 18,
      "outputs": []
    },
    {
      "cell_type": "code",
      "metadata": {
        "id": "BG4WieBd5F9t",
        "colab": {
          "base_uri": "https://localhost:8080/"
        },
        "outputId": "9520d977-5951-4988-a82c-97381e0c32a7"
      },
      "source": [
        "print(train_images.shape)\n",
        "IMG_HEIGHT = train_images.shape[1]\n",
        "IMG_WIDTH  = train_images.shape[2]\n",
        "IMG_CHANNELS = train_images.shape[3]"
      ],
      "execution_count": 19,
      "outputs": [
        {
          "output_type": "stream",
          "text": [
            "(1600, 128, 128, 3)\n"
          ],
          "name": "stdout"
        }
      ]
    },
    {
      "cell_type": "markdown",
      "metadata": {
        "id": "3SHjtxpG-I5x"
      },
      "source": [
        "**Получение информации о маске / метке в виде списка**"
      ]
    },
    {
      "cell_type": "code",
      "metadata": {
        "id": "Jo6jlXlI-Nws"
      },
      "source": [
        "train_masks = [] \n",
        "for directory_path in glob.glob('/content/gdrive/My Drive/Image_dataset/sandstone/masks_train_128_patches_stone'):\n",
        "    for mask_path in sorted(glob.glob(os.path.join(directory_path, \"*.tif\"))):\n",
        "        #Считывание изображения в оттенках серого\n",
        "        mask = cv2.imread(mask_path, 0)       \n",
        "        #mask = cv2.resize(mask, (SIZE_Y, SIZE_X), interpolation = cv2.INTER_NEAREST)  #Otherwise ground truth changes due to interpolation\n",
        "        #img = cv2.cvtColor(img, cv2.COLOR_RGB2BGR)\n",
        "        train_masks.append(mask)"
      ],
      "execution_count": 21,
      "outputs": []
    },
    {
      "cell_type": "markdown",
      "metadata": {
        "id": "0xd7_ZHs-0uQ"
      },
      "source": [
        "Преобразовать список в массив для обработки"
      ]
    },
    {
      "cell_type": "code",
      "metadata": {
        "id": "TpfqrWI1-26L",
        "colab": {
          "base_uri": "https://localhost:8080/"
        },
        "outputId": "0ec21b85-b728-401b-ca7a-0b2f7e599f9a"
      },
      "source": [
        "train_masks = np.array(train_masks)\n",
        "print(train_masks.shape)"
      ],
      "execution_count": 22,
      "outputs": [
        {
          "output_type": "stream",
          "text": [
            "(1600, 128, 128)\n"
          ],
          "name": "stdout"
        }
      ]
    },
    {
      "cell_type": "code",
      "metadata": {
        "id": "NtXqI95-TNV7"
      },
      "source": [
        "IMG_HEIGHT = train_masks.shape[1]\n",
        "IMG_WIDTH  = train_masks.shape[2]\n",
        "#IMG_CHANNELS = train_masks.shape[3]"
      ],
      "execution_count": 16,
      "outputs": []
    },
    {
      "cell_type": "code",
      "metadata": {
        "colab": {
          "base_uri": "https://localhost:8080/",
          "height": 355
        },
        "id": "ql8WsqWk1Pg1",
        "outputId": "3af2445c-0478-43bb-db4d-126177fde838"
      },
      "source": [
        "import random\n",
        "import numpy as np\n",
        "image_number = random.randint(0, len(train_images))\n",
        "plt.figure(figsize=(12, 6))\n",
        "plt.subplot(121)\n",
        "plt.imshow(np.reshape(train_images[image_number], (128, 128,3)))\n",
        "#plt.imshow(X_train[image_number])\n",
        "plt.subplot(122)\n",
        "plt.imshow(np.reshape(train_masks[image_number], (128, 128)), cmap='gray')\n",
        "#plt.imshow(y_train[image_number])\n",
        "plt.show()"
      ],
      "execution_count": 23,
      "outputs": [
        {
          "output_type": "display_data",
          "data": {
            "image/png": "[encoded data removed]",
            "text/plain": [
              "<Figure size 864x432 with 2 Axes>"
            ]
          },
          "metadata": {
            "tags": [],
            "needs_background": "light"
          }
        }
      ]
    },
    {
      "cell_type": "markdown",
      "metadata": {
        "id": "V4nSjxR5_Jnu"
      },
      "source": [
        "###############################################"
      ]
    },
    {
      "cell_type": "markdown",
      "metadata": {
        "id": "6rTBvcar_Kgh"
      },
      "source": [
        "Кодирование меток ... но многотомный массив, поэтому необходимо сглаживать, кодировать и изменять форму"
      ]
    },
    {
      "cell_type": "code",
      "metadata": {
        "id": "9gDlMgbF_cSp",
        "colab": {
          "base_uri": "https://localhost:8080/"
        },
        "outputId": "a4734163-fdc0-430f-9693-f741413e1a4d"
      },
      "source": [
        "from sklearn.preprocessing import LabelEncoder\n",
        "labelencoder = LabelEncoder()\n",
        "# Возвращает размерности массивов (уровней массивов)\n",
        "number_images, height, width = train_masks.shape\n",
        "print(\"Размерности массивов: \", train_masks.shape)\n",
        "print(\"Class values in the dataset are ... \", np.unique(train_masks))\n",
        "# Изменение представления массива (перестройка уровней)\n",
        "train_masks_reshaped = train_masks.reshape(-1,1)\n",
        "print(\"Размерности массивов: \", train_masks_reshaped.shape)\n",
        "#Преобразования категориальных или текстовых данных в числа.\n",
        "#Нормализует метки таким образом, чтобы они содержали только значения от 0 до n_classes-1\n",
        "#Tакже можно использовать для преобразования нечисловых меток (если они хешируемы и сопоставимы) в числовые метки\n",
        "train_masks_reshaped_encoded = labelencoder.fit_transform(train_masks_reshaped)\n",
        "train_masks_encoded_original_shape = train_masks_reshaped_encoded.reshape(number_images, height, width)\n",
        "print(\"Class values in the dataset are ... \", np.unique(train_masks_encoded_original_shape))"
      ],
      "execution_count": 23,
      "outputs": [
        {
          "output_type": "stream",
          "text": [
            "Размерности массивов:  (1600, 128, 128)\n",
            "Class values in the dataset are ...  [1 2 3 4]\n",
            "Размерности массивов:  (26214400, 1)\n"
          ],
          "name": "stdout"
        },
        {
          "output_type": "stream",
          "text": [
            "/usr/local/lib/python3.7/dist-packages/sklearn/utils/validation.py:63: DataConversionWarning: A column-vector y was passed when a 1d array was expected. Please change the shape of y to (n_samples, ), for example using ravel().\n",
            "  return f(*args, **kwargs)\n"
          ],
          "name": "stderr"
        },
        {
          "output_type": "stream",
          "text": [
            "Class values in the dataset are ...  [0 1 2 3]\n"
          ],
          "name": "stdout"
        }
      ]
    },
    {
      "cell_type": "markdown",
      "metadata": {
        "id": "il1O0gJi_qo-"
      },
      "source": [
        "#################################################"
      ]
    },
    {
      "cell_type": "code",
      "metadata": {
        "colab": {
          "base_uri": "https://localhost:8080/"
        },
        "id": "i1Te36HJmxAT",
        "outputId": "119c9ba1-2191-4cb3-ca68-cf525228f45e"
      },
      "source": [
        "print(train_images.shape)"
      ],
      "execution_count": 19,
      "outputs": [
        {
          "output_type": "stream",
          "text": [
            "(1600, 128, 128, 3)\n"
          ],
          "name": "stdout"
        }
      ]
    },
    {
      "cell_type": "markdown",
      "metadata": {
        "id": "wuIuYxNf_mH7"
      },
      "source": [
        "**Добавление меток классов в массив с масками**"
      ]
    },
    {
      "cell_type": "code",
      "metadata": {
        "id": "U7xlI6do_xA5",
        "colab": {
          "base_uri": "https://localhost:8080/"
        },
        "outputId": "248ae202-e1f9-4089-a73f-c9896d8fb905"
      },
      "source": [
        "#train_images = np.expand_dims(train_images, axis=3)\n",
        "#train_images = normalize(train_images, axis=1)\n",
        "# Добавление измерения в массив NumPy, чтобы затем можно было увеличить это измерение для размещения новых данных\n",
        "#image = np.expand_dims(image, <your desired dimension>)\n",
        "#Добавляем измерение с кодом класса маски\n",
        "train_masks_input = np.expand_dims(train_masks_encoded_original_shape, axis=3)\n",
        "print(train_masks_input.shape)"
      ],
      "execution_count": 24,
      "outputs": [
        {
          "output_type": "stream",
          "text": [
            "(1600, 128, 128, 1)\n"
          ],
          "name": "stdout"
        }
      ]
    },
    {
      "cell_type": "markdown",
      "metadata": {
        "id": "BN8Ud1lk__3x"
      },
      "source": [
        "Создание подмножества данных для быстрого тестирования\n",
        "Выбираем 10% на тестирование, а остальные на обучение"
      ]
    },
    {
      "cell_type": "code",
      "metadata": {
        "id": "gDsZ9v47AP4G"
      },
      "source": [
        "#pip3 install -U scikit-learn scipy matplotlib\n",
        "from sklearn.model_selection import train_test_split\n",
        "X1, X_test, y1, y_test = train_test_split(train_images, train_masks_input, test_size = 0.10, random_state = 0)"
      ],
      "execution_count": 25,
      "outputs": []
    },
    {
      "cell_type": "markdown",
      "metadata": {
        "id": "qBPfgJU0AUVi"
      },
      "source": [
        "Дальнейшее разделение обучающих данных на меньшее подмножество для быстрого тестирования моделей"
      ]
    },
    {
      "cell_type": "code",
      "metadata": {
        "id": "oDq7GTWiAeIU",
        "colab": {
          "base_uri": "https://localhost:8080/"
        },
        "outputId": "ca37fc5d-f81c-4dd6-8373-fd4d15ca5f75"
      },
      "source": [
        "X_train, X_do_not_use, y_train, y_do_not_use = train_test_split(X1, y1, test_size = 0.5, random_state = 0)\n",
        "\n",
        "print(\"Class values in the dataset are ... \", np.unique(y_train))  # Уникальные маскм (0 is the background/few unlabeled)\n",
        "print(X_train.shape)\n",
        "print(y_train.shape)"
      ],
      "execution_count": 26,
      "outputs": [
        {
          "output_type": "stream",
          "text": [
            "Class values in the dataset are ...  [0 1 2 3]\n",
            "(720, 128, 128, 3)\n",
            "(720, 128, 128, 1)\n"
          ],
          "name": "stdout"
        }
      ]
    },
    {
      "cell_type": "markdown",
      "metadata": {
        "id": "NgSux3Af9JTB"
      },
      "source": [
        "Просмотр соответствия"
      ]
    },
    {
      "cell_type": "code",
      "metadata": {
        "id": "WfKfXaCd8zjn",
        "colab": {
          "base_uri": "https://localhost:8080/",
          "height": 355
        },
        "outputId": "f8d1ec69-bcd1-4b4c-904a-84b3d39b1e9c"
      },
      "source": [
        "import random\n",
        "import numpy as np\n",
        "image_number = random.randint(0, len(X_train))\n",
        "plt.figure(figsize=(12, 6))\n",
        "plt.subplot(121)\n",
        "plt.imshow(np.reshape(X_train[image_number], (128, 128,3)))\n",
        "#plt.imshow(X_train[image_number])\n",
        "plt.subplot(122)\n",
        "plt.imshow(np.reshape(y_train[image_number], (128, 128)), cmap='gray')\n",
        "#plt.imshow(y_train[image_number])\n",
        "plt.show()"
      ],
      "execution_count": 23,
      "outputs": [
        {
          "output_type": "display_data",
          "data": {
            "image/png": "[encoded data removed]",
            "text/plain": [
              "<Figure size 864x432 with 2 Axes>"
            ]
          },
          "metadata": {
            "tags": [],
            "needs_background": "light"
          }
        }
      ]
    },
    {
      "cell_type": "markdown",
      "metadata": {
        "id": "4e-bTxBH5Y10"
      },
      "source": [
        "############################################################################################"
      ]
    },
    {
      "cell_type": "code",
      "metadata": {
        "id": "0H4ZdzuyAknV"
      },
      "source": [
        "#from keras.utils import to_categorical\n",
        "from tensorflow.keras.utils import to_categorical\n",
        "#keras.utils.to_categorical(y, num_classes=None, dtype=’float32′)\n",
        "#Преобразует вектор класса (целые числа) в двоичную классную матрицу.\n",
        "#y: вектор класса, который будет преобразован в матрицу (целые числа от 0 до num_classes).\n",
        "#num_classes: общее количество классов.\n",
        "#dtype: Тип данных, ожидаемый на входе, как строка (float32, float64, int32…).\n",
        "# 0 -> [0,0,0,0]; 1 -> [1,0,0,0], ...\n",
        "train_masks_cat = to_categorical(y_train, num_classes=n_classes)\n",
        "y_train_cat = train_masks_cat.reshape((y_train.shape[0], y_train.shape[1], y_train.shape[2], n_classes))\n",
        "\n",
        "\n",
        "test_masks_cat = to_categorical(y_test, num_classes=n_classes)\n",
        "y_test_cat = test_masks_cat.reshape((y_test.shape[0], y_test.shape[1], y_test.shape[2], n_classes))"
      ],
      "execution_count": 27,
      "outputs": []
    },
    {
      "cell_type": "markdown",
      "metadata": {
        "id": "wp-5FkaWNes6"
      },
      "source": [
        "Проверка сбалансированности набора данных (данных где преобладает 1-н класс)"
      ]
    },
    {
      "cell_type": "code",
      "metadata": {
        "id": "67_Pdi8AOUAs",
        "colab": {
          "base_uri": "https://localhost:8080/"
        },
        "outputId": "15ac9b10-99f7-428f-f527-dbb243ca0ac0"
      },
      "source": [
        "from sklearn.utils import class_weight\n",
        "class_weights = class_weight.compute_class_weight('balanced',\n",
        "                                                 np.unique(train_masks_reshaped_encoded),\n",
        "                                                 train_masks_reshaped_encoded)\n",
        "print(\"Class weights are...:\", class_weights)"
      ],
      "execution_count": 28,
      "outputs": [
        {
          "output_type": "stream",
          "text": [
            "/usr/local/lib/python3.7/dist-packages/sklearn/utils/validation.py:72: FutureWarning: Pass classes=[0 1 2 3], y=[2 2 2 ... 1 1 1] as keyword args. From version 1.0 (renaming of 0.25) passing these as positional arguments will result in an error\n",
            "  \"will result in an error\", FutureWarning)\n"
          ],
          "name": "stderr"
        },
        {
          "output_type": "stream",
          "text": [
            "Class weights are...: [1.93354786 3.07345989 0.32786918 9.30640739]\n"
          ],
          "name": "stdout"
        }
      ]
    },
    {
      "cell_type": "markdown",
      "metadata": {
        "id": "OTauMhiWCNCI"
      },
      "source": [
        "######################################################"
      ]
    },
    {
      "cell_type": "markdown",
      "metadata": {
        "id": "ZNuBm8l8CN7V"
      },
      "source": [
        "**Параметры для всех моделей**"
      ]
    },
    {
      "cell_type": "markdown",
      "metadata": {
        "id": "ocwKQM1KC9Eq"
      },
      "source": [
        "**Softmax** — это обобщение логистической функции для многомерного случая. Функция преобразует вектор z размерности K в вектор sigma  той же размерности, где каждая координата sigma{i} полученного вектора представлена вещественным числом в интервале [0,1] и сумма координат равна 1.\n",
        "\n",
        "**Adam** — adaptive moment estimation, градиентный оптимизационный алгоритм. Он сочетает в себе и идею накопления движения и идею более слабого обновления весов для типичных признаков."
      ]
    },
    {
      "cell_type": "code",
      "metadata": {
        "id": "Z4Zybd5sCVUr"
      },
      "source": [
        "n_classes=4\n",
        "activation='softmax'\n",
        "\n",
        "LR = 0.0001\n",
        "optim = keras.optimizers.Adam(LR)"
      ],
      "execution_count": 29,
      "outputs": []
    },
    {
      "cell_type": "markdown",
      "metadata": {
        "id": "D4fI9ibHCcQj"
      },
      "source": [
        "Потери в моделях сегментации можно объединить знаком «+» и масштабировать с помощью целого числа или коэффициента с плавающей запятой."
      ]
    },
    {
      "cell_type": "code",
      "metadata": {
        "id": "UDKmEXHyC0VA"
      },
      "source": [
        "# set class weights for dice_loss (car: 1.; pedestrian: 2.; background: 0.5;)\n",
        "dice_loss = sm.losses.DiceLoss(class_weights=np.array([0.25, 0.25, 0.25, 0.25])) \n",
        "focal_loss = sm.losses.CategoricalFocalLoss()\n",
        "total_loss = dice_loss + (1 * focal_loss)"
      ],
      "execution_count": 30,
      "outputs": []
    },
    {
      "cell_type": "code",
      "metadata": {
        "id": "jw60hEBwDY7x"
      },
      "source": [
        "# actulally total_loss can be imported directly from library, above example just show you how to manipulate with losses\n",
        "# total_loss = sm.losses.binary_focal_dice_loss # or sm.losses.categorical_focal_dice_loss \n",
        "\n",
        "metrics = [sm.metrics.IOUScore(threshold=0.5), sm.metrics.FScore(threshold=0.5)] # tf.metrics.SensitivityAtSpecificity(0.5)"
      ],
      "execution_count": 31,
      "outputs": []
    },
    {
      "cell_type": "markdown",
      "metadata": {
        "id": "asrqtTzQDqdA"
      },
      "source": [
        "########################################################################"
      ]
    },
    {
      "cell_type": "markdown",
      "metadata": {
        "id": "aiLFQzndDrIs"
      },
      "source": [
        "# **Model 1**"
      ]
    },
    {
      "cell_type": "code",
      "metadata": {
        "id": "RZA6Y91nD0E-",
        "colab": {
          "base_uri": "https://localhost:8080/"
        },
        "outputId": "6e28a859-06c8-452f-e267-a76fb495c55c"
      },
      "source": [
        "BACKBONE1 = 'resnet34'\n",
        "# Получаем предобработку для данной сети\n",
        "preprocess_input1 = sm.get_preprocessing(BACKBONE1)\n",
        "\n",
        "# preprocess input\n",
        "X_train1 = preprocess_input1(X_train)\n",
        "X_test1 = preprocess_input1(X_test)\n",
        "\n",
        "print(X_train1.shape)\n",
        "print(X_test1.shape)\n",
        "print(y_test_cat.shape)"
      ],
      "execution_count": 32,
      "outputs": [
        {
          "output_type": "stream",
          "text": [
            "(720, 128, 128, 3)\n",
            "(160, 128, 128, 3)\n",
            "(160, 128, 128, 4)\n"
          ],
          "name": "stdout"
        }
      ]
    },
    {
      "cell_type": "code",
      "metadata": {
        "id": "Z_d02wRFQPj-",
        "colab": {
          "base_uri": "https://localhost:8080/"
        },
        "outputId": "210d9b4c-06bb-4752-d283-77263783f5d1"
      },
      "source": [
        "# define model\n",
        "model1 = sm.Unet(BACKBONE1, encoder_weights='imagenet', classes=n_classes, activation=activation)\n",
        "\n",
        "# compile keras model with defined optimozer, loss and metrics\n",
        "model1.compile(optim, total_loss, metrics=metrics)\n",
        "\n",
        "#model1.compile(optimizer='adam', loss='categorical_crossentropy', metrics=metrics)\n",
        "\n",
        "print(model1.summary())"
      ],
      "execution_count": 33,
      "outputs": [
        {
          "output_type": "stream",
          "text": [
            "Downloading data from https://github.com/qubvel/classification_models/releases/download/0.0.1/resnet34_imagenet_1000_no_top.h5\n",
            "85524480/85521592 [==============================] - 1s 0us/step\n",
            "Model: \"model_1\"\n",
            "__________________________________________________________________________________________________\n",
            "Layer (type)                    Output Shape         Param #     Connected to                     \n",
            "==================================================================================================\n",
            "data (InputLayer)               [(None, None, None,  0                                            \n",
            "__________________________________________________________________________________________________\n",
            "bn_data (BatchNormalization)    (None, None, None, 3 9           data[0][0]                       \n",
            "__________________________________________________________________________________________________\n",
            "zero_padding2d (ZeroPadding2D)  (None, None, None, 3 0           bn_data[0][0]                    \n",
            "__________________________________________________________________________________________________\n",
            "conv0 (Conv2D)                  (None, None, None, 6 9408        zero_padding2d[0][0]             \n",
            "__________________________________________________________________________________________________\n",
            "bn0 (BatchNormalization)        (None, None, None, 6 256         conv0[0][0]                      \n",
            "__________________________________________________________________________________________________\n",
            "relu0 (Activation)              (None, None, None, 6 0           bn0[0][0]                        \n",
            "__________________________________________________________________________________________________\n",
            "zero_padding2d_1 (ZeroPadding2D (None, None, None, 6 0           relu0[0][0]                      \n",
            "__________________________________________________________________________________________________\n",
            "pooling0 (MaxPooling2D)         (None, None, None, 6 0           zero_padding2d_1[0][0]           \n",
            "__________________________________________________________________________________________________\n",
            "stage1_unit1_bn1 (BatchNormaliz (None, None, None, 6 256         pooling0[0][0]                   \n",
            "__________________________________________________________________________________________________\n",
            "stage1_unit1_relu1 (Activation) (None, None, None, 6 0           stage1_unit1_bn1[0][0]           \n",
            "__________________________________________________________________________________________________\n",
            "zero_padding2d_2 (ZeroPadding2D (None, None, None, 6 0           stage1_unit1_relu1[0][0]         \n",
            "__________________________________________________________________________________________________\n",
            "stage1_unit1_conv1 (Conv2D)     (None, None, None, 6 36864       zero_padding2d_2[0][0]           \n",
            "__________________________________________________________________________________________________\n",
            "stage1_unit1_bn2 (BatchNormaliz (None, None, None, 6 256         stage1_unit1_conv1[0][0]         \n",
            "__________________________________________________________________________________________________\n",
            "stage1_unit1_relu2 (Activation) (None, None, None, 6 0           stage1_unit1_bn2[0][0]           \n",
            "__________________________________________________________________________________________________\n",
            "zero_padding2d_3 (ZeroPadding2D (None, None, None, 6 0           stage1_unit1_relu2[0][0]         \n",
            "__________________________________________________________________________________________________\n",
            "stage1_unit1_conv2 (Conv2D)     (None, None, None, 6 36864       zero_padding2d_3[0][0]           \n",
            "__________________________________________________________________________________________________\n",
            "stage1_unit1_sc (Conv2D)        (None, None, None, 6 4096        stage1_unit1_relu1[0][0]         \n",
            "__________________________________________________________________________________________________\n",
            "add (Add)                       (None, None, None, 6 0           stage1_unit1_conv2[0][0]         \n",
            "                                                                 stage1_unit1_sc[0][0]            \n",
            "__________________________________________________________________________________________________\n",
            "stage1_unit2_bn1 (BatchNormaliz (None, None, None, 6 256         add[0][0]                        \n",
            "__________________________________________________________________________________________________\n",
            "stage1_unit2_relu1 (Activation) (None, None, None, 6 0           stage1_unit2_bn1[0][0]           \n",
            "__________________________________________________________________________________________________\n",
            "zero_padding2d_4 (ZeroPadding2D (None, None, None, 6 0           stage1_unit2_relu1[0][0]         \n",
            "__________________________________________________________________________________________________\n",
            "stage1_unit2_conv1 (Conv2D)     (None, None, None, 6 36864       zero_padding2d_4[0][0]           \n",
            "__________________________________________________________________________________________________\n",
            "stage1_unit2_bn2 (BatchNormaliz (None, None, None, 6 256         stage1_unit2_conv1[0][0]         \n",
            "__________________________________________________________________________________________________\n",
            "stage1_unit2_relu2 (Activation) (None, None, None, 6 0           stage1_unit2_bn2[0][0]           \n",
            "__________________________________________________________________________________________________\n",
            "zero_padding2d_5 (ZeroPadding2D (None, None, None, 6 0           stage1_unit2_relu2[0][0]         \n",
            "__________________________________________________________________________________________________\n",
            "stage1_unit2_conv2 (Conv2D)     (None, None, None, 6 36864       zero_padding2d_5[0][0]           \n",
            "__________________________________________________________________________________________________\n",
            "add_1 (Add)                     (None, None, None, 6 0           stage1_unit2_conv2[0][0]         \n",
            "                                                                 add[0][0]                        \n",
            "__________________________________________________________________________________________________\n",
            "stage1_unit3_bn1 (BatchNormaliz (None, None, None, 6 256         add_1[0][0]                      \n",
            "__________________________________________________________________________________________________\n",
            "stage1_unit3_relu1 (Activation) (None, None, None, 6 0           stage1_unit3_bn1[0][0]           \n",
            "__________________________________________________________________________________________________\n",
            "zero_padding2d_6 (ZeroPadding2D (None, None, None, 6 0           stage1_unit3_relu1[0][0]         \n",
            "__________________________________________________________________________________________________\n",
            "stage1_unit3_conv1 (Conv2D)     (None, None, None, 6 36864       zero_padding2d_6[0][0]           \n",
            "__________________________________________________________________________________________________\n",
            "stage1_unit3_bn2 (BatchNormaliz (None, None, None, 6 256         stage1_unit3_conv1[0][0]         \n",
            "__________________________________________________________________________________________________\n",
            "stage1_unit3_relu2 (Activation) (None, None, None, 6 0           stage1_unit3_bn2[0][0]           \n",
            "__________________________________________________________________________________________________\n",
            "zero_padding2d_7 (ZeroPadding2D (None, None, None, 6 0           stage1_unit3_relu2[0][0]         \n",
            "__________________________________________________________________________________________________\n",
            "stage1_unit3_conv2 (Conv2D)     (None, None, None, 6 36864       zero_padding2d_7[0][0]           \n",
            "__________________________________________________________________________________________________\n",
            "add_2 (Add)                     (None, None, None, 6 0           stage1_unit3_conv2[0][0]         \n",
            "                                                                 add_1[0][0]                      \n",
            "__________________________________________________________________________________________________\n",
            "stage2_unit1_bn1 (BatchNormaliz (None, None, None, 6 256         add_2[0][0]                      \n",
            "__________________________________________________________________________________________________\n",
            "stage2_unit1_relu1 (Activation) (None, None, None, 6 0           stage2_unit1_bn1[0][0]           \n",
            "__________________________________________________________________________________________________\n",
            "zero_padding2d_8 (ZeroPadding2D (None, None, None, 6 0           stage2_unit1_relu1[0][0]         \n",
            "__________________________________________________________________________________________________\n",
            "stage2_unit1_conv1 (Conv2D)     (None, None, None, 1 73728       zero_padding2d_8[0][0]           \n",
            "__________________________________________________________________________________________________\n",
            "stage2_unit1_bn2 (BatchNormaliz (None, None, None, 1 512         stage2_unit1_conv1[0][0]         \n",
            "__________________________________________________________________________________________________\n",
            "stage2_unit1_relu2 (Activation) (None, None, None, 1 0           stage2_unit1_bn2[0][0]           \n",
            "__________________________________________________________________________________________________\n",
            "zero_padding2d_9 (ZeroPadding2D (None, None, None, 1 0           stage2_unit1_relu2[0][0]         \n",
            "__________________________________________________________________________________________________\n",
            "stage2_unit1_conv2 (Conv2D)     (None, None, None, 1 147456      zero_padding2d_9[0][0]           \n",
            "__________________________________________________________________________________________________\n",
            "stage2_unit1_sc (Conv2D)        (None, None, None, 1 8192        stage2_unit1_relu1[0][0]         \n",
            "__________________________________________________________________________________________________\n",
            "add_3 (Add)                     (None, None, None, 1 0           stage2_unit1_conv2[0][0]         \n",
            "                                                                 stage2_unit1_sc[0][0]            \n",
            "__________________________________________________________________________________________________\n",
            "stage2_unit2_bn1 (BatchNormaliz (None, None, None, 1 512         add_3[0][0]                      \n",
            "__________________________________________________________________________________________________\n",
            "stage2_unit2_relu1 (Activation) (None, None, None, 1 0           stage2_unit2_bn1[0][0]           \n",
            "__________________________________________________________________________________________________\n",
            "zero_padding2d_10 (ZeroPadding2 (None, None, None, 1 0           stage2_unit2_relu1[0][0]         \n",
            "__________________________________________________________________________________________________\n",
            "stage2_unit2_conv1 (Conv2D)     (None, None, None, 1 147456      zero_padding2d_10[0][0]          \n",
            "__________________________________________________________________________________________________\n",
            "stage2_unit2_bn2 (BatchNormaliz (None, None, None, 1 512         stage2_unit2_conv1[0][0]         \n",
            "__________________________________________________________________________________________________\n",
            "stage2_unit2_relu2 (Activation) (None, None, None, 1 0           stage2_unit2_bn2[0][0]           \n",
            "__________________________________________________________________________________________________\n",
            "zero_padding2d_11 (ZeroPadding2 (None, None, None, 1 0           stage2_unit2_relu2[0][0]         \n",
            "__________________________________________________________________________________________________\n",
            "stage2_unit2_conv2 (Conv2D)     (None, None, None, 1 147456      zero_padding2d_11[0][0]          \n",
            "__________________________________________________________________________________________________\n",
            "add_4 (Add)                     (None, None, None, 1 0           stage2_unit2_conv2[0][0]         \n",
            "                                                                 add_3[0][0]                      \n",
            "__________________________________________________________________________________________________\n",
            "stage2_unit3_bn1 (BatchNormaliz (None, None, None, 1 512         add_4[0][0]                      \n",
            "__________________________________________________________________________________________________\n",
            "stage2_unit3_relu1 (Activation) (None, None, None, 1 0           stage2_unit3_bn1[0][0]           \n",
            "__________________________________________________________________________________________________\n",
            "zero_padding2d_12 (ZeroPadding2 (None, None, None, 1 0           stage2_unit3_relu1[0][0]         \n",
            "__________________________________________________________________________________________________\n",
            "stage2_unit3_conv1 (Conv2D)     (None, None, None, 1 147456      zero_padding2d_12[0][0]          \n",
            "__________________________________________________________________________________________________\n",
            "stage2_unit3_bn2 (BatchNormaliz (None, None, None, 1 512         stage2_unit3_conv1[0][0]         \n",
            "__________________________________________________________________________________________________\n",
            "stage2_unit3_relu2 (Activation) (None, None, None, 1 0           stage2_unit3_bn2[0][0]           \n",
            "__________________________________________________________________________________________________\n",
            "zero_padding2d_13 (ZeroPadding2 (None, None, None, 1 0           stage2_unit3_relu2[0][0]         \n",
            "__________________________________________________________________________________________________\n",
            "stage2_unit3_conv2 (Conv2D)     (None, None, None, 1 147456      zero_padding2d_13[0][0]          \n",
            "__________________________________________________________________________________________________\n",
            "add_5 (Add)                     (None, None, None, 1 0           stage2_unit3_conv2[0][0]         \n",
            "                                                                 add_4[0][0]                      \n",
            "__________________________________________________________________________________________________\n",
            "stage2_unit4_bn1 (BatchNormaliz (None, None, None, 1 512         add_5[0][0]                      \n",
            "__________________________________________________________________________________________________\n",
            "stage2_unit4_relu1 (Activation) (None, None, None, 1 0           stage2_unit4_bn1[0][0]           \n",
            "__________________________________________________________________________________________________\n",
            "zero_padding2d_14 (ZeroPadding2 (None, None, None, 1 0           stage2_unit4_relu1[0][0]         \n",
            "__________________________________________________________________________________________________\n",
            "stage2_unit4_conv1 (Conv2D)     (None, None, None, 1 147456      zero_padding2d_14[0][0]          \n",
            "__________________________________________________________________________________________________\n",
            "stage2_unit4_bn2 (BatchNormaliz (None, None, None, 1 512         stage2_unit4_conv1[0][0]         \n",
            "__________________________________________________________________________________________________\n",
            "stage2_unit4_relu2 (Activation) (None, None, None, 1 0           stage2_unit4_bn2[0][0]           \n",
            "__________________________________________________________________________________________________\n",
            "zero_padding2d_15 (ZeroPadding2 (None, None, None, 1 0           stage2_unit4_relu2[0][0]         \n",
            "__________________________________________________________________________________________________\n",
            "stage2_unit4_conv2 (Conv2D)     (None, None, None, 1 147456      zero_padding2d_15[0][0]          \n",
            "__________________________________________________________________________________________________\n",
            "add_6 (Add)                     (None, None, None, 1 0           stage2_unit4_conv2[0][0]         \n",
            "                                                                 add_5[0][0]                      \n",
            "__________________________________________________________________________________________________\n",
            "stage3_unit1_bn1 (BatchNormaliz (None, None, None, 1 512         add_6[0][0]                      \n",
            "__________________________________________________________________________________________________\n",
            "stage3_unit1_relu1 (Activation) (None, None, None, 1 0           stage3_unit1_bn1[0][0]           \n",
            "__________________________________________________________________________________________________\n",
            "zero_padding2d_16 (ZeroPadding2 (None, None, None, 1 0           stage3_unit1_relu1[0][0]         \n",
            "__________________________________________________________________________________________________\n",
            "stage3_unit1_conv1 (Conv2D)     (None, None, None, 2 294912      zero_padding2d_16[0][0]          \n",
            "__________________________________________________________________________________________________\n",
            "stage3_unit1_bn2 (BatchNormaliz (None, None, None, 2 1024        stage3_unit1_conv1[0][0]         \n",
            "__________________________________________________________________________________________________\n",
            "stage3_unit1_relu2 (Activation) (None, None, None, 2 0           stage3_unit1_bn2[0][0]           \n",
            "__________________________________________________________________________________________________\n",
            "zero_padding2d_17 (ZeroPadding2 (None, None, None, 2 0           stage3_unit1_relu2[0][0]         \n",
            "__________________________________________________________________________________________________\n",
            "stage3_unit1_conv2 (Conv2D)     (None, None, None, 2 589824      zero_padding2d_17[0][0]          \n",
            "__________________________________________________________________________________________________\n",
            "stage3_unit1_sc (Conv2D)        (None, None, None, 2 32768       stage3_unit1_relu1[0][0]         \n",
            "__________________________________________________________________________________________________\n",
            "add_7 (Add)                     (None, None, None, 2 0           stage3_unit1_conv2[0][0]         \n",
            "                                                                 stage3_unit1_sc[0][0]            \n",
            "__________________________________________________________________________________________________\n",
            "stage3_unit2_bn1 (BatchNormaliz (None, None, None, 2 1024        add_7[0][0]                      \n",
            "__________________________________________________________________________________________________\n",
            "stage3_unit2_relu1 (Activation) (None, None, None, 2 0           stage3_unit2_bn1[0][0]           \n",
            "__________________________________________________________________________________________________\n",
            "zero_padding2d_18 (ZeroPadding2 (None, None, None, 2 0           stage3_unit2_relu1[0][0]         \n",
            "__________________________________________________________________________________________________\n",
            "stage3_unit2_conv1 (Conv2D)     (None, None, None, 2 589824      zero_padding2d_18[0][0]          \n",
            "__________________________________________________________________________________________________\n",
            "stage3_unit2_bn2 (BatchNormaliz (None, None, None, 2 1024        stage3_unit2_conv1[0][0]         \n",
            "__________________________________________________________________________________________________\n",
            "stage3_unit2_relu2 (Activation) (None, None, None, 2 0           stage3_unit2_bn2[0][0]           \n",
            "__________________________________________________________________________________________________\n",
            "zero_padding2d_19 (ZeroPadding2 (None, None, None, 2 0           stage3_unit2_relu2[0][0]         \n",
            "__________________________________________________________________________________________________\n",
            "stage3_unit2_conv2 (Conv2D)     (None, None, None, 2 589824      zero_padding2d_19[0][0]          \n",
            "__________________________________________________________________________________________________\n",
            "add_8 (Add)                     (None, None, None, 2 0           stage3_unit2_conv2[0][0]         \n",
            "                                                                 add_7[0][0]                      \n",
            "__________________________________________________________________________________________________\n",
            "stage3_unit3_bn1 (BatchNormaliz (None, None, None, 2 1024        add_8[0][0]                      \n",
            "__________________________________________________________________________________________________\n",
            "stage3_unit3_relu1 (Activation) (None, None, None, 2 0           stage3_unit3_bn1[0][0]           \n",
            "__________________________________________________________________________________________________\n",
            "zero_padding2d_20 (ZeroPadding2 (None, None, None, 2 0           stage3_unit3_relu1[0][0]         \n",
            "__________________________________________________________________________________________________\n",
            "stage3_unit3_conv1 (Conv2D)     (None, None, None, 2 589824      zero_padding2d_20[0][0]          \n",
            "__________________________________________________________________________________________________\n",
            "stage3_unit3_bn2 (BatchNormaliz (None, None, None, 2 1024        stage3_unit3_conv1[0][0]         \n",
            "__________________________________________________________________________________________________\n",
            "stage3_unit3_relu2 (Activation) (None, None, None, 2 0           stage3_unit3_bn2[0][0]           \n",
            "__________________________________________________________________________________________________\n",
            "zero_padding2d_21 (ZeroPadding2 (None, None, None, 2 0           stage3_unit3_relu2[0][0]         \n",
            "__________________________________________________________________________________________________\n",
            "stage3_unit3_conv2 (Conv2D)     (None, None, None, 2 589824      zero_padding2d_21[0][0]          \n",
            "__________________________________________________________________________________________________\n",
            "add_9 (Add)                     (None, None, None, 2 0           stage3_unit3_conv2[0][0]         \n",
            "                                                                 add_8[0][0]                      \n",
            "__________________________________________________________________________________________________\n",
            "stage3_unit4_bn1 (BatchNormaliz (None, None, None, 2 1024        add_9[0][0]                      \n",
            "__________________________________________________________________________________________________\n",
            "stage3_unit4_relu1 (Activation) (None, None, None, 2 0           stage3_unit4_bn1[0][0]           \n",
            "__________________________________________________________________________________________________\n",
            "zero_padding2d_22 (ZeroPadding2 (None, None, None, 2 0           stage3_unit4_relu1[0][0]         \n",
            "__________________________________________________________________________________________________\n",
            "stage3_unit4_conv1 (Conv2D)     (None, None, None, 2 589824      zero_padding2d_22[0][0]          \n",
            "__________________________________________________________________________________________________\n",
            "stage3_unit4_bn2 (BatchNormaliz (None, None, None, 2 1024        stage3_unit4_conv1[0][0]         \n",
            "__________________________________________________________________________________________________\n",
            "stage3_unit4_relu2 (Activation) (None, None, None, 2 0           stage3_unit4_bn2[0][0]           \n",
            "__________________________________________________________________________________________________\n",
            "zero_padding2d_23 (ZeroPadding2 (None, None, None, 2 0           stage3_unit4_relu2[0][0]         \n",
            "__________________________________________________________________________________________________\n",
            "stage3_unit4_conv2 (Conv2D)     (None, None, None, 2 589824      zero_padding2d_23[0][0]          \n",
            "__________________________________________________________________________________________________\n",
            "add_10 (Add)                    (None, None, None, 2 0           stage3_unit4_conv2[0][0]         \n",
            "                                                                 add_9[0][0]                      \n",
            "__________________________________________________________________________________________________\n",
            "stage3_unit5_bn1 (BatchNormaliz (None, None, None, 2 1024        add_10[0][0]                     \n",
            "__________________________________________________________________________________________________\n",
            "stage3_unit5_relu1 (Activation) (None, None, None, 2 0           stage3_unit5_bn1[0][0]           \n",
            "__________________________________________________________________________________________________\n",
            "zero_padding2d_24 (ZeroPadding2 (None, None, None, 2 0           stage3_unit5_relu1[0][0]         \n",
            "__________________________________________________________________________________________________\n",
            "stage3_unit5_conv1 (Conv2D)     (None, None, None, 2 589824      zero_padding2d_24[0][0]          \n",
            "__________________________________________________________________________________________________\n",
            "stage3_unit5_bn2 (BatchNormaliz (None, None, None, 2 1024        stage3_unit5_conv1[0][0]         \n",
            "__________________________________________________________________________________________________\n",
            "stage3_unit5_relu2 (Activation) (None, None, None, 2 0           stage3_unit5_bn2[0][0]           \n",
            "__________________________________________________________________________________________________\n",
            "zero_padding2d_25 (ZeroPadding2 (None, None, None, 2 0           stage3_unit5_relu2[0][0]         \n",
            "__________________________________________________________________________________________________\n",
            "stage3_unit5_conv2 (Conv2D)     (None, None, None, 2 589824      zero_padding2d_25[0][0]          \n",
            "__________________________________________________________________________________________________\n",
            "add_11 (Add)                    (None, None, None, 2 0           stage3_unit5_conv2[0][0]         \n",
            "                                                                 add_10[0][0]                     \n",
            "__________________________________________________________________________________________________\n",
            "stage3_unit6_bn1 (BatchNormaliz (None, None, None, 2 1024        add_11[0][0]                     \n",
            "__________________________________________________________________________________________________\n",
            "stage3_unit6_relu1 (Activation) (None, None, None, 2 0           stage3_unit6_bn1[0][0]           \n",
            "__________________________________________________________________________________________________\n",
            "zero_padding2d_26 (ZeroPadding2 (None, None, None, 2 0           stage3_unit6_relu1[0][0]         \n",
            "__________________________________________________________________________________________________\n",
            "stage3_unit6_conv1 (Conv2D)     (None, None, None, 2 589824      zero_padding2d_26[0][0]          \n",
            "__________________________________________________________________________________________________\n",
            "stage3_unit6_bn2 (BatchNormaliz (None, None, None, 2 1024        stage3_unit6_conv1[0][0]         \n",
            "__________________________________________________________________________________________________\n",
            "stage3_unit6_relu2 (Activation) (None, None, None, 2 0           stage3_unit6_bn2[0][0]           \n",
            "__________________________________________________________________________________________________\n",
            "zero_padding2d_27 (ZeroPadding2 (None, None, None, 2 0           stage3_unit6_relu2[0][0]         \n",
            "__________________________________________________________________________________________________\n",
            "stage3_unit6_conv2 (Conv2D)     (None, None, None, 2 589824      zero_padding2d_27[0][0]          \n",
            "__________________________________________________________________________________________________\n",
            "add_12 (Add)                    (None, None, None, 2 0           stage3_unit6_conv2[0][0]         \n",
            "                                                                 add_11[0][0]                     \n",
            "__________________________________________________________________________________________________\n",
            "stage4_unit1_bn1 (BatchNormaliz (None, None, None, 2 1024        add_12[0][0]                     \n",
            "__________________________________________________________________________________________________\n",
            "stage4_unit1_relu1 (Activation) (None, None, None, 2 0           stage4_unit1_bn1[0][0]           \n",
            "__________________________________________________________________________________________________\n",
            "zero_padding2d_28 (ZeroPadding2 (None, None, None, 2 0           stage4_unit1_relu1[0][0]         \n",
            "__________________________________________________________________________________________________\n",
            "stage4_unit1_conv1 (Conv2D)     (None, None, None, 5 1179648     zero_padding2d_28[0][0]          \n",
            "__________________________________________________________________________________________________\n",
            "stage4_unit1_bn2 (BatchNormaliz (None, None, None, 5 2048        stage4_unit1_conv1[0][0]         \n",
            "__________________________________________________________________________________________________\n",
            "stage4_unit1_relu2 (Activation) (None, None, None, 5 0           stage4_unit1_bn2[0][0]           \n",
            "__________________________________________________________________________________________________\n",
            "zero_padding2d_29 (ZeroPadding2 (None, None, None, 5 0           stage4_unit1_relu2[0][0]         \n",
            "__________________________________________________________________________________________________\n",
            "stage4_unit1_conv2 (Conv2D)     (None, None, None, 5 2359296     zero_padding2d_29[0][0]          \n",
            "__________________________________________________________________________________________________\n",
            "stage4_unit1_sc (Conv2D)        (None, None, None, 5 131072      stage4_unit1_relu1[0][0]         \n",
            "__________________________________________________________________________________________________\n",
            "add_13 (Add)                    (None, None, None, 5 0           stage4_unit1_conv2[0][0]         \n",
            "                                                                 stage4_unit1_sc[0][0]            \n",
            "__________________________________________________________________________________________________\n",
            "stage4_unit2_bn1 (BatchNormaliz (None, None, None, 5 2048        add_13[0][0]                     \n",
            "__________________________________________________________________________________________________\n",
            "stage4_unit2_relu1 (Activation) (None, None, None, 5 0           stage4_unit2_bn1[0][0]           \n",
            "__________________________________________________________________________________________________\n",
            "zero_padding2d_30 (ZeroPadding2 (None, None, None, 5 0           stage4_unit2_relu1[0][0]         \n",
            "__________________________________________________________________________________________________\n",
            "stage4_unit2_conv1 (Conv2D)     (None, None, None, 5 2359296     zero_padding2d_30[0][0]          \n",
            "__________________________________________________________________________________________________\n",
            "stage4_unit2_bn2 (BatchNormaliz (None, None, None, 5 2048        stage4_unit2_conv1[0][0]         \n",
            "__________________________________________________________________________________________________\n",
            "stage4_unit2_relu2 (Activation) (None, None, None, 5 0           stage4_unit2_bn2[0][0]           \n",
            "__________________________________________________________________________________________________\n",
            "zero_padding2d_31 (ZeroPadding2 (None, None, None, 5 0           stage4_unit2_relu2[0][0]         \n",
            "__________________________________________________________________________________________________\n",
            "stage4_unit2_conv2 (Conv2D)     (None, None, None, 5 2359296     zero_padding2d_31[0][0]          \n",
            "__________________________________________________________________________________________________\n",
            "add_14 (Add)                    (None, None, None, 5 0           stage4_unit2_conv2[0][0]         \n",
            "                                                                 add_13[0][0]                     \n",
            "__________________________________________________________________________________________________\n",
            "stage4_unit3_bn1 (BatchNormaliz (None, None, None, 5 2048        add_14[0][0]                     \n",
            "__________________________________________________________________________________________________\n",
            "stage4_unit3_relu1 (Activation) (None, None, None, 5 0           stage4_unit3_bn1[0][0]           \n",
            "__________________________________________________________________________________________________\n",
            "zero_padding2d_32 (ZeroPadding2 (None, None, None, 5 0           stage4_unit3_relu1[0][0]         \n",
            "__________________________________________________________________________________________________\n",
            "stage4_unit3_conv1 (Conv2D)     (None, None, None, 5 2359296     zero_padding2d_32[0][0]          \n",
            "__________________________________________________________________________________________________\n",
            "stage4_unit3_bn2 (BatchNormaliz (None, None, None, 5 2048        stage4_unit3_conv1[0][0]         \n",
            "__________________________________________________________________________________________________\n",
            "stage4_unit3_relu2 (Activation) (None, None, None, 5 0           stage4_unit3_bn2[0][0]           \n",
            "__________________________________________________________________________________________________\n",
            "zero_padding2d_33 (ZeroPadding2 (None, None, None, 5 0           stage4_unit3_relu2[0][0]         \n",
            "__________________________________________________________________________________________________\n",
            "stage4_unit3_conv2 (Conv2D)     (None, None, None, 5 2359296     zero_padding2d_33[0][0]          \n",
            "__________________________________________________________________________________________________\n",
            "add_15 (Add)                    (None, None, None, 5 0           stage4_unit3_conv2[0][0]         \n",
            "                                                                 add_14[0][0]                     \n",
            "__________________________________________________________________________________________________\n",
            "bn1 (BatchNormalization)        (None, None, None, 5 2048        add_15[0][0]                     \n",
            "__________________________________________________________________________________________________\n",
            "relu1 (Activation)              (None, None, None, 5 0           bn1[0][0]                        \n",
            "__________________________________________________________________________________________________\n",
            "decoder_stage0_upsampling (UpSa (None, None, None, 5 0           relu1[0][0]                      \n",
            "__________________________________________________________________________________________________\n",
            "decoder_stage0_concat (Concaten (None, None, None, 7 0           decoder_stage0_upsampling[0][0]  \n",
            "                                                                 stage4_unit1_relu1[0][0]         \n",
            "__________________________________________________________________________________________________\n",
            "decoder_stage0a_conv (Conv2D)   (None, None, None, 2 1769472     decoder_stage0_concat[0][0]      \n",
            "__________________________________________________________________________________________________\n",
            "decoder_stage0a_bn (BatchNormal (None, None, None, 2 1024        decoder_stage0a_conv[0][0]       \n",
            "__________________________________________________________________________________________________\n",
            "decoder_stage0a_relu (Activatio (None, None, None, 2 0           decoder_stage0a_bn[0][0]         \n",
            "__________________________________________________________________________________________________\n",
            "decoder_stage0b_conv (Conv2D)   (None, None, None, 2 589824      decoder_stage0a_relu[0][0]       \n",
            "__________________________________________________________________________________________________\n",
            "decoder_stage0b_bn (BatchNormal (None, None, None, 2 1024        decoder_stage0b_conv[0][0]       \n",
            "__________________________________________________________________________________________________\n",
            "decoder_stage0b_relu (Activatio (None, None, None, 2 0           decoder_stage0b_bn[0][0]         \n",
            "__________________________________________________________________________________________________\n",
            "decoder_stage1_upsampling (UpSa (None, None, None, 2 0           decoder_stage0b_relu[0][0]       \n",
            "__________________________________________________________________________________________________\n",
            "decoder_stage1_concat (Concaten (None, None, None, 3 0           decoder_stage1_upsampling[0][0]  \n",
            "                                                                 stage3_unit1_relu1[0][0]         \n",
            "__________________________________________________________________________________________________\n",
            "decoder_stage1a_conv (Conv2D)   (None, None, None, 1 442368      decoder_stage1_concat[0][0]      \n",
            "__________________________________________________________________________________________________\n",
            "decoder_stage1a_bn (BatchNormal (None, None, None, 1 512         decoder_stage1a_conv[0][0]       \n",
            "__________________________________________________________________________________________________\n",
            "decoder_stage1a_relu (Activatio (None, None, None, 1 0           decoder_stage1a_bn[0][0]         \n",
            "__________________________________________________________________________________________________\n",
            "decoder_stage1b_conv (Conv2D)   (None, None, None, 1 147456      decoder_stage1a_relu[0][0]       \n",
            "__________________________________________________________________________________________________\n",
            "decoder_stage1b_bn (BatchNormal (None, None, None, 1 512         decoder_stage1b_conv[0][0]       \n",
            "__________________________________________________________________________________________________\n",
            "decoder_stage1b_relu (Activatio (None, None, None, 1 0           decoder_stage1b_bn[0][0]         \n",
            "__________________________________________________________________________________________________\n",
            "decoder_stage2_upsampling (UpSa (None, None, None, 1 0           decoder_stage1b_relu[0][0]       \n",
            "__________________________________________________________________________________________________\n",
            "decoder_stage2_concat (Concaten (None, None, None, 1 0           decoder_stage2_upsampling[0][0]  \n",
            "                                                                 stage2_unit1_relu1[0][0]         \n",
            "__________________________________________________________________________________________________\n",
            "decoder_stage2a_conv (Conv2D)   (None, None, None, 6 110592      decoder_stage2_concat[0][0]      \n",
            "__________________________________________________________________________________________________\n",
            "decoder_stage2a_bn (BatchNormal (None, None, None, 6 256         decoder_stage2a_conv[0][0]       \n",
            "__________________________________________________________________________________________________\n",
            "decoder_stage2a_relu (Activatio (None, None, None, 6 0           decoder_stage2a_bn[0][0]         \n",
            "__________________________________________________________________________________________________\n",
            "decoder_stage2b_conv (Conv2D)   (None, None, None, 6 36864       decoder_stage2a_relu[0][0]       \n",
            "__________________________________________________________________________________________________\n",
            "decoder_stage2b_bn (BatchNormal (None, None, None, 6 256         decoder_stage2b_conv[0][0]       \n",
            "__________________________________________________________________________________________________\n",
            "decoder_stage2b_relu (Activatio (None, None, None, 6 0           decoder_stage2b_bn[0][0]         \n",
            "__________________________________________________________________________________________________\n",
            "decoder_stage3_upsampling (UpSa (None, None, None, 6 0           decoder_stage2b_relu[0][0]       \n",
            "__________________________________________________________________________________________________\n",
            "decoder_stage3_concat (Concaten (None, None, None, 1 0           decoder_stage3_upsampling[0][0]  \n",
            "                                                                 relu0[0][0]                      \n",
            "__________________________________________________________________________________________________\n",
            "decoder_stage3a_conv (Conv2D)   (None, None, None, 3 36864       decoder_stage3_concat[0][0]      \n",
            "__________________________________________________________________________________________________\n",
            "decoder_stage3a_bn (BatchNormal (None, None, None, 3 128         decoder_stage3a_conv[0][0]       \n",
            "__________________________________________________________________________________________________\n",
            "decoder_stage3a_relu (Activatio (None, None, None, 3 0           decoder_stage3a_bn[0][0]         \n",
            "__________________________________________________________________________________________________\n",
            "decoder_stage3b_conv (Conv2D)   (None, None, None, 3 9216        decoder_stage3a_relu[0][0]       \n",
            "__________________________________________________________________________________________________\n",
            "decoder_stage3b_bn (BatchNormal (None, None, None, 3 128         decoder_stage3b_conv[0][0]       \n",
            "__________________________________________________________________________________________________\n",
            "decoder_stage3b_relu (Activatio (None, None, None, 3 0           decoder_stage3b_bn[0][0]         \n",
            "__________________________________________________________________________________________________\n",
            "decoder_stage4_upsampling (UpSa (None, None, None, 3 0           decoder_stage3b_relu[0][0]       \n",
            "__________________________________________________________________________________________________\n",
            "decoder_stage4a_conv (Conv2D)   (None, None, None, 1 4608        decoder_stage4_upsampling[0][0]  \n",
            "__________________________________________________________________________________________________\n",
            "decoder_stage4a_bn (BatchNormal (None, None, None, 1 64          decoder_stage4a_conv[0][0]       \n",
            "__________________________________________________________________________________________________\n",
            "decoder_stage4a_relu (Activatio (None, None, None, 1 0           decoder_stage4a_bn[0][0]         \n",
            "__________________________________________________________________________________________________\n",
            "decoder_stage4b_conv (Conv2D)   (None, None, None, 1 2304        decoder_stage4a_relu[0][0]       \n",
            "__________________________________________________________________________________________________\n",
            "decoder_stage4b_bn (BatchNormal (None, None, None, 1 64          decoder_stage4b_conv[0][0]       \n",
            "__________________________________________________________________________________________________\n",
            "decoder_stage4b_relu (Activatio (None, None, None, 1 0           decoder_stage4b_bn[0][0]         \n",
            "__________________________________________________________________________________________________\n",
            "final_conv (Conv2D)             (None, None, None, 4 580         decoder_stage4b_relu[0][0]       \n",
            "__________________________________________________________________________________________________\n",
            "softmax (Activation)            (None, None, None, 4 0           final_conv[0][0]                 \n",
            "==================================================================================================\n",
            "Total params: 24,456,589\n",
            "Trainable params: 24,439,239\n",
            "Non-trainable params: 17,350\n",
            "__________________________________________________________________________________________________\n",
            "None\n"
          ],
          "name": "stdout"
        }
      ]
    },
    {
      "cell_type": "code",
      "metadata": {
        "id": "qzIARFn1lNOP",
        "colab": {
          "base_uri": "https://localhost:8080/"
        },
        "outputId": "4acb652b-8f0a-42de-b990-12e578098085"
      },
      "source": [
        "history1=model1.fit(X_train1, \n",
        "          y_train_cat,\n",
        "          batch_size=8, \n",
        "          epochs=50,\n",
        "          verbose=1,\n",
        "          validation_data=(X_test1, y_test_cat))\n",
        "\n",
        "\n",
        "model1.save('res34_backbone_50epochs.hdf5')"
      ],
      "execution_count": 34,
      "outputs": [
        {
          "output_type": "stream",
          "text": [
            "Train on 720 samples, validate on 160 samples\n",
            "Epoch 1/50\n",
            "720/720 [==============================] - 19s 26ms/sample - loss: 0.9593 - iou_score: 0.2660 - f1-score: 0.3641 - val_loss: 0.9579 - val_iou_score: 0.2019 - val_f1-score: 0.3044\n",
            "Epoch 2/50\n",
            "720/720 [==============================] - 6s 8ms/sample - loss: 0.8915 - iou_score: 0.5898 - f1-score: 0.7053 - val_loss: 0.9405 - val_iou_score: 0.3602 - val_f1-score: 0.4995\n",
            "Epoch 3/50\n",
            "720/720 [==============================] - 6s 8ms/sample - loss: 0.8539 - iou_score: 0.7100 - f1-score: 0.8129 - val_loss: 0.8996 - val_iou_score: 0.5179 - val_f1-score: 0.6312\n",
            "Epoch 4/50\n",
            "720/720 [==============================] - 6s 8ms/sample - loss: 0.8268 - iou_score: 0.7739 - f1-score: 0.8620 - val_loss: 0.8652 - val_iou_score: 0.6337 - val_f1-score: 0.7490\n",
            "Epoch 5/50\n",
            "720/720 [==============================] - 6s 8ms/sample - loss: 0.8123 - iou_score: 0.7985 - f1-score: 0.8803 - val_loss: 0.8247 - val_iou_score: 0.7505 - val_f1-score: 0.8448\n",
            "Epoch 6/50\n",
            "720/720 [==============================] - 6s 8ms/sample - loss: 0.8012 - iou_score: 0.8206 - f1-score: 0.8950 - val_loss: 0.8039 - val_iou_score: 0.8054 - val_f1-score: 0.8839\n",
            "Epoch 7/50\n",
            "720/720 [==============================] - 6s 8ms/sample - loss: 0.7946 - iou_score: 0.8321 - f1-score: 0.9028 - val_loss: 0.7943 - val_iou_score: 0.8331 - val_f1-score: 0.9034\n",
            "Epoch 8/50\n",
            "720/720 [==============================] - 6s 8ms/sample - loss: 0.7906 - iou_score: 0.8397 - f1-score: 0.9072 - val_loss: 0.7898 - val_iou_score: 0.8373 - val_f1-score: 0.9054\n",
            "Epoch 9/50\n",
            "720/720 [==============================] - 6s 8ms/sample - loss: 0.7858 - iou_score: 0.8534 - f1-score: 0.9163 - val_loss: 0.7847 - val_iou_score: 0.8619 - val_f1-score: 0.9222\n",
            "Epoch 10/50\n",
            "720/720 [==============================] - 6s 8ms/sample - loss: 0.7841 - iou_score: 0.8588 - f1-score: 0.9196 - val_loss: 0.7824 - val_iou_score: 0.8624 - val_f1-score: 0.9223\n",
            "Epoch 11/50\n",
            "720/720 [==============================] - 6s 8ms/sample - loss: 0.7815 - iou_score: 0.8651 - f1-score: 0.9241 - val_loss: 0.7810 - val_iou_score: 0.8650 - val_f1-score: 0.9243\n",
            "Epoch 12/50\n",
            "720/720 [==============================] - 6s 9ms/sample - loss: 0.7783 - iou_score: 0.8750 - f1-score: 0.9304 - val_loss: 0.7799 - val_iou_score: 0.8668 - val_f1-score: 0.9247\n",
            "Epoch 13/50\n",
            "720/720 [==============================] - 6s 8ms/sample - loss: 0.7778 - iou_score: 0.8763 - f1-score: 0.9309 - val_loss: 0.7778 - val_iou_score: 0.8736 - val_f1-score: 0.9293\n",
            "Epoch 14/50\n",
            "720/720 [==============================] - 6s 8ms/sample - loss: 0.7763 - iou_score: 0.8805 - f1-score: 0.9336 - val_loss: 0.7765 - val_iou_score: 0.8785 - val_f1-score: 0.9325\n",
            "Epoch 15/50\n",
            "720/720 [==============================] - 6s 9ms/sample - loss: 0.7756 - iou_score: 0.8830 - f1-score: 0.9352 - val_loss: 0.7764 - val_iou_score: 0.8761 - val_f1-score: 0.9309\n",
            "Epoch 16/50\n",
            "720/720 [==============================] - 6s 9ms/sample - loss: 0.7748 - iou_score: 0.8855 - f1-score: 0.9366 - val_loss: 0.7750 - val_iou_score: 0.8811 - val_f1-score: 0.9339\n",
            "Epoch 17/50\n",
            "720/720 [==============================] - 6s 9ms/sample - loss: 0.7741 - iou_score: 0.8877 - f1-score: 0.9380 - val_loss: 0.7751 - val_iou_score: 0.8797 - val_f1-score: 0.9326\n",
            "Epoch 18/50\n",
            "720/720 [==============================] - 6s 9ms/sample - loss: 0.7734 - iou_score: 0.8905 - f1-score: 0.9397 - val_loss: 0.7739 - val_iou_score: 0.8842 - val_f1-score: 0.9359\n",
            "Epoch 19/50\n",
            "720/720 [==============================] - 6s 9ms/sample - loss: 0.7724 - iou_score: 0.8947 - f1-score: 0.9422 - val_loss: 0.7731 - val_iou_score: 0.8871 - val_f1-score: 0.9378\n",
            "Epoch 20/50\n",
            "720/720 [==============================] - 6s 9ms/sample - loss: 0.7727 - iou_score: 0.8914 - f1-score: 0.9404 - val_loss: 0.7731 - val_iou_score: 0.8873 - val_f1-score: 0.9379\n",
            "Epoch 21/50\n",
            "720/720 [==============================] - 6s 9ms/sample - loss: 0.7712 - iou_score: 0.8980 - f1-score: 0.9443 - val_loss: 0.7728 - val_iou_score: 0.8879 - val_f1-score: 0.9382\n",
            "Epoch 22/50\n",
            "720/720 [==============================] - 6s 9ms/sample - loss: 0.7704 - iou_score: 0.9013 - f1-score: 0.9463 - val_loss: 0.7727 - val_iou_score: 0.8881 - val_f1-score: 0.9384\n",
            "Epoch 23/50\n",
            "720/720 [==============================] - 6s 9ms/sample - loss: 0.7700 - iou_score: 0.9035 - f1-score: 0.9475 - val_loss: 0.7724 - val_iou_score: 0.8884 - val_f1-score: 0.9385\n",
            "Epoch 24/50\n",
            "720/720 [==============================] - 6s 9ms/sample - loss: 0.7693 - iou_score: 0.9051 - f1-score: 0.9486 - val_loss: 0.7726 - val_iou_score: 0.8875 - val_f1-score: 0.9380\n",
            "Epoch 25/50\n",
            "720/720 [==============================] - 6s 9ms/sample - loss: 0.7690 - iou_score: 0.9067 - f1-score: 0.9495 - val_loss: 0.7743 - val_iou_score: 0.8784 - val_f1-score: 0.9320\n",
            "Epoch 26/50\n",
            "720/720 [==============================] - 6s 9ms/sample - loss: 0.7691 - iou_score: 0.9059 - f1-score: 0.9490 - val_loss: 0.7723 - val_iou_score: 0.8867 - val_f1-score: 0.9375\n",
            "Epoch 27/50\n",
            "720/720 [==============================] - 6s 9ms/sample - loss: 0.7684 - iou_score: 0.9094 - f1-score: 0.9510 - val_loss: 0.7720 - val_iou_score: 0.8875 - val_f1-score: 0.9379\n",
            "Epoch 28/50\n",
            "720/720 [==============================] - 6s 9ms/sample - loss: 0.7685 - iou_score: 0.9086 - f1-score: 0.9504 - val_loss: 0.7721 - val_iou_score: 0.8890 - val_f1-score: 0.9388\n",
            "Epoch 29/50\n",
            "720/720 [==============================] - 6s 9ms/sample - loss: 0.7671 - iou_score: 0.9147 - f1-score: 0.9541 - val_loss: 0.7708 - val_iou_score: 0.8945 - val_f1-score: 0.9421\n",
            "Epoch 30/50\n",
            "720/720 [==============================] - 6s 9ms/sample - loss: 0.7687 - iou_score: 0.9075 - f1-score: 0.9499 - val_loss: 0.7727 - val_iou_score: 0.8842 - val_f1-score: 0.9359\n",
            "Epoch 31/50\n",
            "720/720 [==============================] - 6s 9ms/sample - loss: 0.7677 - iou_score: 0.9114 - f1-score: 0.9522 - val_loss: 0.7719 - val_iou_score: 0.8884 - val_f1-score: 0.9382\n",
            "Epoch 32/50\n",
            "720/720 [==============================] - 6s 9ms/sample - loss: 0.7666 - iou_score: 0.9160 - f1-score: 0.9549 - val_loss: 0.7711 - val_iou_score: 0.8915 - val_f1-score: 0.9402\n",
            "Epoch 33/50\n",
            "720/720 [==============================] - 6s 9ms/sample - loss: 0.7662 - iou_score: 0.9185 - f1-score: 0.9563 - val_loss: 0.7704 - val_iou_score: 0.8955 - val_f1-score: 0.9427\n",
            "Epoch 34/50\n",
            "720/720 [==============================] - 6s 9ms/sample - loss: 0.7660 - iou_score: 0.9195 - f1-score: 0.9569 - val_loss: 0.7707 - val_iou_score: 0.8943 - val_f1-score: 0.9420\n",
            "Epoch 35/50\n",
            "720/720 [==============================] - 6s 9ms/sample - loss: 0.7666 - iou_score: 0.9170 - f1-score: 0.9554 - val_loss: 0.7726 - val_iou_score: 0.8838 - val_f1-score: 0.9359\n",
            "Epoch 36/50\n",
            "720/720 [==============================] - 6s 9ms/sample - loss: 0.7659 - iou_score: 0.9200 - f1-score: 0.9572 - val_loss: 0.7713 - val_iou_score: 0.8900 - val_f1-score: 0.9396\n",
            "Epoch 37/50\n",
            "720/720 [==============================] - 6s 9ms/sample - loss: 0.7656 - iou_score: 0.9213 - f1-score: 0.9579 - val_loss: 0.7706 - val_iou_score: 0.8937 - val_f1-score: 0.9416\n",
            "Epoch 38/50\n",
            "720/720 [==============================] - 6s 9ms/sample - loss: 0.7648 - iou_score: 0.9252 - f1-score: 0.9601 - val_loss: 0.7701 - val_iou_score: 0.8968 - val_f1-score: 0.9436\n",
            "Epoch 39/50\n",
            "720/720 [==============================] - 6s 9ms/sample - loss: 0.7643 - iou_score: 0.9269 - f1-score: 0.9611 - val_loss: 0.7724 - val_iou_score: 0.8817 - val_f1-score: 0.9347\n",
            "Epoch 40/50\n",
            "720/720 [==============================] - 6s 9ms/sample - loss: 0.7646 - iou_score: 0.9256 - f1-score: 0.9604 - val_loss: 0.7732 - val_iou_score: 0.8816 - val_f1-score: 0.9344\n",
            "Epoch 41/50\n",
            "720/720 [==============================] - 6s 9ms/sample - loss: 0.7638 - iou_score: 0.9298 - f1-score: 0.9628 - val_loss: 0.7701 - val_iou_score: 0.8964 - val_f1-score: 0.9432\n",
            "Epoch 42/50\n",
            "720/720 [==============================] - 6s 9ms/sample - loss: 0.7644 - iou_score: 0.9264 - f1-score: 0.9608 - val_loss: 0.7704 - val_iou_score: 0.8947 - val_f1-score: 0.9422\n",
            "Epoch 43/50\n",
            "720/720 [==============================] - 6s 9ms/sample - loss: 0.7640 - iou_score: 0.9281 - f1-score: 0.9618 - val_loss: 0.7702 - val_iou_score: 0.8959 - val_f1-score: 0.9430\n",
            "Epoch 44/50\n",
            "720/720 [==============================] - 6s 9ms/sample - loss: 0.7633 - iou_score: 0.9321 - f1-score: 0.9640 - val_loss: 0.7701 - val_iou_score: 0.8962 - val_f1-score: 0.9431\n",
            "Epoch 45/50\n",
            "720/720 [==============================] - 6s 9ms/sample - loss: 0.7635 - iou_score: 0.9308 - f1-score: 0.9633 - val_loss: 0.7704 - val_iou_score: 0.8945 - val_f1-score: 0.9420\n",
            "Epoch 46/50\n",
            "720/720 [==============================] - 6s 9ms/sample - loss: 0.7631 - iou_score: 0.9326 - f1-score: 0.9643 - val_loss: 0.7700 - val_iou_score: 0.8948 - val_f1-score: 0.9424\n",
            "Epoch 47/50\n",
            "720/720 [==============================] - 6s 9ms/sample - loss: 0.7626 - iou_score: 0.9354 - f1-score: 0.9659 - val_loss: 0.7702 - val_iou_score: 0.8948 - val_f1-score: 0.9422\n",
            "Epoch 48/50\n",
            "720/720 [==============================] - 6s 9ms/sample - loss: 0.7624 - iou_score: 0.9362 - f1-score: 0.9663 - val_loss: 0.7711 - val_iou_score: 0.8912 - val_f1-score: 0.9402\n",
            "Epoch 49/50\n",
            "720/720 [==============================] - 6s 9ms/sample - loss: 0.7620 - iou_score: 0.9381 - f1-score: 0.9674 - val_loss: 0.7698 - val_iou_score: 0.8976 - val_f1-score: 0.9439\n",
            "Epoch 50/50\n",
            "720/720 [==============================] - 6s 9ms/sample - loss: 0.7620 - iou_score: 0.9386 - f1-score: 0.9677 - val_loss: 0.7710 - val_iou_score: 0.8911 - val_f1-score: 0.9401\n"
          ],
          "name": "stdout"
        }
      ]
    },
    {
      "cell_type": "markdown",
      "metadata": {
        "id": "1yhh-Rs010jZ"
      },
      "source": [
        "Сохранение модели на google-диск"
      ]
    },
    {
      "cell_type": "code",
      "metadata": {
        "id": "a2MSTaCp1WoA"
      },
      "source": [
        "!cp 'res34_backbone_50epochs.hdf5' /content/gdrive/\"My Drive\"/Computer_vision"
      ],
      "execution_count": 35,
      "outputs": []
    },
    {
      "cell_type": "markdown",
      "metadata": {
        "id": "B7VZXgSvEDTH"
      },
      "source": [
        "############################################################"
      ]
    },
    {
      "cell_type": "markdown",
      "metadata": {
        "id": "n6mAlXdLEMaW"
      },
      "source": [
        "# **Model 2**"
      ]
    },
    {
      "cell_type": "code",
      "metadata": {
        "id": "aLWPoPgkED_3"
      },
      "source": [
        "BACKBONE2 = 'inceptionv3'\n",
        "# Получаем предобработку для данной сети\n",
        "preprocess_input2 = sm.get_preprocessing(BACKBONE2)\n",
        "\n",
        "# preprocess input\n",
        "X_train2 = preprocess_input2(X_train)\n",
        "X_test2 = preprocess_input2(X_test)"
      ],
      "execution_count": 36,
      "outputs": []
    },
    {
      "cell_type": "code",
      "metadata": {
        "id": "JjGtCp5-QcjY",
        "colab": {
          "base_uri": "https://localhost:8080/"
        },
        "outputId": "640a8db6-ddaf-4efc-d1e7-67e9efaebf09"
      },
      "source": [
        "# define model\n",
        "model2 = sm.Unet(BACKBONE2, encoder_weights='imagenet', classes=n_classes, activation=activation)\n",
        "\n",
        "\n",
        "# compile keras model with defined optimozer, loss and metrics\n",
        "model2.compile(optim, total_loss, metrics)\n",
        "#model2.compile(optimizer='adam', loss='categorical_crossentropy', metrics=metrics)\n",
        "\n",
        "\n",
        "print(model2.summary())"
      ],
      "execution_count": 37,
      "outputs": [
        {
          "output_type": "stream",
          "text": [
            "Downloading data from https://github.com/fchollet/deep-learning-models/releases/download/v0.5/inception_v3_weights_tf_dim_ordering_tf_kernels_notop.h5\n",
            "87916544/87910968 [==============================] - 1s 0us/step\n",
            "Model: \"model_2\"\n",
            "__________________________________________________________________________________________________\n",
            "Layer (type)                    Output Shape         Param #     Connected to                     \n",
            "==================================================================================================\n",
            "input_1 (InputLayer)            [(None, None, None,  0                                            \n",
            "__________________________________________________________________________________________________\n",
            "conv2d (Conv2D)                 (None, None, None, 3 864         input_1[0][0]                    \n",
            "__________________________________________________________________________________________________\n",
            "batch_normalization (BatchNorma (None, None, None, 3 96          conv2d[0][0]                     \n",
            "__________________________________________________________________________________________________\n",
            "activation (Activation)         (None, None, None, 3 0           batch_normalization[0][0]        \n",
            "__________________________________________________________________________________________________\n",
            "conv2d_1 (Conv2D)               (None, None, None, 3 9216        activation[0][0]                 \n",
            "__________________________________________________________________________________________________\n",
            "batch_normalization_1 (BatchNor (None, None, None, 3 96          conv2d_1[0][0]                   \n",
            "__________________________________________________________________________________________________\n",
            "activation_1 (Activation)       (None, None, None, 3 0           batch_normalization_1[0][0]      \n",
            "__________________________________________________________________________________________________\n",
            "conv2d_2 (Conv2D)               (None, None, None, 6 18432       activation_1[0][0]               \n",
            "__________________________________________________________________________________________________\n",
            "batch_normalization_2 (BatchNor (None, None, None, 6 192         conv2d_2[0][0]                   \n",
            "__________________________________________________________________________________________________\n",
            "activation_2 (Activation)       (None, None, None, 6 0           batch_normalization_2[0][0]      \n",
            "__________________________________________________________________________________________________\n",
            "max_pooling2d (MaxPooling2D)    (None, None, None, 6 0           activation_2[0][0]               \n",
            "__________________________________________________________________________________________________\n",
            "conv2d_3 (Conv2D)               (None, None, None, 8 5120        max_pooling2d[0][0]              \n",
            "__________________________________________________________________________________________________\n",
            "batch_normalization_3 (BatchNor (None, None, None, 8 240         conv2d_3[0][0]                   \n",
            "__________________________________________________________________________________________________\n",
            "activation_3 (Activation)       (None, None, None, 8 0           batch_normalization_3[0][0]      \n",
            "__________________________________________________________________________________________________\n",
            "conv2d_4 (Conv2D)               (None, None, None, 1 138240      activation_3[0][0]               \n",
            "__________________________________________________________________________________________________\n",
            "batch_normalization_4 (BatchNor (None, None, None, 1 576         conv2d_4[0][0]                   \n",
            "__________________________________________________________________________________________________\n",
            "activation_4 (Activation)       (None, None, None, 1 0           batch_normalization_4[0][0]      \n",
            "__________________________________________________________________________________________________\n",
            "max_pooling2d_1 (MaxPooling2D)  (None, None, None, 1 0           activation_4[0][0]               \n",
            "__________________________________________________________________________________________________\n",
            "conv2d_8 (Conv2D)               (None, None, None, 6 12288       max_pooling2d_1[0][0]            \n",
            "__________________________________________________________________________________________________\n",
            "batch_normalization_8 (BatchNor (None, None, None, 6 192         conv2d_8[0][0]                   \n",
            "__________________________________________________________________________________________________\n",
            "activation_8 (Activation)       (None, None, None, 6 0           batch_normalization_8[0][0]      \n",
            "__________________________________________________________________________________________________\n",
            "conv2d_6 (Conv2D)               (None, None, None, 4 9216        max_pooling2d_1[0][0]            \n",
            "__________________________________________________________________________________________________\n",
            "conv2d_9 (Conv2D)               (None, None, None, 9 55296       activation_8[0][0]               \n",
            "__________________________________________________________________________________________________\n",
            "batch_normalization_6 (BatchNor (None, None, None, 4 144         conv2d_6[0][0]                   \n",
            "__________________________________________________________________________________________________\n",
            "batch_normalization_9 (BatchNor (None, None, None, 9 288         conv2d_9[0][0]                   \n",
            "__________________________________________________________________________________________________\n",
            "activation_6 (Activation)       (None, None, None, 4 0           batch_normalization_6[0][0]      \n",
            "__________________________________________________________________________________________________\n",
            "activation_9 (Activation)       (None, None, None, 9 0           batch_normalization_9[0][0]      \n",
            "__________________________________________________________________________________________________\n",
            "average_pooling2d (AveragePooli (None, None, None, 1 0           max_pooling2d_1[0][0]            \n",
            "__________________________________________________________________________________________________\n",
            "conv2d_5 (Conv2D)               (None, None, None, 6 12288       max_pooling2d_1[0][0]            \n",
            "__________________________________________________________________________________________________\n",
            "conv2d_7 (Conv2D)               (None, None, None, 6 76800       activation_6[0][0]               \n",
            "__________________________________________________________________________________________________\n",
            "conv2d_10 (Conv2D)              (None, None, None, 9 82944       activation_9[0][0]               \n",
            "__________________________________________________________________________________________________\n",
            "conv2d_11 (Conv2D)              (None, None, None, 3 6144        average_pooling2d[0][0]          \n",
            "__________________________________________________________________________________________________\n",
            "batch_normalization_5 (BatchNor (None, None, None, 6 192         conv2d_5[0][0]                   \n",
            "__________________________________________________________________________________________________\n",
            "batch_normalization_7 (BatchNor (None, None, None, 6 192         conv2d_7[0][0]                   \n",
            "__________________________________________________________________________________________________\n",
            "batch_normalization_10 (BatchNo (None, None, None, 9 288         conv2d_10[0][0]                  \n",
            "__________________________________________________________________________________________________\n",
            "batch_normalization_11 (BatchNo (None, None, None, 3 96          conv2d_11[0][0]                  \n",
            "__________________________________________________________________________________________________\n",
            "activation_5 (Activation)       (None, None, None, 6 0           batch_normalization_5[0][0]      \n",
            "__________________________________________________________________________________________________\n",
            "activation_7 (Activation)       (None, None, None, 6 0           batch_normalization_7[0][0]      \n",
            "__________________________________________________________________________________________________\n",
            "activation_10 (Activation)      (None, None, None, 9 0           batch_normalization_10[0][0]     \n",
            "__________________________________________________________________________________________________\n",
            "activation_11 (Activation)      (None, None, None, 3 0           batch_normalization_11[0][0]     \n",
            "__________________________________________________________________________________________________\n",
            "mixed0 (Concatenate)            (None, None, None, 2 0           activation_5[0][0]               \n",
            "                                                                 activation_7[0][0]               \n",
            "                                                                 activation_10[0][0]              \n",
            "                                                                 activation_11[0][0]              \n",
            "__________________________________________________________________________________________________\n",
            "conv2d_15 (Conv2D)              (None, None, None, 6 16384       mixed0[0][0]                     \n",
            "__________________________________________________________________________________________________\n",
            "batch_normalization_15 (BatchNo (None, None, None, 6 192         conv2d_15[0][0]                  \n",
            "__________________________________________________________________________________________________\n",
            "activation_15 (Activation)      (None, None, None, 6 0           batch_normalization_15[0][0]     \n",
            "__________________________________________________________________________________________________\n",
            "conv2d_13 (Conv2D)              (None, None, None, 4 12288       mixed0[0][0]                     \n",
            "__________________________________________________________________________________________________\n",
            "conv2d_16 (Conv2D)              (None, None, None, 9 55296       activation_15[0][0]              \n",
            "__________________________________________________________________________________________________\n",
            "batch_normalization_13 (BatchNo (None, None, None, 4 144         conv2d_13[0][0]                  \n",
            "__________________________________________________________________________________________________\n",
            "batch_normalization_16 (BatchNo (None, None, None, 9 288         conv2d_16[0][0]                  \n",
            "__________________________________________________________________________________________________\n",
            "activation_13 (Activation)      (None, None, None, 4 0           batch_normalization_13[0][0]     \n",
            "__________________________________________________________________________________________________\n",
            "activation_16 (Activation)      (None, None, None, 9 0           batch_normalization_16[0][0]     \n",
            "__________________________________________________________________________________________________\n",
            "average_pooling2d_1 (AveragePoo (None, None, None, 2 0           mixed0[0][0]                     \n",
            "__________________________________________________________________________________________________\n",
            "conv2d_12 (Conv2D)              (None, None, None, 6 16384       mixed0[0][0]                     \n",
            "__________________________________________________________________________________________________\n",
            "conv2d_14 (Conv2D)              (None, None, None, 6 76800       activation_13[0][0]              \n",
            "__________________________________________________________________________________________________\n",
            "conv2d_17 (Conv2D)              (None, None, None, 9 82944       activation_16[0][0]              \n",
            "__________________________________________________________________________________________________\n",
            "conv2d_18 (Conv2D)              (None, None, None, 6 16384       average_pooling2d_1[0][0]        \n",
            "__________________________________________________________________________________________________\n",
            "batch_normalization_12 (BatchNo (None, None, None, 6 192         conv2d_12[0][0]                  \n",
            "__________________________________________________________________________________________________\n",
            "batch_normalization_14 (BatchNo (None, None, None, 6 192         conv2d_14[0][0]                  \n",
            "__________________________________________________________________________________________________\n",
            "batch_normalization_17 (BatchNo (None, None, None, 9 288         conv2d_17[0][0]                  \n",
            "__________________________________________________________________________________________________\n",
            "batch_normalization_18 (BatchNo (None, None, None, 6 192         conv2d_18[0][0]                  \n",
            "__________________________________________________________________________________________________\n",
            "activation_12 (Activation)      (None, None, None, 6 0           batch_normalization_12[0][0]     \n",
            "__________________________________________________________________________________________________\n",
            "activation_14 (Activation)      (None, None, None, 6 0           batch_normalization_14[0][0]     \n",
            "__________________________________________________________________________________________________\n",
            "activation_17 (Activation)      (None, None, None, 9 0           batch_normalization_17[0][0]     \n",
            "__________________________________________________________________________________________________\n",
            "activation_18 (Activation)      (None, None, None, 6 0           batch_normalization_18[0][0]     \n",
            "__________________________________________________________________________________________________\n",
            "mixed1 (Concatenate)            (None, None, None, 2 0           activation_12[0][0]              \n",
            "                                                                 activation_14[0][0]              \n",
            "                                                                 activation_17[0][0]              \n",
            "                                                                 activation_18[0][0]              \n",
            "__________________________________________________________________________________________________\n",
            "conv2d_22 (Conv2D)              (None, None, None, 6 18432       mixed1[0][0]                     \n",
            "__________________________________________________________________________________________________\n",
            "batch_normalization_22 (BatchNo (None, None, None, 6 192         conv2d_22[0][0]                  \n",
            "__________________________________________________________________________________________________\n",
            "activation_22 (Activation)      (None, None, None, 6 0           batch_normalization_22[0][0]     \n",
            "__________________________________________________________________________________________________\n",
            "conv2d_20 (Conv2D)              (None, None, None, 4 13824       mixed1[0][0]                     \n",
            "__________________________________________________________________________________________________\n",
            "conv2d_23 (Conv2D)              (None, None, None, 9 55296       activation_22[0][0]              \n",
            "__________________________________________________________________________________________________\n",
            "batch_normalization_20 (BatchNo (None, None, None, 4 144         conv2d_20[0][0]                  \n",
            "__________________________________________________________________________________________________\n",
            "batch_normalization_23 (BatchNo (None, None, None, 9 288         conv2d_23[0][0]                  \n",
            "__________________________________________________________________________________________________\n",
            "activation_20 (Activation)      (None, None, None, 4 0           batch_normalization_20[0][0]     \n",
            "__________________________________________________________________________________________________\n",
            "activation_23 (Activation)      (None, None, None, 9 0           batch_normalization_23[0][0]     \n",
            "__________________________________________________________________________________________________\n",
            "average_pooling2d_2 (AveragePoo (None, None, None, 2 0           mixed1[0][0]                     \n",
            "__________________________________________________________________________________________________\n",
            "conv2d_19 (Conv2D)              (None, None, None, 6 18432       mixed1[0][0]                     \n",
            "__________________________________________________________________________________________________\n",
            "conv2d_21 (Conv2D)              (None, None, None, 6 76800       activation_20[0][0]              \n",
            "__________________________________________________________________________________________________\n",
            "conv2d_24 (Conv2D)              (None, None, None, 9 82944       activation_23[0][0]              \n",
            "__________________________________________________________________________________________________\n",
            "conv2d_25 (Conv2D)              (None, None, None, 6 18432       average_pooling2d_2[0][0]        \n",
            "__________________________________________________________________________________________________\n",
            "batch_normalization_19 (BatchNo (None, None, None, 6 192         conv2d_19[0][0]                  \n",
            "__________________________________________________________________________________________________\n",
            "batch_normalization_21 (BatchNo (None, None, None, 6 192         conv2d_21[0][0]                  \n",
            "__________________________________________________________________________________________________\n",
            "batch_normalization_24 (BatchNo (None, None, None, 9 288         conv2d_24[0][0]                  \n",
            "__________________________________________________________________________________________________\n",
            "batch_normalization_25 (BatchNo (None, None, None, 6 192         conv2d_25[0][0]                  \n",
            "__________________________________________________________________________________________________\n",
            "activation_19 (Activation)      (None, None, None, 6 0           batch_normalization_19[0][0]     \n",
            "__________________________________________________________________________________________________\n",
            "activation_21 (Activation)      (None, None, None, 6 0           batch_normalization_21[0][0]     \n",
            "__________________________________________________________________________________________________\n",
            "activation_24 (Activation)      (None, None, None, 9 0           batch_normalization_24[0][0]     \n",
            "__________________________________________________________________________________________________\n",
            "activation_25 (Activation)      (None, None, None, 6 0           batch_normalization_25[0][0]     \n",
            "__________________________________________________________________________________________________\n",
            "mixed2 (Concatenate)            (None, None, None, 2 0           activation_19[0][0]              \n",
            "                                                                 activation_21[0][0]              \n",
            "                                                                 activation_24[0][0]              \n",
            "                                                                 activation_25[0][0]              \n",
            "__________________________________________________________________________________________________\n",
            "conv2d_27 (Conv2D)              (None, None, None, 6 18432       mixed2[0][0]                     \n",
            "__________________________________________________________________________________________________\n",
            "batch_normalization_27 (BatchNo (None, None, None, 6 192         conv2d_27[0][0]                  \n",
            "__________________________________________________________________________________________________\n",
            "activation_27 (Activation)      (None, None, None, 6 0           batch_normalization_27[0][0]     \n",
            "__________________________________________________________________________________________________\n",
            "conv2d_28 (Conv2D)              (None, None, None, 9 55296       activation_27[0][0]              \n",
            "__________________________________________________________________________________________________\n",
            "batch_normalization_28 (BatchNo (None, None, None, 9 288         conv2d_28[0][0]                  \n",
            "__________________________________________________________________________________________________\n",
            "activation_28 (Activation)      (None, None, None, 9 0           batch_normalization_28[0][0]     \n",
            "__________________________________________________________________________________________________\n",
            "conv2d_26 (Conv2D)              (None, None, None, 3 995328      mixed2[0][0]                     \n",
            "__________________________________________________________________________________________________\n",
            "conv2d_29 (Conv2D)              (None, None, None, 9 82944       activation_28[0][0]              \n",
            "__________________________________________________________________________________________________\n",
            "batch_normalization_26 (BatchNo (None, None, None, 3 1152        conv2d_26[0][0]                  \n",
            "__________________________________________________________________________________________________\n",
            "batch_normalization_29 (BatchNo (None, None, None, 9 288         conv2d_29[0][0]                  \n",
            "__________________________________________________________________________________________________\n",
            "activation_26 (Activation)      (None, None, None, 3 0           batch_normalization_26[0][0]     \n",
            "__________________________________________________________________________________________________\n",
            "activation_29 (Activation)      (None, None, None, 9 0           batch_normalization_29[0][0]     \n",
            "__________________________________________________________________________________________________\n",
            "max_pooling2d_2 (MaxPooling2D)  (None, None, None, 2 0           mixed2[0][0]                     \n",
            "__________________________________________________________________________________________________\n",
            "mixed3 (Concatenate)            (None, None, None, 7 0           activation_26[0][0]              \n",
            "                                                                 activation_29[0][0]              \n",
            "                                                                 max_pooling2d_2[0][0]            \n",
            "__________________________________________________________________________________________________\n",
            "conv2d_34 (Conv2D)              (None, None, None, 1 98304       mixed3[0][0]                     \n",
            "__________________________________________________________________________________________________\n",
            "batch_normalization_34 (BatchNo (None, None, None, 1 384         conv2d_34[0][0]                  \n",
            "__________________________________________________________________________________________________\n",
            "activation_34 (Activation)      (None, None, None, 1 0           batch_normalization_34[0][0]     \n",
            "__________________________________________________________________________________________________\n",
            "conv2d_35 (Conv2D)              (None, None, None, 1 114688      activation_34[0][0]              \n",
            "__________________________________________________________________________________________________\n",
            "batch_normalization_35 (BatchNo (None, None, None, 1 384         conv2d_35[0][0]                  \n",
            "__________________________________________________________________________________________________\n",
            "activation_35 (Activation)      (None, None, None, 1 0           batch_normalization_35[0][0]     \n",
            "__________________________________________________________________________________________________\n",
            "conv2d_31 (Conv2D)              (None, None, None, 1 98304       mixed3[0][0]                     \n",
            "__________________________________________________________________________________________________\n",
            "conv2d_36 (Conv2D)              (None, None, None, 1 114688      activation_35[0][0]              \n",
            "__________________________________________________________________________________________________\n",
            "batch_normalization_31 (BatchNo (None, None, None, 1 384         conv2d_31[0][0]                  \n",
            "__________________________________________________________________________________________________\n",
            "batch_normalization_36 (BatchNo (None, None, None, 1 384         conv2d_36[0][0]                  \n",
            "__________________________________________________________________________________________________\n",
            "activation_31 (Activation)      (None, None, None, 1 0           batch_normalization_31[0][0]     \n",
            "__________________________________________________________________________________________________\n",
            "activation_36 (Activation)      (None, None, None, 1 0           batch_normalization_36[0][0]     \n",
            "__________________________________________________________________________________________________\n",
            "conv2d_32 (Conv2D)              (None, None, None, 1 114688      activation_31[0][0]              \n",
            "__________________________________________________________________________________________________\n",
            "conv2d_37 (Conv2D)              (None, None, None, 1 114688      activation_36[0][0]              \n",
            "__________________________________________________________________________________________________\n",
            "batch_normalization_32 (BatchNo (None, None, None, 1 384         conv2d_32[0][0]                  \n",
            "__________________________________________________________________________________________________\n",
            "batch_normalization_37 (BatchNo (None, None, None, 1 384         conv2d_37[0][0]                  \n",
            "__________________________________________________________________________________________________\n",
            "activation_32 (Activation)      (None, None, None, 1 0           batch_normalization_32[0][0]     \n",
            "__________________________________________________________________________________________________\n",
            "activation_37 (Activation)      (None, None, None, 1 0           batch_normalization_37[0][0]     \n",
            "__________________________________________________________________________________________________\n",
            "average_pooling2d_3 (AveragePoo (None, None, None, 7 0           mixed3[0][0]                     \n",
            "__________________________________________________________________________________________________\n",
            "conv2d_30 (Conv2D)              (None, None, None, 1 147456      mixed3[0][0]                     \n",
            "__________________________________________________________________________________________________\n",
            "conv2d_33 (Conv2D)              (None, None, None, 1 172032      activation_32[0][0]              \n",
            "__________________________________________________________________________________________________\n",
            "conv2d_38 (Conv2D)              (None, None, None, 1 172032      activation_37[0][0]              \n",
            "__________________________________________________________________________________________________\n",
            "conv2d_39 (Conv2D)              (None, None, None, 1 147456      average_pooling2d_3[0][0]        \n",
            "__________________________________________________________________________________________________\n",
            "batch_normalization_30 (BatchNo (None, None, None, 1 576         conv2d_30[0][0]                  \n",
            "__________________________________________________________________________________________________\n",
            "batch_normalization_33 (BatchNo (None, None, None, 1 576         conv2d_33[0][0]                  \n",
            "__________________________________________________________________________________________________\n",
            "batch_normalization_38 (BatchNo (None, None, None, 1 576         conv2d_38[0][0]                  \n",
            "__________________________________________________________________________________________________\n",
            "batch_normalization_39 (BatchNo (None, None, None, 1 576         conv2d_39[0][0]                  \n",
            "__________________________________________________________________________________________________\n",
            "activation_30 (Activation)      (None, None, None, 1 0           batch_normalization_30[0][0]     \n",
            "__________________________________________________________________________________________________\n",
            "activation_33 (Activation)      (None, None, None, 1 0           batch_normalization_33[0][0]     \n",
            "__________________________________________________________________________________________________\n",
            "activation_38 (Activation)      (None, None, None, 1 0           batch_normalization_38[0][0]     \n",
            "__________________________________________________________________________________________________\n",
            "activation_39 (Activation)      (None, None, None, 1 0           batch_normalization_39[0][0]     \n",
            "__________________________________________________________________________________________________\n",
            "mixed4 (Concatenate)            (None, None, None, 7 0           activation_30[0][0]              \n",
            "                                                                 activation_33[0][0]              \n",
            "                                                                 activation_38[0][0]              \n",
            "                                                                 activation_39[0][0]              \n",
            "__________________________________________________________________________________________________\n",
            "conv2d_44 (Conv2D)              (None, None, None, 1 122880      mixed4[0][0]                     \n",
            "__________________________________________________________________________________________________\n",
            "batch_normalization_44 (BatchNo (None, None, None, 1 480         conv2d_44[0][0]                  \n",
            "__________________________________________________________________________________________________\n",
            "activation_44 (Activation)      (None, None, None, 1 0           batch_normalization_44[0][0]     \n",
            "__________________________________________________________________________________________________\n",
            "conv2d_45 (Conv2D)              (None, None, None, 1 179200      activation_44[0][0]              \n",
            "__________________________________________________________________________________________________\n",
            "batch_normalization_45 (BatchNo (None, None, None, 1 480         conv2d_45[0][0]                  \n",
            "__________________________________________________________________________________________________\n",
            "activation_45 (Activation)      (None, None, None, 1 0           batch_normalization_45[0][0]     \n",
            "__________________________________________________________________________________________________\n",
            "conv2d_41 (Conv2D)              (None, None, None, 1 122880      mixed4[0][0]                     \n",
            "__________________________________________________________________________________________________\n",
            "conv2d_46 (Conv2D)              (None, None, None, 1 179200      activation_45[0][0]              \n",
            "__________________________________________________________________________________________________\n",
            "batch_normalization_41 (BatchNo (None, None, None, 1 480         conv2d_41[0][0]                  \n",
            "__________________________________________________________________________________________________\n",
            "batch_normalization_46 (BatchNo (None, None, None, 1 480         conv2d_46[0][0]                  \n",
            "__________________________________________________________________________________________________\n",
            "activation_41 (Activation)      (None, None, None, 1 0           batch_normalization_41[0][0]     \n",
            "__________________________________________________________________________________________________\n",
            "activation_46 (Activation)      (None, None, None, 1 0           batch_normalization_46[0][0]     \n",
            "__________________________________________________________________________________________________\n",
            "conv2d_42 (Conv2D)              (None, None, None, 1 179200      activation_41[0][0]              \n",
            "__________________________________________________________________________________________________\n",
            "conv2d_47 (Conv2D)              (None, None, None, 1 179200      activation_46[0][0]              \n",
            "__________________________________________________________________________________________________\n",
            "batch_normalization_42 (BatchNo (None, None, None, 1 480         conv2d_42[0][0]                  \n",
            "__________________________________________________________________________________________________\n",
            "batch_normalization_47 (BatchNo (None, None, None, 1 480         conv2d_47[0][0]                  \n",
            "__________________________________________________________________________________________________\n",
            "activation_42 (Activation)      (None, None, None, 1 0           batch_normalization_42[0][0]     \n",
            "__________________________________________________________________________________________________\n",
            "activation_47 (Activation)      (None, None, None, 1 0           batch_normalization_47[0][0]     \n",
            "__________________________________________________________________________________________________\n",
            "average_pooling2d_4 (AveragePoo (None, None, None, 7 0           mixed4[0][0]                     \n",
            "__________________________________________________________________________________________________\n",
            "conv2d_40 (Conv2D)              (None, None, None, 1 147456      mixed4[0][0]                     \n",
            "__________________________________________________________________________________________________\n",
            "conv2d_43 (Conv2D)              (None, None, None, 1 215040      activation_42[0][0]              \n",
            "__________________________________________________________________________________________________\n",
            "conv2d_48 (Conv2D)              (None, None, None, 1 215040      activation_47[0][0]              \n",
            "__________________________________________________________________________________________________\n",
            "conv2d_49 (Conv2D)              (None, None, None, 1 147456      average_pooling2d_4[0][0]        \n",
            "__________________________________________________________________________________________________\n",
            "batch_normalization_40 (BatchNo (None, None, None, 1 576         conv2d_40[0][0]                  \n",
            "__________________________________________________________________________________________________\n",
            "batch_normalization_43 (BatchNo (None, None, None, 1 576         conv2d_43[0][0]                  \n",
            "__________________________________________________________________________________________________\n",
            "batch_normalization_48 (BatchNo (None, None, None, 1 576         conv2d_48[0][0]                  \n",
            "__________________________________________________________________________________________________\n",
            "batch_normalization_49 (BatchNo (None, None, None, 1 576         conv2d_49[0][0]                  \n",
            "__________________________________________________________________________________________________\n",
            "activation_40 (Activation)      (None, None, None, 1 0           batch_normalization_40[0][0]     \n",
            "__________________________________________________________________________________________________\n",
            "activation_43 (Activation)      (None, None, None, 1 0           batch_normalization_43[0][0]     \n",
            "__________________________________________________________________________________________________\n",
            "activation_48 (Activation)      (None, None, None, 1 0           batch_normalization_48[0][0]     \n",
            "__________________________________________________________________________________________________\n",
            "activation_49 (Activation)      (None, None, None, 1 0           batch_normalization_49[0][0]     \n",
            "__________________________________________________________________________________________________\n",
            "mixed5 (Concatenate)            (None, None, None, 7 0           activation_40[0][0]              \n",
            "                                                                 activation_43[0][0]              \n",
            "                                                                 activation_48[0][0]              \n",
            "                                                                 activation_49[0][0]              \n",
            "__________________________________________________________________________________________________\n",
            "conv2d_54 (Conv2D)              (None, None, None, 1 122880      mixed5[0][0]                     \n",
            "__________________________________________________________________________________________________\n",
            "batch_normalization_54 (BatchNo (None, None, None, 1 480         conv2d_54[0][0]                  \n",
            "__________________________________________________________________________________________________\n",
            "activation_54 (Activation)      (None, None, None, 1 0           batch_normalization_54[0][0]     \n",
            "__________________________________________________________________________________________________\n",
            "conv2d_55 (Conv2D)              (None, None, None, 1 179200      activation_54[0][0]              \n",
            "__________________________________________________________________________________________________\n",
            "batch_normalization_55 (BatchNo (None, None, None, 1 480         conv2d_55[0][0]                  \n",
            "__________________________________________________________________________________________________\n",
            "activation_55 (Activation)      (None, None, None, 1 0           batch_normalization_55[0][0]     \n",
            "__________________________________________________________________________________________________\n",
            "conv2d_51 (Conv2D)              (None, None, None, 1 122880      mixed5[0][0]                     \n",
            "__________________________________________________________________________________________________\n",
            "conv2d_56 (Conv2D)              (None, None, None, 1 179200      activation_55[0][0]              \n",
            "__________________________________________________________________________________________________\n",
            "batch_normalization_51 (BatchNo (None, None, None, 1 480         conv2d_51[0][0]                  \n",
            "__________________________________________________________________________________________________\n",
            "batch_normalization_56 (BatchNo (None, None, None, 1 480         conv2d_56[0][0]                  \n",
            "__________________________________________________________________________________________________\n",
            "activation_51 (Activation)      (None, None, None, 1 0           batch_normalization_51[0][0]     \n",
            "__________________________________________________________________________________________________\n",
            "activation_56 (Activation)      (None, None, None, 1 0           batch_normalization_56[0][0]     \n",
            "__________________________________________________________________________________________________\n",
            "conv2d_52 (Conv2D)              (None, None, None, 1 179200      activation_51[0][0]              \n",
            "__________________________________________________________________________________________________\n",
            "conv2d_57 (Conv2D)              (None, None, None, 1 179200      activation_56[0][0]              \n",
            "__________________________________________________________________________________________________\n",
            "batch_normalization_52 (BatchNo (None, None, None, 1 480         conv2d_52[0][0]                  \n",
            "__________________________________________________________________________________________________\n",
            "batch_normalization_57 (BatchNo (None, None, None, 1 480         conv2d_57[0][0]                  \n",
            "__________________________________________________________________________________________________\n",
            "activation_52 (Activation)      (None, None, None, 1 0           batch_normalization_52[0][0]     \n",
            "__________________________________________________________________________________________________\n",
            "activation_57 (Activation)      (None, None, None, 1 0           batch_normalization_57[0][0]     \n",
            "__________________________________________________________________________________________________\n",
            "average_pooling2d_5 (AveragePoo (None, None, None, 7 0           mixed5[0][0]                     \n",
            "__________________________________________________________________________________________________\n",
            "conv2d_50 (Conv2D)              (None, None, None, 1 147456      mixed5[0][0]                     \n",
            "__________________________________________________________________________________________________\n",
            "conv2d_53 (Conv2D)              (None, None, None, 1 215040      activation_52[0][0]              \n",
            "__________________________________________________________________________________________________\n",
            "conv2d_58 (Conv2D)              (None, None, None, 1 215040      activation_57[0][0]              \n",
            "__________________________________________________________________________________________________\n",
            "conv2d_59 (Conv2D)              (None, None, None, 1 147456      average_pooling2d_5[0][0]        \n",
            "__________________________________________________________________________________________________\n",
            "batch_normalization_50 (BatchNo (None, None, None, 1 576         conv2d_50[0][0]                  \n",
            "__________________________________________________________________________________________________\n",
            "batch_normalization_53 (BatchNo (None, None, None, 1 576         conv2d_53[0][0]                  \n",
            "__________________________________________________________________________________________________\n",
            "batch_normalization_58 (BatchNo (None, None, None, 1 576         conv2d_58[0][0]                  \n",
            "__________________________________________________________________________________________________\n",
            "batch_normalization_59 (BatchNo (None, None, None, 1 576         conv2d_59[0][0]                  \n",
            "__________________________________________________________________________________________________\n",
            "activation_50 (Activation)      (None, None, None, 1 0           batch_normalization_50[0][0]     \n",
            "__________________________________________________________________________________________________\n",
            "activation_53 (Activation)      (None, None, None, 1 0           batch_normalization_53[0][0]     \n",
            "__________________________________________________________________________________________________\n",
            "activation_58 (Activation)      (None, None, None, 1 0           batch_normalization_58[0][0]     \n",
            "__________________________________________________________________________________________________\n",
            "activation_59 (Activation)      (None, None, None, 1 0           batch_normalization_59[0][0]     \n",
            "__________________________________________________________________________________________________\n",
            "mixed6 (Concatenate)            (None, None, None, 7 0           activation_50[0][0]              \n",
            "                                                                 activation_53[0][0]              \n",
            "                                                                 activation_58[0][0]              \n",
            "                                                                 activation_59[0][0]              \n",
            "__________________________________________________________________________________________________\n",
            "conv2d_64 (Conv2D)              (None, None, None, 1 147456      mixed6[0][0]                     \n",
            "__________________________________________________________________________________________________\n",
            "batch_normalization_64 (BatchNo (None, None, None, 1 576         conv2d_64[0][0]                  \n",
            "__________________________________________________________________________________________________\n",
            "activation_64 (Activation)      (None, None, None, 1 0           batch_normalization_64[0][0]     \n",
            "__________________________________________________________________________________________________\n",
            "conv2d_65 (Conv2D)              (None, None, None, 1 258048      activation_64[0][0]              \n",
            "__________________________________________________________________________________________________\n",
            "batch_normalization_65 (BatchNo (None, None, None, 1 576         conv2d_65[0][0]                  \n",
            "__________________________________________________________________________________________________\n",
            "activation_65 (Activation)      (None, None, None, 1 0           batch_normalization_65[0][0]     \n",
            "__________________________________________________________________________________________________\n",
            "conv2d_61 (Conv2D)              (None, None, None, 1 147456      mixed6[0][0]                     \n",
            "__________________________________________________________________________________________________\n",
            "conv2d_66 (Conv2D)              (None, None, None, 1 258048      activation_65[0][0]              \n",
            "__________________________________________________________________________________________________\n",
            "batch_normalization_61 (BatchNo (None, None, None, 1 576         conv2d_61[0][0]                  \n",
            "__________________________________________________________________________________________________\n",
            "batch_normalization_66 (BatchNo (None, None, None, 1 576         conv2d_66[0][0]                  \n",
            "__________________________________________________________________________________________________\n",
            "activation_61 (Activation)      (None, None, None, 1 0           batch_normalization_61[0][0]     \n",
            "__________________________________________________________________________________________________\n",
            "activation_66 (Activation)      (None, None, None, 1 0           batch_normalization_66[0][0]     \n",
            "__________________________________________________________________________________________________\n",
            "conv2d_62 (Conv2D)              (None, None, None, 1 258048      activation_61[0][0]              \n",
            "__________________________________________________________________________________________________\n",
            "conv2d_67 (Conv2D)              (None, None, None, 1 258048      activation_66[0][0]              \n",
            "__________________________________________________________________________________________________\n",
            "batch_normalization_62 (BatchNo (None, None, None, 1 576         conv2d_62[0][0]                  \n",
            "__________________________________________________________________________________________________\n",
            "batch_normalization_67 (BatchNo (None, None, None, 1 576         conv2d_67[0][0]                  \n",
            "__________________________________________________________________________________________________\n",
            "activation_62 (Activation)      (None, None, None, 1 0           batch_normalization_62[0][0]     \n",
            "__________________________________________________________________________________________________\n",
            "activation_67 (Activation)      (None, None, None, 1 0           batch_normalization_67[0][0]     \n",
            "__________________________________________________________________________________________________\n",
            "average_pooling2d_6 (AveragePoo (None, None, None, 7 0           mixed6[0][0]                     \n",
            "__________________________________________________________________________________________________\n",
            "conv2d_60 (Conv2D)              (None, None, None, 1 147456      mixed6[0][0]                     \n",
            "__________________________________________________________________________________________________\n",
            "conv2d_63 (Conv2D)              (None, None, None, 1 258048      activation_62[0][0]              \n",
            "__________________________________________________________________________________________________\n",
            "conv2d_68 (Conv2D)              (None, None, None, 1 258048      activation_67[0][0]              \n",
            "__________________________________________________________________________________________________\n",
            "conv2d_69 (Conv2D)              (None, None, None, 1 147456      average_pooling2d_6[0][0]        \n",
            "__________________________________________________________________________________________________\n",
            "batch_normalization_60 (BatchNo (None, None, None, 1 576         conv2d_60[0][0]                  \n",
            "__________________________________________________________________________________________________\n",
            "batch_normalization_63 (BatchNo (None, None, None, 1 576         conv2d_63[0][0]                  \n",
            "__________________________________________________________________________________________________\n",
            "batch_normalization_68 (BatchNo (None, None, None, 1 576         conv2d_68[0][0]                  \n",
            "__________________________________________________________________________________________________\n",
            "batch_normalization_69 (BatchNo (None, None, None, 1 576         conv2d_69[0][0]                  \n",
            "__________________________________________________________________________________________________\n",
            "activation_60 (Activation)      (None, None, None, 1 0           batch_normalization_60[0][0]     \n",
            "__________________________________________________________________________________________________\n",
            "activation_63 (Activation)      (None, None, None, 1 0           batch_normalization_63[0][0]     \n",
            "__________________________________________________________________________________________________\n",
            "activation_68 (Activation)      (None, None, None, 1 0           batch_normalization_68[0][0]     \n",
            "__________________________________________________________________________________________________\n",
            "activation_69 (Activation)      (None, None, None, 1 0           batch_normalization_69[0][0]     \n",
            "__________________________________________________________________________________________________\n",
            "mixed7 (Concatenate)            (None, None, None, 7 0           activation_60[0][0]              \n",
            "                                                                 activation_63[0][0]              \n",
            "                                                                 activation_68[0][0]              \n",
            "                                                                 activation_69[0][0]              \n",
            "__________________________________________________________________________________________________\n",
            "conv2d_72 (Conv2D)              (None, None, None, 1 147456      mixed7[0][0]                     \n",
            "__________________________________________________________________________________________________\n",
            "batch_normalization_72 (BatchNo (None, None, None, 1 576         conv2d_72[0][0]                  \n",
            "__________________________________________________________________________________________________\n",
            "activation_72 (Activation)      (None, None, None, 1 0           batch_normalization_72[0][0]     \n",
            "__________________________________________________________________________________________________\n",
            "conv2d_73 (Conv2D)              (None, None, None, 1 258048      activation_72[0][0]              \n",
            "__________________________________________________________________________________________________\n",
            "batch_normalization_73 (BatchNo (None, None, None, 1 576         conv2d_73[0][0]                  \n",
            "__________________________________________________________________________________________________\n",
            "activation_73 (Activation)      (None, None, None, 1 0           batch_normalization_73[0][0]     \n",
            "__________________________________________________________________________________________________\n",
            "conv2d_70 (Conv2D)              (None, None, None, 1 147456      mixed7[0][0]                     \n",
            "__________________________________________________________________________________________________\n",
            "conv2d_74 (Conv2D)              (None, None, None, 1 258048      activation_73[0][0]              \n",
            "__________________________________________________________________________________________________\n",
            "batch_normalization_70 (BatchNo (None, None, None, 1 576         conv2d_70[0][0]                  \n",
            "__________________________________________________________________________________________________\n",
            "batch_normalization_74 (BatchNo (None, None, None, 1 576         conv2d_74[0][0]                  \n",
            "__________________________________________________________________________________________________\n",
            "activation_70 (Activation)      (None, None, None, 1 0           batch_normalization_70[0][0]     \n",
            "__________________________________________________________________________________________________\n",
            "activation_74 (Activation)      (None, None, None, 1 0           batch_normalization_74[0][0]     \n",
            "__________________________________________________________________________________________________\n",
            "conv2d_71 (Conv2D)              (None, None, None, 3 552960      activation_70[0][0]              \n",
            "__________________________________________________________________________________________________\n",
            "conv2d_75 (Conv2D)              (None, None, None, 1 331776      activation_74[0][0]              \n",
            "__________________________________________________________________________________________________\n",
            "batch_normalization_71 (BatchNo (None, None, None, 3 960         conv2d_71[0][0]                  \n",
            "__________________________________________________________________________________________________\n",
            "batch_normalization_75 (BatchNo (None, None, None, 1 576         conv2d_75[0][0]                  \n",
            "__________________________________________________________________________________________________\n",
            "activation_71 (Activation)      (None, None, None, 3 0           batch_normalization_71[0][0]     \n",
            "__________________________________________________________________________________________________\n",
            "activation_75 (Activation)      (None, None, None, 1 0           batch_normalization_75[0][0]     \n",
            "__________________________________________________________________________________________________\n",
            "max_pooling2d_3 (MaxPooling2D)  (None, None, None, 7 0           mixed7[0][0]                     \n",
            "__________________________________________________________________________________________________\n",
            "mixed8 (Concatenate)            (None, None, None, 1 0           activation_71[0][0]              \n",
            "                                                                 activation_75[0][0]              \n",
            "                                                                 max_pooling2d_3[0][0]            \n",
            "__________________________________________________________________________________________________\n",
            "conv2d_80 (Conv2D)              (None, None, None, 4 573440      mixed8[0][0]                     \n",
            "__________________________________________________________________________________________________\n",
            "batch_normalization_80 (BatchNo (None, None, None, 4 1344        conv2d_80[0][0]                  \n",
            "__________________________________________________________________________________________________\n",
            "activation_80 (Activation)      (None, None, None, 4 0           batch_normalization_80[0][0]     \n",
            "__________________________________________________________________________________________________\n",
            "conv2d_77 (Conv2D)              (None, None, None, 3 491520      mixed8[0][0]                     \n",
            "__________________________________________________________________________________________________\n",
            "conv2d_81 (Conv2D)              (None, None, None, 3 1548288     activation_80[0][0]              \n",
            "__________________________________________________________________________________________________\n",
            "batch_normalization_77 (BatchNo (None, None, None, 3 1152        conv2d_77[0][0]                  \n",
            "__________________________________________________________________________________________________\n",
            "batch_normalization_81 (BatchNo (None, None, None, 3 1152        conv2d_81[0][0]                  \n",
            "__________________________________________________________________________________________________\n",
            "activation_77 (Activation)      (None, None, None, 3 0           batch_normalization_77[0][0]     \n",
            "__________________________________________________________________________________________________\n",
            "activation_81 (Activation)      (None, None, None, 3 0           batch_normalization_81[0][0]     \n",
            "__________________________________________________________________________________________________\n",
            "conv2d_78 (Conv2D)              (None, None, None, 3 442368      activation_77[0][0]              \n",
            "__________________________________________________________________________________________________\n",
            "conv2d_79 (Conv2D)              (None, None, None, 3 442368      activation_77[0][0]              \n",
            "__________________________________________________________________________________________________\n",
            "conv2d_82 (Conv2D)              (None, None, None, 3 442368      activation_81[0][0]              \n",
            "__________________________________________________________________________________________________\n",
            "conv2d_83 (Conv2D)              (None, None, None, 3 442368      activation_81[0][0]              \n",
            "__________________________________________________________________________________________________\n",
            "average_pooling2d_7 (AveragePoo (None, None, None, 1 0           mixed8[0][0]                     \n",
            "__________________________________________________________________________________________________\n",
            "conv2d_76 (Conv2D)              (None, None, None, 3 409600      mixed8[0][0]                     \n",
            "__________________________________________________________________________________________________\n",
            "batch_normalization_78 (BatchNo (None, None, None, 3 1152        conv2d_78[0][0]                  \n",
            "__________________________________________________________________________________________________\n",
            "batch_normalization_79 (BatchNo (None, None, None, 3 1152        conv2d_79[0][0]                  \n",
            "__________________________________________________________________________________________________\n",
            "batch_normalization_82 (BatchNo (None, None, None, 3 1152        conv2d_82[0][0]                  \n",
            "__________________________________________________________________________________________________\n",
            "batch_normalization_83 (BatchNo (None, None, None, 3 1152        conv2d_83[0][0]                  \n",
            "__________________________________________________________________________________________________\n",
            "conv2d_84 (Conv2D)              (None, None, None, 1 245760      average_pooling2d_7[0][0]        \n",
            "__________________________________________________________________________________________________\n",
            "batch_normalization_76 (BatchNo (None, None, None, 3 960         conv2d_76[0][0]                  \n",
            "__________________________________________________________________________________________________\n",
            "activation_78 (Activation)      (None, None, None, 3 0           batch_normalization_78[0][0]     \n",
            "__________________________________________________________________________________________________\n",
            "activation_79 (Activation)      (None, None, None, 3 0           batch_normalization_79[0][0]     \n",
            "__________________________________________________________________________________________________\n",
            "activation_82 (Activation)      (None, None, None, 3 0           batch_normalization_82[0][0]     \n",
            "__________________________________________________________________________________________________\n",
            "activation_83 (Activation)      (None, None, None, 3 0           batch_normalization_83[0][0]     \n",
            "__________________________________________________________________________________________________\n",
            "batch_normalization_84 (BatchNo (None, None, None, 1 576         conv2d_84[0][0]                  \n",
            "__________________________________________________________________________________________________\n",
            "activation_76 (Activation)      (None, None, None, 3 0           batch_normalization_76[0][0]     \n",
            "__________________________________________________________________________________________________\n",
            "mixed9_0 (Concatenate)          (None, None, None, 7 0           activation_78[0][0]              \n",
            "                                                                 activation_79[0][0]              \n",
            "__________________________________________________________________________________________________\n",
            "concatenate (Concatenate)       (None, None, None, 7 0           activation_82[0][0]              \n",
            "                                                                 activation_83[0][0]              \n",
            "__________________________________________________________________________________________________\n",
            "activation_84 (Activation)      (None, None, None, 1 0           batch_normalization_84[0][0]     \n",
            "__________________________________________________________________________________________________\n",
            "mixed9 (Concatenate)            (None, None, None, 2 0           activation_76[0][0]              \n",
            "                                                                 mixed9_0[0][0]                   \n",
            "                                                                 concatenate[0][0]                \n",
            "                                                                 activation_84[0][0]              \n",
            "__________________________________________________________________________________________________\n",
            "conv2d_89 (Conv2D)              (None, None, None, 4 917504      mixed9[0][0]                     \n",
            "__________________________________________________________________________________________________\n",
            "batch_normalization_89 (BatchNo (None, None, None, 4 1344        conv2d_89[0][0]                  \n",
            "__________________________________________________________________________________________________\n",
            "activation_89 (Activation)      (None, None, None, 4 0           batch_normalization_89[0][0]     \n",
            "__________________________________________________________________________________________________\n",
            "conv2d_86 (Conv2D)              (None, None, None, 3 786432      mixed9[0][0]                     \n",
            "__________________________________________________________________________________________________\n",
            "conv2d_90 (Conv2D)              (None, None, None, 3 1548288     activation_89[0][0]              \n",
            "__________________________________________________________________________________________________\n",
            "batch_normalization_86 (BatchNo (None, None, None, 3 1152        conv2d_86[0][0]                  \n",
            "__________________________________________________________________________________________________\n",
            "batch_normalization_90 (BatchNo (None, None, None, 3 1152        conv2d_90[0][0]                  \n",
            "__________________________________________________________________________________________________\n",
            "activation_86 (Activation)      (None, None, None, 3 0           batch_normalization_86[0][0]     \n",
            "__________________________________________________________________________________________________\n",
            "activation_90 (Activation)      (None, None, None, 3 0           batch_normalization_90[0][0]     \n",
            "__________________________________________________________________________________________________\n",
            "conv2d_87 (Conv2D)              (None, None, None, 3 442368      activation_86[0][0]              \n",
            "__________________________________________________________________________________________________\n",
            "conv2d_88 (Conv2D)              (None, None, None, 3 442368      activation_86[0][0]              \n",
            "__________________________________________________________________________________________________\n",
            "conv2d_91 (Conv2D)              (None, None, None, 3 442368      activation_90[0][0]              \n",
            "__________________________________________________________________________________________________\n",
            "conv2d_92 (Conv2D)              (None, None, None, 3 442368      activation_90[0][0]              \n",
            "__________________________________________________________________________________________________\n",
            "average_pooling2d_8 (AveragePoo (None, None, None, 2 0           mixed9[0][0]                     \n",
            "__________________________________________________________________________________________________\n",
            "conv2d_85 (Conv2D)              (None, None, None, 3 655360      mixed9[0][0]                     \n",
            "__________________________________________________________________________________________________\n",
            "batch_normalization_87 (BatchNo (None, None, None, 3 1152        conv2d_87[0][0]                  \n",
            "__________________________________________________________________________________________________\n",
            "batch_normalization_88 (BatchNo (None, None, None, 3 1152        conv2d_88[0][0]                  \n",
            "__________________________________________________________________________________________________\n",
            "batch_normalization_91 (BatchNo (None, None, None, 3 1152        conv2d_91[0][0]                  \n",
            "__________________________________________________________________________________________________\n",
            "batch_normalization_92 (BatchNo (None, None, None, 3 1152        conv2d_92[0][0]                  \n",
            "__________________________________________________________________________________________________\n",
            "conv2d_93 (Conv2D)              (None, None, None, 1 393216      average_pooling2d_8[0][0]        \n",
            "__________________________________________________________________________________________________\n",
            "batch_normalization_85 (BatchNo (None, None, None, 3 960         conv2d_85[0][0]                  \n",
            "__________________________________________________________________________________________________\n",
            "activation_87 (Activation)      (None, None, None, 3 0           batch_normalization_87[0][0]     \n",
            "__________________________________________________________________________________________________\n",
            "activation_88 (Activation)      (None, None, None, 3 0           batch_normalization_88[0][0]     \n",
            "__________________________________________________________________________________________________\n",
            "activation_91 (Activation)      (None, None, None, 3 0           batch_normalization_91[0][0]     \n",
            "__________________________________________________________________________________________________\n",
            "activation_92 (Activation)      (None, None, None, 3 0           batch_normalization_92[0][0]     \n",
            "__________________________________________________________________________________________________\n",
            "batch_normalization_93 (BatchNo (None, None, None, 1 576         conv2d_93[0][0]                  \n",
            "__________________________________________________________________________________________________\n",
            "activation_85 (Activation)      (None, None, None, 3 0           batch_normalization_85[0][0]     \n",
            "__________________________________________________________________________________________________\n",
            "mixed9_1 (Concatenate)          (None, None, None, 7 0           activation_87[0][0]              \n",
            "                                                                 activation_88[0][0]              \n",
            "__________________________________________________________________________________________________\n",
            "concatenate_1 (Concatenate)     (None, None, None, 7 0           activation_91[0][0]              \n",
            "                                                                 activation_92[0][0]              \n",
            "__________________________________________________________________________________________________\n",
            "activation_93 (Activation)      (None, None, None, 1 0           batch_normalization_93[0][0]     \n",
            "__________________________________________________________________________________________________\n",
            "mixed10 (Concatenate)           (None, None, None, 2 0           activation_85[0][0]              \n",
            "                                                                 mixed9_1[0][0]                   \n",
            "                                                                 concatenate_1[0][0]              \n",
            "                                                                 activation_93[0][0]              \n",
            "__________________________________________________________________________________________________\n",
            "decoder_stage0_upsampling (UpSa (None, None, None, 2 0           mixed10[0][0]                    \n",
            "__________________________________________________________________________________________________\n",
            "decoder_stage0_concat (Concaten (None, None, None, 2 0           decoder_stage0_upsampling[0][0]  \n",
            "                                                                 mixed7[0][0]                     \n",
            "__________________________________________________________________________________________________\n",
            "decoder_stage0a_conv (Conv2D)   (None, None, None, 2 6488064     decoder_stage0_concat[0][0]      \n",
            "__________________________________________________________________________________________________\n",
            "decoder_stage0a_bn (BatchNormal (None, None, None, 2 1024        decoder_stage0a_conv[0][0]       \n",
            "__________________________________________________________________________________________________\n",
            "decoder_stage0a_relu (Activatio (None, None, None, 2 0           decoder_stage0a_bn[0][0]         \n",
            "__________________________________________________________________________________________________\n",
            "decoder_stage0b_conv (Conv2D)   (None, None, None, 2 589824      decoder_stage0a_relu[0][0]       \n",
            "__________________________________________________________________________________________________\n",
            "decoder_stage0b_bn (BatchNormal (None, None, None, 2 1024        decoder_stage0b_conv[0][0]       \n",
            "__________________________________________________________________________________________________\n",
            "decoder_stage0b_relu (Activatio (None, None, None, 2 0           decoder_stage0b_bn[0][0]         \n",
            "__________________________________________________________________________________________________\n",
            "decoder_stage1_upsampling (UpSa (None, None, None, 2 0           decoder_stage0b_relu[0][0]       \n",
            "__________________________________________________________________________________________________\n",
            "decoder_stage1_concat (Concaten (None, None, None, 5 0           decoder_stage1_upsampling[0][0]  \n",
            "                                                                 mixed2[0][0]                     \n",
            "__________________________________________________________________________________________________\n",
            "decoder_stage1a_conv (Conv2D)   (None, None, None, 1 626688      decoder_stage1_concat[0][0]      \n",
            "__________________________________________________________________________________________________\n",
            "decoder_stage1a_bn (BatchNormal (None, None, None, 1 512         decoder_stage1a_conv[0][0]       \n",
            "__________________________________________________________________________________________________\n",
            "decoder_stage1a_relu (Activatio (None, None, None, 1 0           decoder_stage1a_bn[0][0]         \n",
            "__________________________________________________________________________________________________\n",
            "decoder_stage1b_conv (Conv2D)   (None, None, None, 1 147456      decoder_stage1a_relu[0][0]       \n",
            "__________________________________________________________________________________________________\n",
            "decoder_stage1b_bn (BatchNormal (None, None, None, 1 512         decoder_stage1b_conv[0][0]       \n",
            "__________________________________________________________________________________________________\n",
            "decoder_stage1b_relu (Activatio (None, None, None, 1 0           decoder_stage1b_bn[0][0]         \n",
            "__________________________________________________________________________________________________\n",
            "decoder_stage2_upsampling (UpSa (None, None, None, 1 0           decoder_stage1b_relu[0][0]       \n",
            "__________________________________________________________________________________________________\n",
            "decoder_stage2_concat (Concaten (None, None, None, 3 0           decoder_stage2_upsampling[0][0]  \n",
            "                                                                 activation_4[0][0]               \n",
            "__________________________________________________________________________________________________\n",
            "decoder_stage2a_conv (Conv2D)   (None, None, None, 6 184320      decoder_stage2_concat[0][0]      \n",
            "__________________________________________________________________________________________________\n",
            "decoder_stage2a_bn (BatchNormal (None, None, None, 6 256         decoder_stage2a_conv[0][0]       \n",
            "__________________________________________________________________________________________________\n",
            "decoder_stage2a_relu (Activatio (None, None, None, 6 0           decoder_stage2a_bn[0][0]         \n",
            "__________________________________________________________________________________________________\n",
            "decoder_stage2b_conv (Conv2D)   (None, None, None, 6 36864       decoder_stage2a_relu[0][0]       \n",
            "__________________________________________________________________________________________________\n",
            "decoder_stage2b_bn (BatchNormal (None, None, None, 6 256         decoder_stage2b_conv[0][0]       \n",
            "__________________________________________________________________________________________________\n",
            "decoder_stage2b_relu (Activatio (None, None, None, 6 0           decoder_stage2b_bn[0][0]         \n",
            "__________________________________________________________________________________________________\n",
            "decoder_stage3_upsampling (UpSa (None, None, None, 6 0           decoder_stage2b_relu[0][0]       \n",
            "__________________________________________________________________________________________________\n",
            "decoder_stage3_concat (Concaten (None, None, None, 1 0           decoder_stage3_upsampling[0][0]  \n",
            "                                                                 activation_2[0][0]               \n",
            "__________________________________________________________________________________________________\n",
            "decoder_stage3a_conv (Conv2D)   (None, None, None, 3 36864       decoder_stage3_concat[0][0]      \n",
            "__________________________________________________________________________________________________\n",
            "decoder_stage3a_bn (BatchNormal (None, None, None, 3 128         decoder_stage3a_conv[0][0]       \n",
            "__________________________________________________________________________________________________\n",
            "decoder_stage3a_relu (Activatio (None, None, None, 3 0           decoder_stage3a_bn[0][0]         \n",
            "__________________________________________________________________________________________________\n",
            "decoder_stage3b_conv (Conv2D)   (None, None, None, 3 9216        decoder_stage3a_relu[0][0]       \n",
            "__________________________________________________________________________________________________\n",
            "decoder_stage3b_bn (BatchNormal (None, None, None, 3 128         decoder_stage3b_conv[0][0]       \n",
            "__________________________________________________________________________________________________\n",
            "decoder_stage3b_relu (Activatio (None, None, None, 3 0           decoder_stage3b_bn[0][0]         \n",
            "__________________________________________________________________________________________________\n",
            "decoder_stage4_upsampling (UpSa (None, None, None, 3 0           decoder_stage3b_relu[0][0]       \n",
            "__________________________________________________________________________________________________\n",
            "decoder_stage4a_conv (Conv2D)   (None, None, None, 1 4608        decoder_stage4_upsampling[0][0]  \n",
            "__________________________________________________________________________________________________\n",
            "decoder_stage4a_bn (BatchNormal (None, None, None, 1 64          decoder_stage4a_conv[0][0]       \n",
            "__________________________________________________________________________________________________\n",
            "decoder_stage4a_relu (Activatio (None, None, None, 1 0           decoder_stage4a_bn[0][0]         \n",
            "__________________________________________________________________________________________________\n",
            "decoder_stage4b_conv (Conv2D)   (None, None, None, 1 2304        decoder_stage4a_relu[0][0]       \n",
            "__________________________________________________________________________________________________\n",
            "decoder_stage4b_bn (BatchNormal (None, None, None, 1 64          decoder_stage4b_conv[0][0]       \n",
            "__________________________________________________________________________________________________\n",
            "decoder_stage4b_relu (Activatio (None, None, None, 1 0           decoder_stage4b_bn[0][0]         \n",
            "__________________________________________________________________________________________________\n",
            "final_conv (Conv2D)             (None, None, None, 4 580         decoder_stage4b_relu[0][0]       \n",
            "__________________________________________________________________________________________________\n",
            "softmax (Activation)            (None, None, None, 4 0           final_conv[0][0]                 \n",
            "==================================================================================================\n",
            "Total params: 29,933,540\n",
            "Trainable params: 29,897,124\n",
            "Non-trainable params: 36,416\n",
            "__________________________________________________________________________________________________\n",
            "None\n"
          ],
          "name": "stdout"
        }
      ]
    },
    {
      "cell_type": "code",
      "metadata": {
        "id": "cdiDYeRuQg3_",
        "colab": {
          "base_uri": "https://localhost:8080/"
        },
        "outputId": "727dfd23-a071-4836-ac6c-062a7490922b"
      },
      "source": [
        "history2=model2.fit(X_train2, \n",
        "          y_train_cat,\n",
        "          batch_size=8, \n",
        "          epochs=50,\n",
        "          verbose=1,\n",
        "          validation_data=(X_test2, y_test_cat))\n",
        "\n",
        "\n",
        "model2.save('inceptionv3_backbone_50epochs.hdf5')"
      ],
      "execution_count": 38,
      "outputs": [
        {
          "output_type": "stream",
          "text": [
            "Train on 720 samples, validate on 160 samples\n",
            "Epoch 1/50\n",
            "720/720 [==============================] - 20s 28ms/sample - loss: 0.8692 - iou_score: 0.6175 - f1-score: 0.7080 - val_loss: 0.9856 - val_iou_score: 0.3579 - val_f1-score: 0.4713\n",
            "Epoch 2/50\n",
            "720/720 [==============================] - 8s 11ms/sample - loss: 0.8023 - iou_score: 0.8068 - f1-score: 0.8844 - val_loss: 0.8191 - val_iou_score: 0.7474 - val_f1-score: 0.8409\n",
            "Epoch 3/50\n",
            "720/720 [==============================] - 8s 11ms/sample - loss: 0.7890 - iou_score: 0.8380 - f1-score: 0.9053 - val_loss: 0.8108 - val_iou_score: 0.7396 - val_f1-score: 0.8368\n",
            "Epoch 4/50\n",
            "720/720 [==============================] - 8s 12ms/sample - loss: 0.7828 - iou_score: 0.8571 - f1-score: 0.9187 - val_loss: 0.7959 - val_iou_score: 0.7911 - val_f1-score: 0.8750\n",
            "Epoch 5/50\n",
            "720/720 [==============================] - 8s 11ms/sample - loss: 0.7804 - iou_score: 0.8649 - f1-score: 0.9233 - val_loss: 0.7850 - val_iou_score: 0.8330 - val_f1-score: 0.9037\n",
            "Epoch 6/50\n",
            "720/720 [==============================] - 8s 11ms/sample - loss: 0.7779 - iou_score: 0.8717 - f1-score: 0.9276 - val_loss: 0.7787 - val_iou_score: 0.8601 - val_f1-score: 0.9207\n",
            "Epoch 7/50\n",
            "720/720 [==============================] - 8s 11ms/sample - loss: 0.7765 - iou_score: 0.8767 - f1-score: 0.9311 - val_loss: 0.7782 - val_iou_score: 0.8588 - val_f1-score: 0.9199\n",
            "Epoch 8/50\n",
            "720/720 [==============================] - 8s 11ms/sample - loss: 0.7739 - iou_score: 0.8870 - f1-score: 0.9375 - val_loss: 0.7742 - val_iou_score: 0.8796 - val_f1-score: 0.9328\n",
            "Epoch 9/50\n",
            "720/720 [==============================] - 8s 11ms/sample - loss: 0.7733 - iou_score: 0.8882 - f1-score: 0.9384 - val_loss: 0.7751 - val_iou_score: 0.8754 - val_f1-score: 0.9300\n",
            "Epoch 10/50\n",
            "720/720 [==============================] - 8s 11ms/sample - loss: 0.7731 - iou_score: 0.8890 - f1-score: 0.9387 - val_loss: 0.7739 - val_iou_score: 0.8811 - val_f1-score: 0.9336\n",
            "Epoch 11/50\n",
            "720/720 [==============================] - 8s 11ms/sample - loss: 0.7722 - iou_score: 0.8925 - f1-score: 0.9407 - val_loss: 0.7747 - val_iou_score: 0.8783 - val_f1-score: 0.9321\n",
            "Epoch 12/50\n",
            "720/720 [==============================] - 8s 11ms/sample - loss: 0.7715 - iou_score: 0.8944 - f1-score: 0.9420 - val_loss: 0.7716 - val_iou_score: 0.8920 - val_f1-score: 0.9406\n",
            "Epoch 13/50\n",
            "720/720 [==============================] - 8s 11ms/sample - loss: 0.7699 - iou_score: 0.9027 - f1-score: 0.9470 - val_loss: 0.7718 - val_iou_score: 0.8875 - val_f1-score: 0.9379\n",
            "Epoch 14/50\n",
            "720/720 [==============================] - 8s 11ms/sample - loss: 0.7691 - iou_score: 0.9060 - f1-score: 0.9489 - val_loss: 0.7718 - val_iou_score: 0.8919 - val_f1-score: 0.9407\n",
            "Epoch 15/50\n",
            "720/720 [==============================] - 8s 11ms/sample - loss: 0.7686 - iou_score: 0.9073 - f1-score: 0.9498 - val_loss: 0.7714 - val_iou_score: 0.8897 - val_f1-score: 0.9394\n",
            "Epoch 16/50\n",
            "720/720 [==============================] - 8s 11ms/sample - loss: 0.7686 - iou_score: 0.9073 - f1-score: 0.9497 - val_loss: 0.7738 - val_iou_score: 0.8807 - val_f1-score: 0.9339\n",
            "Epoch 17/50\n",
            "720/720 [==============================] - 8s 11ms/sample - loss: 0.7683 - iou_score: 0.9090 - f1-score: 0.9507 - val_loss: 0.7702 - val_iou_score: 0.8977 - val_f1-score: 0.9441\n",
            "Epoch 18/50\n",
            "720/720 [==============================] - 8s 11ms/sample - loss: 0.7675 - iou_score: 0.9128 - f1-score: 0.9529 - val_loss: 0.7708 - val_iou_score: 0.8942 - val_f1-score: 0.9419\n",
            "Epoch 19/50\n",
            "720/720 [==============================] - 8s 11ms/sample - loss: 0.7676 - iou_score: 0.9128 - f1-score: 0.9529 - val_loss: 0.7727 - val_iou_score: 0.8855 - val_f1-score: 0.9368\n",
            "Epoch 20/50\n",
            "720/720 [==============================] - 8s 11ms/sample - loss: 0.7675 - iou_score: 0.9126 - f1-score: 0.9529 - val_loss: 0.7698 - val_iou_score: 0.8986 - val_f1-score: 0.9446\n",
            "Epoch 21/50\n",
            "720/720 [==============================] - 8s 11ms/sample - loss: 0.7671 - iou_score: 0.9147 - f1-score: 0.9541 - val_loss: 0.7727 - val_iou_score: 0.8839 - val_f1-score: 0.9358\n",
            "Epoch 22/50\n",
            "720/720 [==============================] - 8s 11ms/sample - loss: 0.7660 - iou_score: 0.9193 - f1-score: 0.9567 - val_loss: 0.7696 - val_iou_score: 0.8992 - val_f1-score: 0.9449\n",
            "Epoch 23/50\n",
            "720/720 [==============================] - 8s 11ms/sample - loss: 0.7656 - iou_score: 0.9214 - f1-score: 0.9579 - val_loss: 0.7702 - val_iou_score: 0.8959 - val_f1-score: 0.9429\n",
            "Epoch 24/50\n",
            "720/720 [==============================] - 8s 11ms/sample - loss: 0.7649 - iou_score: 0.9248 - f1-score: 0.9599 - val_loss: 0.7693 - val_iou_score: 0.9007 - val_f1-score: 0.9458\n",
            "Epoch 25/50\n",
            "720/720 [==============================] - 8s 11ms/sample - loss: 0.7646 - iou_score: 0.9262 - f1-score: 0.9607 - val_loss: 0.7702 - val_iou_score: 0.8960 - val_f1-score: 0.9429\n",
            "Epoch 26/50\n",
            "720/720 [==============================] - 8s 11ms/sample - loss: 0.7643 - iou_score: 0.9278 - f1-score: 0.9616 - val_loss: 0.7694 - val_iou_score: 0.8996 - val_f1-score: 0.9452\n",
            "Epoch 27/50\n",
            "720/720 [==============================] - 8s 11ms/sample - loss: 0.7642 - iou_score: 0.9276 - f1-score: 0.9615 - val_loss: 0.7699 - val_iou_score: 0.8976 - val_f1-score: 0.9439\n",
            "Epoch 28/50\n",
            "720/720 [==============================] - 8s 11ms/sample - loss: 0.7633 - iou_score: 0.9325 - f1-score: 0.9642 - val_loss: 0.7703 - val_iou_score: 0.8949 - val_f1-score: 0.9424\n",
            "Epoch 29/50\n",
            "720/720 [==============================] - 8s 11ms/sample - loss: 0.7634 - iou_score: 0.9318 - f1-score: 0.9639 - val_loss: 0.7699 - val_iou_score: 0.8980 - val_f1-score: 0.9441\n",
            "Epoch 30/50\n",
            "720/720 [==============================] - 8s 11ms/sample - loss: 0.7640 - iou_score: 0.9296 - f1-score: 0.9614 - val_loss: 0.7710 - val_iou_score: 0.8923 - val_f1-score: 0.9405\n",
            "Epoch 31/50\n",
            "720/720 [==============================] - 8s 11ms/sample - loss: 0.7632 - iou_score: 0.9323 - f1-score: 0.9640 - val_loss: 0.7711 - val_iou_score: 0.8917 - val_f1-score: 0.9404\n",
            "Epoch 32/50\n",
            "720/720 [==============================] - 8s 11ms/sample - loss: 0.7628 - iou_score: 0.9347 - f1-score: 0.9654 - val_loss: 0.7718 - val_iou_score: 0.8894 - val_f1-score: 0.9389\n",
            "Epoch 33/50\n",
            "720/720 [==============================] - 8s 11ms/sample - loss: 0.7632 - iou_score: 0.9329 - f1-score: 0.9645 - val_loss: 0.7709 - val_iou_score: 0.8939 - val_f1-score: 0.9415\n",
            "Epoch 34/50\n",
            "720/720 [==============================] - 8s 11ms/sample - loss: 0.7619 - iou_score: 0.9390 - f1-score: 0.9679 - val_loss: 0.7689 - val_iou_score: 0.9023 - val_f1-score: 0.9467\n",
            "Epoch 35/50\n",
            "720/720 [==============================] - 8s 11ms/sample - loss: 0.7620 - iou_score: 0.9385 - f1-score: 0.9676 - val_loss: 0.7695 - val_iou_score: 0.8993 - val_f1-score: 0.9449\n",
            "Epoch 36/50\n",
            "720/720 [==============================] - 8s 11ms/sample - loss: 0.7620 - iou_score: 0.9383 - f1-score: 0.9674 - val_loss: 0.7711 - val_iou_score: 0.8918 - val_f1-score: 0.9402\n",
            "Epoch 37/50\n",
            "720/720 [==============================] - 8s 11ms/sample - loss: 0.7619 - iou_score: 0.9387 - f1-score: 0.9677 - val_loss: 0.7704 - val_iou_score: 0.8955 - val_f1-score: 0.9425\n",
            "Epoch 38/50\n",
            "720/720 [==============================] - 8s 11ms/sample - loss: 0.7614 - iou_score: 0.9415 - f1-score: 0.9693 - val_loss: 0.7702 - val_iou_score: 0.8959 - val_f1-score: 0.9428\n",
            "Epoch 39/50\n",
            "720/720 [==============================] - 8s 11ms/sample - loss: 0.7614 - iou_score: 0.9414 - f1-score: 0.9692 - val_loss: 0.7703 - val_iou_score: 0.8937 - val_f1-score: 0.9416\n",
            "Epoch 40/50\n",
            "720/720 [==============================] - 8s 11ms/sample - loss: 0.7615 - iou_score: 0.9404 - f1-score: 0.9687 - val_loss: 0.7697 - val_iou_score: 0.8988 - val_f1-score: 0.9446\n",
            "Epoch 41/50\n",
            "720/720 [==============================] - 8s 11ms/sample - loss: 0.7610 - iou_score: 0.9433 - f1-score: 0.9703 - val_loss: 0.7704 - val_iou_score: 0.8941 - val_f1-score: 0.9419\n",
            "Epoch 42/50\n",
            "720/720 [==============================] - 8s 11ms/sample - loss: 0.7612 - iou_score: 0.9427 - f1-score: 0.9699 - val_loss: 0.7695 - val_iou_score: 0.8996 - val_f1-score: 0.9451\n",
            "Epoch 43/50\n",
            "720/720 [==============================] - 8s 11ms/sample - loss: 0.7607 - iou_score: 0.9448 - f1-score: 0.9711 - val_loss: 0.7700 - val_iou_score: 0.8977 - val_f1-score: 0.9439\n",
            "Epoch 44/50\n",
            "720/720 [==============================] - 8s 11ms/sample - loss: 0.7602 - iou_score: 0.9479 - f1-score: 0.9728 - val_loss: 0.7701 - val_iou_score: 0.8976 - val_f1-score: 0.9439\n",
            "Epoch 45/50\n",
            "720/720 [==============================] - 8s 11ms/sample - loss: 0.7601 - iou_score: 0.9480 - f1-score: 0.9728 - val_loss: 0.7695 - val_iou_score: 0.8999 - val_f1-score: 0.9453\n",
            "Epoch 46/50\n",
            "720/720 [==============================] - 8s 11ms/sample - loss: 0.7600 - iou_score: 0.9487 - f1-score: 0.9732 - val_loss: 0.7699 - val_iou_score: 0.8970 - val_f1-score: 0.9436\n",
            "Epoch 47/50\n",
            "720/720 [==============================] - 8s 11ms/sample - loss: 0.7600 - iou_score: 0.9485 - f1-score: 0.9731 - val_loss: 0.7708 - val_iou_score: 0.8946 - val_f1-score: 0.9420\n",
            "Epoch 48/50\n",
            "720/720 [==============================] - 8s 11ms/sample - loss: 0.7600 - iou_score: 0.9489 - f1-score: 0.9733 - val_loss: 0.7701 - val_iou_score: 0.8976 - val_f1-score: 0.9438\n",
            "Epoch 49/50\n",
            "720/720 [==============================] - 8s 11ms/sample - loss: 0.7598 - iou_score: 0.9497 - f1-score: 0.9738 - val_loss: 0.7699 - val_iou_score: 0.8988 - val_f1-score: 0.9446\n",
            "Epoch 50/50\n",
            "720/720 [==============================] - 8s 11ms/sample - loss: 0.7597 - iou_score: 0.9502 - f1-score: 0.9740 - val_loss: 0.7700 - val_iou_score: 0.8976 - val_f1-score: 0.9438\n"
          ],
          "name": "stdout"
        }
      ]
    },
    {
      "cell_type": "markdown",
      "metadata": {
        "id": "Nt9f-mlu2GD2"
      },
      "source": [
        "Сохранение модели на google-диск"
      ]
    },
    {
      "cell_type": "code",
      "metadata": {
        "id": "zgik0ms12Bst"
      },
      "source": [
        "!cp 'inceptionv3_backbone_50epochs.hdf5' /content/gdrive/\"My Drive\"/Computer_vision"
      ],
      "execution_count": 39,
      "outputs": []
    },
    {
      "cell_type": "markdown",
      "metadata": {
        "id": "fp3I1_JBEuKQ"
      },
      "source": [
        "#####################################################"
      ]
    },
    {
      "cell_type": "markdown",
      "metadata": {
        "id": "uYN8_ueAExnP"
      },
      "source": [
        "# **Model 3**"
      ]
    },
    {
      "cell_type": "code",
      "metadata": {
        "id": "BiXpTYmsE2Oj"
      },
      "source": [
        "BACKBONE3 = 'vgg16'\n",
        "# Получаем предобработку для данной сети\n",
        "preprocess_input3 = sm.get_preprocessing(BACKBONE3)\n",
        "\n",
        "# preprocess input\n",
        "X_train3 = preprocess_input3(X_train)\n",
        "X_test3 = preprocess_input3(X_test)"
      ],
      "execution_count": 40,
      "outputs": []
    },
    {
      "cell_type": "code",
      "metadata": {
        "id": "R6xHij4eQnsE",
        "colab": {
          "base_uri": "https://localhost:8080/"
        },
        "outputId": "b3aff172-8049-4ae8-8472-53129edac6f8"
      },
      "source": [
        "# define model\n",
        "model3 = sm.Unet(BACKBONE3, encoder_weights='imagenet', classes=n_classes, activation=activation)\n",
        "\n",
        "# compile keras model with defined optimozer, loss and metrics\n",
        "model3.compile(optim, total_loss, metrics)\n",
        "#model3.compile(optimizer='adam', loss='categorical_crossentropy', metrics=metrics)\n",
        "\n",
        "\n",
        "print(model3.summary())"
      ],
      "execution_count": 41,
      "outputs": [
        {
          "output_type": "stream",
          "text": [
            "Downloading data from https://github.com/fchollet/deep-learning-models/releases/download/v0.1/vgg16_weights_tf_dim_ordering_tf_kernels_notop.h5\n",
            "58892288/58889256 [==============================] - 1s 0us/step\n",
            "Model: \"model_3\"\n",
            "__________________________________________________________________________________________________\n",
            "Layer (type)                    Output Shape         Param #     Connected to                     \n",
            "==================================================================================================\n",
            "input_2 (InputLayer)            [(None, None, None,  0                                            \n",
            "__________________________________________________________________________________________________\n",
            "block1_conv1 (Conv2D)           (None, None, None, 6 1792        input_2[0][0]                    \n",
            "__________________________________________________________________________________________________\n",
            "block1_conv2 (Conv2D)           (None, None, None, 6 36928       block1_conv1[0][0]               \n",
            "__________________________________________________________________________________________________\n",
            "block1_pool (MaxPooling2D)      (None, None, None, 6 0           block1_conv2[0][0]               \n",
            "__________________________________________________________________________________________________\n",
            "block2_conv1 (Conv2D)           (None, None, None, 1 73856       block1_pool[0][0]                \n",
            "__________________________________________________________________________________________________\n",
            "block2_conv2 (Conv2D)           (None, None, None, 1 147584      block2_conv1[0][0]               \n",
            "__________________________________________________________________________________________________\n",
            "block2_pool (MaxPooling2D)      (None, None, None, 1 0           block2_conv2[0][0]               \n",
            "__________________________________________________________________________________________________\n",
            "block3_conv1 (Conv2D)           (None, None, None, 2 295168      block2_pool[0][0]                \n",
            "__________________________________________________________________________________________________\n",
            "block3_conv2 (Conv2D)           (None, None, None, 2 590080      block3_conv1[0][0]               \n",
            "__________________________________________________________________________________________________\n",
            "block3_conv3 (Conv2D)           (None, None, None, 2 590080      block3_conv2[0][0]               \n",
            "__________________________________________________________________________________________________\n",
            "block3_pool (MaxPooling2D)      (None, None, None, 2 0           block3_conv3[0][0]               \n",
            "__________________________________________________________________________________________________\n",
            "block4_conv1 (Conv2D)           (None, None, None, 5 1180160     block3_pool[0][0]                \n",
            "__________________________________________________________________________________________________\n",
            "block4_conv2 (Conv2D)           (None, None, None, 5 2359808     block4_conv1[0][0]               \n",
            "__________________________________________________________________________________________________\n",
            "block4_conv3 (Conv2D)           (None, None, None, 5 2359808     block4_conv2[0][0]               \n",
            "__________________________________________________________________________________________________\n",
            "block4_pool (MaxPooling2D)      (None, None, None, 5 0           block4_conv3[0][0]               \n",
            "__________________________________________________________________________________________________\n",
            "block5_conv1 (Conv2D)           (None, None, None, 5 2359808     block4_pool[0][0]                \n",
            "__________________________________________________________________________________________________\n",
            "block5_conv2 (Conv2D)           (None, None, None, 5 2359808     block5_conv1[0][0]               \n",
            "__________________________________________________________________________________________________\n",
            "block5_conv3 (Conv2D)           (None, None, None, 5 2359808     block5_conv2[0][0]               \n",
            "__________________________________________________________________________________________________\n",
            "block5_pool (MaxPooling2D)      (None, None, None, 5 0           block5_conv3[0][0]               \n",
            "__________________________________________________________________________________________________\n",
            "center_block1_conv (Conv2D)     (None, None, None, 5 2359296     block5_pool[0][0]                \n",
            "__________________________________________________________________________________________________\n",
            "center_block1_bn (BatchNormaliz (None, None, None, 5 2048        center_block1_conv[0][0]         \n",
            "__________________________________________________________________________________________________\n",
            "center_block1_relu (Activation) (None, None, None, 5 0           center_block1_bn[0][0]           \n",
            "__________________________________________________________________________________________________\n",
            "center_block2_conv (Conv2D)     (None, None, None, 5 2359296     center_block1_relu[0][0]         \n",
            "__________________________________________________________________________________________________\n",
            "center_block2_bn (BatchNormaliz (None, None, None, 5 2048        center_block2_conv[0][0]         \n",
            "__________________________________________________________________________________________________\n",
            "center_block2_relu (Activation) (None, None, None, 5 0           center_block2_bn[0][0]           \n",
            "__________________________________________________________________________________________________\n",
            "decoder_stage0_upsampling (UpSa (None, None, None, 5 0           center_block2_relu[0][0]         \n",
            "__________________________________________________________________________________________________\n",
            "decoder_stage0_concat (Concaten (None, None, None, 1 0           decoder_stage0_upsampling[0][0]  \n",
            "                                                                 block5_conv3[0][0]               \n",
            "__________________________________________________________________________________________________\n",
            "decoder_stage0a_conv (Conv2D)   (None, None, None, 2 2359296     decoder_stage0_concat[0][0]      \n",
            "__________________________________________________________________________________________________\n",
            "decoder_stage0a_bn (BatchNormal (None, None, None, 2 1024        decoder_stage0a_conv[0][0]       \n",
            "__________________________________________________________________________________________________\n",
            "decoder_stage0a_relu (Activatio (None, None, None, 2 0           decoder_stage0a_bn[0][0]         \n",
            "__________________________________________________________________________________________________\n",
            "decoder_stage0b_conv (Conv2D)   (None, None, None, 2 589824      decoder_stage0a_relu[0][0]       \n",
            "__________________________________________________________________________________________________\n",
            "decoder_stage0b_bn (BatchNormal (None, None, None, 2 1024        decoder_stage0b_conv[0][0]       \n",
            "__________________________________________________________________________________________________\n",
            "decoder_stage0b_relu (Activatio (None, None, None, 2 0           decoder_stage0b_bn[0][0]         \n",
            "__________________________________________________________________________________________________\n",
            "decoder_stage1_upsampling (UpSa (None, None, None, 2 0           decoder_stage0b_relu[0][0]       \n",
            "__________________________________________________________________________________________________\n",
            "decoder_stage1_concat (Concaten (None, None, None, 7 0           decoder_stage1_upsampling[0][0]  \n",
            "                                                                 block4_conv3[0][0]               \n",
            "__________________________________________________________________________________________________\n",
            "decoder_stage1a_conv (Conv2D)   (None, None, None, 1 884736      decoder_stage1_concat[0][0]      \n",
            "__________________________________________________________________________________________________\n",
            "decoder_stage1a_bn (BatchNormal (None, None, None, 1 512         decoder_stage1a_conv[0][0]       \n",
            "__________________________________________________________________________________________________\n",
            "decoder_stage1a_relu (Activatio (None, None, None, 1 0           decoder_stage1a_bn[0][0]         \n",
            "__________________________________________________________________________________________________\n",
            "decoder_stage1b_conv (Conv2D)   (None, None, None, 1 147456      decoder_stage1a_relu[0][0]       \n",
            "__________________________________________________________________________________________________\n",
            "decoder_stage1b_bn (BatchNormal (None, None, None, 1 512         decoder_stage1b_conv[0][0]       \n",
            "__________________________________________________________________________________________________\n",
            "decoder_stage1b_relu (Activatio (None, None, None, 1 0           decoder_stage1b_bn[0][0]         \n",
            "__________________________________________________________________________________________________\n",
            "decoder_stage2_upsampling (UpSa (None, None, None, 1 0           decoder_stage1b_relu[0][0]       \n",
            "__________________________________________________________________________________________________\n",
            "decoder_stage2_concat (Concaten (None, None, None, 3 0           decoder_stage2_upsampling[0][0]  \n",
            "                                                                 block3_conv3[0][0]               \n",
            "__________________________________________________________________________________________________\n",
            "decoder_stage2a_conv (Conv2D)   (None, None, None, 6 221184      decoder_stage2_concat[0][0]      \n",
            "__________________________________________________________________________________________________\n",
            "decoder_stage2a_bn (BatchNormal (None, None, None, 6 256         decoder_stage2a_conv[0][0]       \n",
            "__________________________________________________________________________________________________\n",
            "decoder_stage2a_relu (Activatio (None, None, None, 6 0           decoder_stage2a_bn[0][0]         \n",
            "__________________________________________________________________________________________________\n",
            "decoder_stage2b_conv (Conv2D)   (None, None, None, 6 36864       decoder_stage2a_relu[0][0]       \n",
            "__________________________________________________________________________________________________\n",
            "decoder_stage2b_bn (BatchNormal (None, None, None, 6 256         decoder_stage2b_conv[0][0]       \n",
            "__________________________________________________________________________________________________\n",
            "decoder_stage2b_relu (Activatio (None, None, None, 6 0           decoder_stage2b_bn[0][0]         \n",
            "__________________________________________________________________________________________________\n",
            "decoder_stage3_upsampling (UpSa (None, None, None, 6 0           decoder_stage2b_relu[0][0]       \n",
            "__________________________________________________________________________________________________\n",
            "decoder_stage3_concat (Concaten (None, None, None, 1 0           decoder_stage3_upsampling[0][0]  \n",
            "                                                                 block2_conv2[0][0]               \n",
            "__________________________________________________________________________________________________\n",
            "decoder_stage3a_conv (Conv2D)   (None, None, None, 3 55296       decoder_stage3_concat[0][0]      \n",
            "__________________________________________________________________________________________________\n",
            "decoder_stage3a_bn (BatchNormal (None, None, None, 3 128         decoder_stage3a_conv[0][0]       \n",
            "__________________________________________________________________________________________________\n",
            "decoder_stage3a_relu (Activatio (None, None, None, 3 0           decoder_stage3a_bn[0][0]         \n",
            "__________________________________________________________________________________________________\n",
            "decoder_stage3b_conv (Conv2D)   (None, None, None, 3 9216        decoder_stage3a_relu[0][0]       \n",
            "__________________________________________________________________________________________________\n",
            "decoder_stage3b_bn (BatchNormal (None, None, None, 3 128         decoder_stage3b_conv[0][0]       \n",
            "__________________________________________________________________________________________________\n",
            "decoder_stage3b_relu (Activatio (None, None, None, 3 0           decoder_stage3b_bn[0][0]         \n",
            "__________________________________________________________________________________________________\n",
            "decoder_stage4_upsampling (UpSa (None, None, None, 3 0           decoder_stage3b_relu[0][0]       \n",
            "__________________________________________________________________________________________________\n",
            "decoder_stage4a_conv (Conv2D)   (None, None, None, 1 4608        decoder_stage4_upsampling[0][0]  \n",
            "__________________________________________________________________________________________________\n",
            "decoder_stage4a_bn (BatchNormal (None, None, None, 1 64          decoder_stage4a_conv[0][0]       \n",
            "__________________________________________________________________________________________________\n",
            "decoder_stage4a_relu (Activatio (None, None, None, 1 0           decoder_stage4a_bn[0][0]         \n",
            "__________________________________________________________________________________________________\n",
            "decoder_stage4b_conv (Conv2D)   (None, None, None, 1 2304        decoder_stage4a_relu[0][0]       \n",
            "__________________________________________________________________________________________________\n",
            "decoder_stage4b_bn (BatchNormal (None, None, None, 1 64          decoder_stage4b_conv[0][0]       \n",
            "__________________________________________________________________________________________________\n",
            "decoder_stage4b_relu (Activatio (None, None, None, 1 0           decoder_stage4b_bn[0][0]         \n",
            "__________________________________________________________________________________________________\n",
            "final_conv (Conv2D)             (None, None, None, 4 580         decoder_stage4b_relu[0][0]       \n",
            "__________________________________________________________________________________________________\n",
            "softmax (Activation)            (None, None, None, 4 0           final_conv[0][0]                 \n",
            "==================================================================================================\n",
            "Total params: 23,752,708\n",
            "Trainable params: 23,748,676\n",
            "Non-trainable params: 4,032\n",
            "__________________________________________________________________________________________________\n",
            "None\n"
          ],
          "name": "stdout"
        }
      ]
    },
    {
      "cell_type": "code",
      "metadata": {
        "colab": {
          "base_uri": "https://localhost:8080/"
        },
        "id": "a_6XwWigQqb6",
        "outputId": "255d71db-749a-49af-ab1c-ffe6d94ccd17"
      },
      "source": [
        "history3=model3.fit(X_train3, \n",
        "          y_train_cat,\n",
        "          batch_size=8, \n",
        "          epochs=50,\n",
        "          verbose=1,\n",
        "          validation_data=(X_test3, y_test_cat))\n",
        "\n",
        "model2.save('vgg19_backbone_50epochs.hdf5')"
      ],
      "execution_count": 44,
      "outputs": [
        {
          "output_type": "stream",
          "text": [
            "Train on 720 samples, validate on 160 samples\n",
            "Epoch 1/50\n",
            "720/720 [==============================] - 8s 11ms/sample - loss: 0.7582 - iou_score: 0.9573 - f1-score: 0.9780 - val_loss: 0.7659 - val_iou_score: 0.9175 - val_f1-score: 0.9558\n",
            "Epoch 2/50\n",
            "720/720 [==============================] - 8s 11ms/sample - loss: 0.7579 - iou_score: 0.9585 - f1-score: 0.9786 - val_loss: 0.7655 - val_iou_score: 0.9205 - val_f1-score: 0.9574\n",
            "Epoch 3/50\n",
            "720/720 [==============================] - 8s 11ms/sample - loss: 0.7579 - iou_score: 0.9592 - f1-score: 0.9789 - val_loss: 0.7652 - val_iou_score: 0.9216 - val_f1-score: 0.9581\n",
            "Epoch 4/50\n",
            "720/720 [==============================] - 8s 11ms/sample - loss: 0.7575 - iou_score: 0.9609 - f1-score: 0.9799 - val_loss: 0.7652 - val_iou_score: 0.9217 - val_f1-score: 0.9581\n",
            "Epoch 5/50\n",
            "720/720 [==============================] - 8s 11ms/sample - loss: 0.7574 - iou_score: 0.9614 - f1-score: 0.9801 - val_loss: 0.7654 - val_iou_score: 0.9210 - val_f1-score: 0.9577\n",
            "Epoch 6/50\n",
            "720/720 [==============================] - 8s 11ms/sample - loss: 0.7571 - iou_score: 0.9639 - f1-score: 0.9814 - val_loss: 0.7652 - val_iou_score: 0.9219 - val_f1-score: 0.9582\n",
            "Epoch 7/50\n",
            "720/720 [==============================] - 8s 11ms/sample - loss: 0.7568 - iou_score: 0.9650 - f1-score: 0.9820 - val_loss: 0.7655 - val_iou_score: 0.9207 - val_f1-score: 0.9575\n",
            "Epoch 8/50\n",
            "720/720 [==============================] - 8s 11ms/sample - loss: 0.7571 - iou_score: 0.9632 - f1-score: 0.9811 - val_loss: 0.7654 - val_iou_score: 0.9211 - val_f1-score: 0.9577\n",
            "Epoch 9/50\n",
            "720/720 [==============================] - 8s 11ms/sample - loss: 0.7571 - iou_score: 0.9630 - f1-score: 0.9810 - val_loss: 0.7654 - val_iou_score: 0.9213 - val_f1-score: 0.9579\n",
            "Epoch 10/50\n",
            "720/720 [==============================] - 8s 11ms/sample - loss: 0.7569 - iou_score: 0.9645 - f1-score: 0.9818 - val_loss: 0.7656 - val_iou_score: 0.9206 - val_f1-score: 0.9574\n",
            "Epoch 11/50\n",
            "720/720 [==============================] - 8s 11ms/sample - loss: 0.7570 - iou_score: 0.9632 - f1-score: 0.9810 - val_loss: 0.7658 - val_iou_score: 0.9202 - val_f1-score: 0.9572\n",
            "Epoch 12/50\n",
            "720/720 [==============================] - 8s 11ms/sample - loss: 0.7566 - iou_score: 0.9658 - f1-score: 0.9824 - val_loss: 0.7657 - val_iou_score: 0.9201 - val_f1-score: 0.9572\n",
            "Epoch 13/50\n",
            "720/720 [==============================] - 8s 11ms/sample - loss: 0.7564 - iou_score: 0.9676 - f1-score: 0.9834 - val_loss: 0.7655 - val_iou_score: 0.9220 - val_f1-score: 0.9583\n",
            "Epoch 14/50\n",
            "720/720 [==============================] - 8s 11ms/sample - loss: 0.7568 - iou_score: 0.9647 - f1-score: 0.9819 - val_loss: 0.7663 - val_iou_score: 0.9177 - val_f1-score: 0.9559\n",
            "Epoch 15/50\n",
            "720/720 [==============================] - 8s 11ms/sample - loss: 0.7567 - iou_score: 0.9652 - f1-score: 0.9821 - val_loss: 0.7667 - val_iou_score: 0.9161 - val_f1-score: 0.9548\n",
            "Epoch 16/50\n",
            "720/720 [==============================] - 8s 11ms/sample - loss: 0.7564 - iou_score: 0.9671 - f1-score: 0.9831 - val_loss: 0.7656 - val_iou_score: 0.9216 - val_f1-score: 0.9580\n",
            "Epoch 17/50\n",
            "720/720 [==============================] - 8s 11ms/sample - loss: 0.7564 - iou_score: 0.9669 - f1-score: 0.9830 - val_loss: 0.7658 - val_iou_score: 0.9208 - val_f1-score: 0.9575\n",
            "Epoch 18/50\n",
            "720/720 [==============================] - 8s 11ms/sample - loss: 0.7561 - iou_score: 0.9689 - f1-score: 0.9841 - val_loss: 0.7658 - val_iou_score: 0.9208 - val_f1-score: 0.9576\n",
            "Epoch 19/50\n",
            "720/720 [==============================] - 8s 11ms/sample - loss: 0.7558 - iou_score: 0.9707 - f1-score: 0.9850 - val_loss: 0.7654 - val_iou_score: 0.9227 - val_f1-score: 0.9587\n",
            "Epoch 20/50\n",
            "720/720 [==============================] - 8s 11ms/sample - loss: 0.7558 - iou_score: 0.9706 - f1-score: 0.9850 - val_loss: 0.7656 - val_iou_score: 0.9215 - val_f1-score: 0.9580\n",
            "Epoch 21/50\n",
            "720/720 [==============================] - 8s 11ms/sample - loss: 0.7557 - iou_score: 0.9711 - f1-score: 0.9852 - val_loss: 0.7676 - val_iou_score: 0.9139 - val_f1-score: 0.9534\n",
            "Epoch 22/50\n",
            "720/720 [==============================] - 8s 11ms/sample - loss: 0.7558 - iou_score: 0.9707 - f1-score: 0.9850 - val_loss: 0.7659 - val_iou_score: 0.9209 - val_f1-score: 0.9576\n",
            "Epoch 23/50\n",
            "720/720 [==============================] - 8s 11ms/sample - loss: 0.7557 - iou_score: 0.9711 - f1-score: 0.9852 - val_loss: 0.7660 - val_iou_score: 0.9198 - val_f1-score: 0.9570\n",
            "Epoch 24/50\n",
            "720/720 [==============================] - 8s 11ms/sample - loss: 0.7556 - iou_score: 0.9715 - f1-score: 0.9854 - val_loss: 0.7661 - val_iou_score: 0.9207 - val_f1-score: 0.9575\n",
            "Epoch 25/50\n",
            "720/720 [==============================] - 8s 11ms/sample - loss: 0.7554 - iou_score: 0.9728 - f1-score: 0.9861 - val_loss: 0.7661 - val_iou_score: 0.9203 - val_f1-score: 0.9573\n",
            "Epoch 26/50\n",
            "720/720 [==============================] - 8s 11ms/sample - loss: 0.7563 - iou_score: 0.9664 - f1-score: 0.9828 - val_loss: 0.7659 - val_iou_score: 0.9209 - val_f1-score: 0.9577\n",
            "Epoch 27/50\n",
            "720/720 [==============================] - 8s 11ms/sample - loss: 0.7556 - iou_score: 0.9716 - f1-score: 0.9855 - val_loss: 0.7659 - val_iou_score: 0.9216 - val_f1-score: 0.9580\n",
            "Epoch 28/50\n",
            "720/720 [==============================] - 8s 12ms/sample - loss: 0.7552 - iou_score: 0.9739 - f1-score: 0.9867 - val_loss: 0.7657 - val_iou_score: 0.9226 - val_f1-score: 0.9586\n",
            "Epoch 29/50\n",
            "720/720 [==============================] - 8s 12ms/sample - loss: 0.7557 - iou_score: 0.9709 - f1-score: 0.9851 - val_loss: 0.7667 - val_iou_score: 0.9188 - val_f1-score: 0.9564\n",
            "Epoch 30/50\n",
            "720/720 [==============================] - 8s 12ms/sample - loss: 0.7553 - iou_score: 0.9734 - f1-score: 0.9864 - val_loss: 0.7661 - val_iou_score: 0.9202 - val_f1-score: 0.9572\n",
            "Epoch 31/50\n",
            "720/720 [==============================] - 8s 12ms/sample - loss: 0.7554 - iou_score: 0.9726 - f1-score: 0.9860 - val_loss: 0.7660 - val_iou_score: 0.9217 - val_f1-score: 0.9581\n",
            "Epoch 32/50\n",
            "720/720 [==============================] - 8s 12ms/sample - loss: 0.7560 - iou_score: 0.9687 - f1-score: 0.9836 - val_loss: 0.7690 - val_iou_score: 0.9078 - val_f1-score: 0.9503\n",
            "Epoch 33/50\n",
            "720/720 [==============================] - 8s 12ms/sample - loss: 0.7559 - iou_score: 0.9692 - f1-score: 0.9842 - val_loss: 0.7659 - val_iou_score: 0.9225 - val_f1-score: 0.9585\n",
            "Epoch 34/50\n",
            "720/720 [==============================] - 8s 12ms/sample - loss: 0.7553 - iou_score: 0.9736 - f1-score: 0.9865 - val_loss: 0.7664 - val_iou_score: 0.9187 - val_f1-score: 0.9565\n",
            "Epoch 35/50\n",
            "720/720 [==============================] - 8s 11ms/sample - loss: 0.7551 - iou_score: 0.9743 - f1-score: 0.9869 - val_loss: 0.7658 - val_iou_score: 0.9226 - val_f1-score: 0.9586\n",
            "Epoch 36/50\n",
            "720/720 [==============================] - 8s 11ms/sample - loss: 0.7549 - iou_score: 0.9758 - f1-score: 0.9877 - val_loss: 0.7659 - val_iou_score: 0.9229 - val_f1-score: 0.9588\n",
            "Epoch 37/50\n",
            "720/720 [==============================] - 8s 11ms/sample - loss: 0.7547 - iou_score: 0.9765 - f1-score: 0.9880 - val_loss: 0.7659 - val_iou_score: 0.9229 - val_f1-score: 0.9588\n",
            "Epoch 38/50\n",
            "720/720 [==============================] - 8s 12ms/sample - loss: 0.7549 - iou_score: 0.9752 - f1-score: 0.9874 - val_loss: 0.7662 - val_iou_score: 0.9216 - val_f1-score: 0.9581\n",
            "Epoch 39/50\n",
            "720/720 [==============================] - 8s 12ms/sample - loss: 0.7551 - iou_score: 0.9737 - f1-score: 0.9866 - val_loss: 0.7668 - val_iou_score: 0.9187 - val_f1-score: 0.9564\n",
            "Epoch 40/50\n",
            "720/720 [==============================] - 8s 12ms/sample - loss: 0.7547 - iou_score: 0.9767 - f1-score: 0.9881 - val_loss: 0.7659 - val_iou_score: 0.9235 - val_f1-score: 0.9591\n",
            "Epoch 41/50\n",
            "720/720 [==============================] - 8s 12ms/sample - loss: 0.7549 - iou_score: 0.9757 - f1-score: 0.9876 - val_loss: 0.7691 - val_iou_score: 0.9081 - val_f1-score: 0.9505\n",
            "Epoch 42/50\n",
            "720/720 [==============================] - 8s 12ms/sample - loss: 0.7551 - iou_score: 0.9735 - f1-score: 0.9865 - val_loss: 0.7662 - val_iou_score: 0.9219 - val_f1-score: 0.9582\n",
            "Epoch 43/50\n",
            "720/720 [==============================] - 8s 12ms/sample - loss: 0.7545 - iou_score: 0.9781 - f1-score: 0.9888 - val_loss: 0.7668 - val_iou_score: 0.9200 - val_f1-score: 0.9570\n",
            "Epoch 44/50\n",
            "720/720 [==============================] - 8s 12ms/sample - loss: 0.7545 - iou_score: 0.9777 - f1-score: 0.9886 - val_loss: 0.7663 - val_iou_score: 0.9218 - val_f1-score: 0.9582\n",
            "Epoch 45/50\n",
            "720/720 [==============================] - 8s 12ms/sample - loss: 0.7545 - iou_score: 0.9778 - f1-score: 0.9887 - val_loss: 0.7660 - val_iou_score: 0.9228 - val_f1-score: 0.9587\n",
            "Epoch 46/50\n",
            "720/720 [==============================] - 8s 12ms/sample - loss: 0.7544 - iou_score: 0.9785 - f1-score: 0.9891 - val_loss: 0.7662 - val_iou_score: 0.9224 - val_f1-score: 0.9585\n",
            "Epoch 47/50\n",
            "720/720 [==============================] - 8s 12ms/sample - loss: 0.7542 - iou_score: 0.9797 - f1-score: 0.9897 - val_loss: 0.7665 - val_iou_score: 0.9210 - val_f1-score: 0.9577\n",
            "Epoch 48/50\n",
            "720/720 [==============================] - 8s 12ms/sample - loss: 0.7542 - iou_score: 0.9794 - f1-score: 0.9895 - val_loss: 0.7664 - val_iou_score: 0.9221 - val_f1-score: 0.9583\n",
            "Epoch 49/50\n",
            "720/720 [==============================] - 8s 12ms/sample - loss: 0.7541 - iou_score: 0.9798 - f1-score: 0.9897 - val_loss: 0.7665 - val_iou_score: 0.9221 - val_f1-score: 0.9583\n",
            "Epoch 50/50\n",
            "720/720 [==============================] - 8s 12ms/sample - loss: 0.7542 - iou_score: 0.9793 - f1-score: 0.9895 - val_loss: 0.7664 - val_iou_score: 0.9224 - val_f1-score: 0.9585\n"
          ],
          "name": "stdout"
        }
      ]
    },
    {
      "cell_type": "markdown",
      "metadata": {
        "id": "Z4OHIMW32SB-"
      },
      "source": [
        "Сохранение модели на google-диск"
      ]
    },
    {
      "cell_type": "code",
      "metadata": {
        "id": "AaJ8mmLx2V6-"
      },
      "source": [
        "!cp 'vgg19_backbone_50epochs.hdf5' /content/gdrive/\"My Drive\"/Computer_vision"
      ],
      "execution_count": 45,
      "outputs": []
    },
    {
      "cell_type": "markdown",
      "metadata": {
        "id": "06Ok8Ip1FA6X"
      },
      "source": [
        "##########################################################\n",
        "\n",
        "###"
      ]
    },
    {
      "cell_type": "markdown",
      "metadata": {
        "id": "GbvLxAi8FI4p"
      },
      "source": [
        "Построение графиков точности и потерь обучения и проверки для каждой эпохи **resnet34**"
      ]
    },
    {
      "cell_type": "code",
      "metadata": {
        "id": "FV1SstE9FOb-",
        "colab": {
          "base_uri": "https://localhost:8080/",
          "height": 573
        },
        "outputId": "6c5e3985-ba8a-4f5d-82ab-8181eb4fae40"
      },
      "source": [
        "loss = history1.history['loss']\n",
        "val_loss = history1.history['val_loss']\n",
        "epochs = range(1, len(loss) + 1)\n",
        "plt.plot(epochs, loss, 'y', label='Training loss')\n",
        "plt.plot(epochs, val_loss, 'r', label='Validation loss')\n",
        "plt.title('Training and validation loss')\n",
        "plt.xlabel('Epochs')\n",
        "plt.ylabel('Loss')\n",
        "plt.legend()\n",
        "plt.show()\n",
        "\n",
        "acc = history1.history['iou_score']\n",
        "val_acc = history1.history['val_iou_score']\n",
        "\n",
        "plt.plot(epochs, acc, 'y', label='Training IOU')\n",
        "plt.plot(epochs, val_acc, 'r', label='Validation IOU')\n",
        "plt.title('Training and validation IOU')\n",
        "plt.xlabel('Epochs')\n",
        "plt.ylabel('IOU')\n",
        "plt.legend()\n",
        "plt.show()"
      ],
      "execution_count": 46,
      "outputs": [
        {
          "output_type": "display_data",
          "data": {
            "image/png": "[encoded data removed]",
            "text/plain": [
              "<Figure size 432x288 with 1 Axes>"
            ]
          },
          "metadata": {
            "tags": [],
            "needs_background": "light"
          }
        },
        {
          "output_type": "display_data",
          "data": {
            "image/png": "[encoded data removed]",
            "text/plain": [
              "<Figure size 432x288 with 1 Axes>"
            ]
          },
          "metadata": {
            "tags": [],
            "needs_background": "light"
          }
        }
      ]
    },
    {
      "cell_type": "markdown",
      "metadata": {
        "id": "CEeBaFhGw7Hu"
      },
      "source": [
        "Построение графиков точности и потерь обучения и проверки для каждой эпохи **inceptionv3**"
      ]
    },
    {
      "cell_type": "code",
      "metadata": {
        "colab": {
          "base_uri": "https://localhost:8080/",
          "height": 573
        },
        "id": "EnQGmA1_w4-_",
        "outputId": "21c5f4b4-cee1-41fd-fb11-997952f2cb13"
      },
      "source": [
        "loss = history2.history['loss']\n",
        "val_loss = history2.history['val_loss']\n",
        "epochs = range(1, len(loss) + 1)\n",
        "plt.plot(epochs, loss, 'y', label='Training loss')\n",
        "plt.plot(epochs, val_loss, 'r', label='Validation loss')\n",
        "plt.title('Training and validation loss')\n",
        "plt.xlabel('Epochs')\n",
        "plt.ylabel('Loss')\n",
        "plt.legend()\n",
        "plt.show()\n",
        "\n",
        "acc = history2.history['iou_score']\n",
        "val_acc = history2.history['val_iou_score']\n",
        "\n",
        "plt.plot(epochs, acc, 'y', label='Training IOU')\n",
        "plt.plot(epochs, val_acc, 'r', label='Validation IOU')\n",
        "plt.title('Training and validation IOU')\n",
        "plt.xlabel('Epochs')\n",
        "plt.ylabel('IOU')\n",
        "plt.legend()\n",
        "plt.show()"
      ],
      "execution_count": 47,
      "outputs": [
        {
          "output_type": "display_data",
          "data": {
            "image/png": "[encoded data removed]",
            "text/plain": [
              "<Figure size 432x288 with 1 Axes>"
            ]
          },
          "metadata": {
            "tags": [],
            "needs_background": "light"
          }
        },
        {
          "output_type": "display_data",
          "data": {
            "image/png": "[encoded data removed]",
            "text/plain": [
              "<Figure size 432x288 with 1 Axes>"
            ]
          },
          "metadata": {
            "tags": [],
            "needs_background": "light"
          }
        }
      ]
    },
    {
      "cell_type": "markdown",
      "metadata": {
        "id": "02bXT2qDzejN"
      },
      "source": [
        "Построение графиков точности и потерь обучения и проверки для каждой эпохи **vgg16**"
      ]
    },
    {
      "cell_type": "code",
      "metadata": {
        "colab": {
          "base_uri": "https://localhost:8080/",
          "height": 573
        },
        "id": "cSJjTBsv0nE3",
        "outputId": "24effa79-43f2-4a25-ba06-69a3ce76f924"
      },
      "source": [
        "loss = history3.history['loss']\n",
        "val_loss = history3.history['val_loss']\n",
        "epochs = range(1, len(loss) + 1)\n",
        "plt.plot(epochs, loss, 'y', label='Training loss')\n",
        "plt.plot(epochs, val_loss, 'r', label='Validation loss')\n",
        "plt.title('Training and validation loss')\n",
        "plt.xlabel('Epochs')\n",
        "plt.ylabel('Loss')\n",
        "plt.legend()\n",
        "plt.show()\n",
        "\n",
        "acc = history3.history['iou_score']\n",
        "val_acc = history3.history['val_iou_score']\n",
        "\n",
        "plt.plot(epochs, acc, 'y', label='Training IOU')\n",
        "plt.plot(epochs, val_acc, 'r', label='Validation IOU')\n",
        "plt.title('Training and validation IOU')\n",
        "plt.xlabel('Epochs')\n",
        "plt.ylabel('IOU')\n",
        "plt.legend()\n",
        "plt.show()"
      ],
      "execution_count": 49,
      "outputs": [
        {
          "output_type": "display_data",
          "data": {
            "image/png": "[encoded data removed]",
            "text/plain": [
              "<Figure size 432x288 with 1 Axes>"
            ]
          },
          "metadata": {
            "tags": [],
            "needs_background": "light"
          }
        },
        {
          "output_type": "display_data",
          "data": {
            "image/png": "[encoded data removed]",
            "text/plain": [
              "<Figure size 432x288 with 1 Axes>"
            ]
          },
          "metadata": {
            "tags": [],
            "needs_background": "light"
          }
        }
      ]
    },
    {
      "cell_type": "markdown",
      "metadata": {
        "id": "UpsBawU9TniN"
      },
      "source": [
        "Расчет IUO для **resnet34** для каждого класса"
      ]
    },
    {
      "cell_type": "code",
      "metadata": {
        "id": "OwqdbBqqT5W3"
      },
      "source": [
        "#IOU\n",
        "y_pred=model1.predict(X_test1)\n",
        "y_pred_argmax=np.argmax(y_pred, axis=3)"
      ],
      "execution_count": 67,
      "outputs": []
    },
    {
      "cell_type": "code",
      "metadata": {
        "id": "Io6q-binVJ5u",
        "colab": {
          "base_uri": "https://localhost:8080/",
          "height": 438
        },
        "outputId": "7dbdee04-1f95-4299-ba6d-ed3efb2450fe"
      },
      "source": [
        "#Using built in keras function\n",
        "from tensorflow.keras.metrics import MeanIoU\n",
        "n_classes = 4\n",
        "IOU_keras = MeanIoU(num_classes=n_classes)  \n",
        "IOU_keras.update_state(y_test[:,:,:,0], y_pred_argmax)\n",
        "print(\"Mean IoU =\", IOU_keras.result().numpy())\n",
        "\n",
        "\n",
        "#To calculate I0U for each class...\n",
        "values = np.array(IOU_keras.get_weights()).reshape(n_classes, n_classes)\n",
        "print(values)\n",
        "class1_IoU = values[0,0]/(values[0,0] + values[0,1] + values[0,2] + values[0,3] + values[1,0]+ values[2,0]+ values[3,0])\n",
        "class2_IoU = values[1,1]/(values[1,1] + values[1,0] + values[1,2] + values[1,3] + values[0,1]+ values[2,1]+ values[3,1])\n",
        "class3_IoU = values[2,2]/(values[2,2] + values[2,0] + values[2,1] + values[2,3] + values[0,2]+ values[1,2]+ values[3,2])\n",
        "class4_IoU = values[3,3]/(values[3,3] + values[3,0] + values[3,1] + values[3,2] + values[0,3]+ values[1,3]+ values[2,3])\n",
        "\n",
        "print(\"IoU for class1 is: \", class1_IoU)\n",
        "print(\"IoU for class2 is: \", class2_IoU)\n",
        "print(\"IoU for class3 is: \", class3_IoU)\n",
        "print(\"IoU for class4 is: \", class4_IoU)\n",
        "\n",
        "plt.imshow(train_images[0, :,:,0], cmap='gray')\n",
        "plt.imshow(train_masks[0], cmap='gray')"
      ],
      "execution_count": 68,
      "outputs": [
        {
          "output_type": "stream",
          "text": [
            "Mean IoU = 0.9000162\n",
            "[[3.306090e+05 1.805100e+04 8.090000e+03 2.000000e+00]\n",
            " [6.830000e+03 1.791950e+05 1.568200e+04 0.000000e+00]\n",
            " [3.544000e+03 1.386500e+04 1.982365e+06 5.360000e+02]\n",
            " [5.000000e+00 0.000000e+00 2.348000e+03 6.031800e+04]]\n",
            "IoU for class1 is:  0.9005205226472295\n",
            "IoU for class2 is:  0.767026362986521\n",
            "IoU for class3 is:  0.9782548619986874\n",
            "IoU for class4 is:  0.9542628423167587\n"
          ],
          "name": "stdout"
        },
        {
          "output_type": "execute_result",
          "data": {
            "text/plain": [
              "<matplotlib.image.AxesImage at 0x7f539da61fd0>"
            ]
          },
          "metadata": {
            "tags": []
          },
          "execution_count": 68
        },
        {
          "output_type": "display_data",
          "data": {
            "image/png": "[encoded data removed]",
            "text/plain": [
              "<Figure size 432x288 with 1 Axes>"
            ]
          },
          "metadata": {
            "tags": [],
            "needs_background": "light"
          }
        }
      ]
    },
    {
      "cell_type": "markdown",
      "metadata": {
        "id": "YxKQvnR936Hg"
      },
      "source": [
        "Расчет IUO для  **inceptionv3** для каждого класса"
      ]
    },
    {
      "cell_type": "code",
      "metadata": {
        "id": "OYx4IsVJ4TPk"
      },
      "source": [
        "#IOU\n",
        "y_pred=model2.predict(X_test2)\n",
        "y_pred_argmax=np.argmax(y_pred, axis=3)"
      ],
      "execution_count": 69,
      "outputs": []
    },
    {
      "cell_type": "code",
      "metadata": {
        "colab": {
          "base_uri": "https://localhost:8080/",
          "height": 438
        },
        "id": "Rd526ylU4ype",
        "outputId": "b866547d-4fc3-402b-bdb7-e1a3b1b4d31c"
      },
      "source": [
        "#Using built in keras function\n",
        "from tensorflow.keras.metrics import MeanIoU\n",
        "n_classes = 4\n",
        "IOU_keras = MeanIoU(num_classes=n_classes)  \n",
        "IOU_keras.update_state(y_test[:,:,:,0], y_pred_argmax)\n",
        "print(\"Mean IoU =\", IOU_keras.result().numpy())\n",
        "\n",
        "\n",
        "#To calculate I0U for each class...\n",
        "values = np.array(IOU_keras.get_weights()).reshape(n_classes, n_classes)\n",
        "print(values)\n",
        "class1_IoU = values[0,0]/(values[0,0] + values[0,1] + values[0,2] + values[0,3] + values[1,0]+ values[2,0]+ values[3,0])\n",
        "class2_IoU = values[1,1]/(values[1,1] + values[1,0] + values[1,2] + values[1,3] + values[0,1]+ values[2,1]+ values[3,1])\n",
        "class3_IoU = values[2,2]/(values[2,2] + values[2,0] + values[2,1] + values[2,3] + values[0,2]+ values[1,2]+ values[3,2])\n",
        "class4_IoU = values[3,3]/(values[3,3] + values[3,0] + values[3,1] + values[3,2] + values[0,3]+ values[1,3]+ values[2,3])\n",
        "\n",
        "print(\"IoU for class1 is: \", class1_IoU)\n",
        "print(\"IoU for class2 is: \", class2_IoU)\n",
        "print(\"IoU for class3 is: \", class3_IoU)\n",
        "print(\"IoU for class4 is: \", class4_IoU)\n",
        "\n",
        "plt.imshow(train_images[0, :,:,0], cmap='gray')\n",
        "plt.imshow(train_masks[0], cmap='gray')"
      ],
      "execution_count": 70,
      "outputs": [
        {
          "output_type": "stream",
          "text": [
            "Mean IoU = 0.9040451\n",
            "[[3.355400e+05 1.544000e+04 5.772000e+03 0.000000e+00]\n",
            " [8.141000e+03 1.784840e+05 1.508200e+04 0.000000e+00]\n",
            " [5.166000e+03 1.478300e+04 1.979485e+06 8.760000e+02]\n",
            " [0.000000e+00 0.000000e+00 1.584000e+03 6.108700e+04]]\n",
            "IoU for class1 is:  0.9067202797391767\n",
            "IoU for class2 is:  0.7695597809683956\n",
            "IoU for class3 is:  0.9786117697310787\n",
            "IoU for class4 is:  0.9612884951295891\n"
          ],
          "name": "stdout"
        },
        {
          "output_type": "execute_result",
          "data": {
            "text/plain": [
              "<matplotlib.image.AxesImage at 0x7f539cde76d0>"
            ]
          },
          "metadata": {
            "tags": []
          },
          "execution_count": 70
        },
        {
          "output_type": "display_data",
          "data": {
            "image/png": "[encoded data removed]",
            "text/plain": [
              "<Figure size 432x288 with 1 Axes>"
            ]
          },
          "metadata": {
            "tags": [],
            "needs_background": "light"
          }
        }
      ]
    },
    {
      "cell_type": "markdown",
      "metadata": {
        "id": "fXxftWTR5ePe"
      },
      "source": [
        "Расчет IUO для  **vgg16** для каждого класса"
      ]
    },
    {
      "cell_type": "code",
      "metadata": {
        "id": "Cf8enZK55o09"
      },
      "source": [
        "#IOU\n",
        "y_pred=model3.predict(X_test3)\n",
        "y_pred_argmax=np.argmax(y_pred, axis=3)"
      ],
      "execution_count": 71,
      "outputs": []
    },
    {
      "cell_type": "code",
      "metadata": {
        "colab": {
          "base_uri": "https://localhost:8080/",
          "height": 438
        },
        "id": "4KvxUo5o6fah",
        "outputId": "607faae9-2cf0-4da0-bcf6-88b856cfb374"
      },
      "source": [
        "#Using built in keras function\n",
        "from tensorflow.keras.metrics import MeanIoU\n",
        "n_classes = 4\n",
        "IOU_keras = MeanIoU(num_classes=n_classes)  \n",
        "IOU_keras.update_state(y_test[:,:,:,0], y_pred_argmax)\n",
        "print(\"Mean IoU =\", IOU_keras.result().numpy())\n",
        "\n",
        "\n",
        "#To calculate I0U for each class...\n",
        "values = np.array(IOU_keras.get_weights()).reshape(n_classes, n_classes)\n",
        "print(values)\n",
        "class1_IoU = values[0,0]/(values[0,0] + values[0,1] + values[0,2] + values[0,3] + values[1,0]+ values[2,0]+ values[3,0])\n",
        "class2_IoU = values[1,1]/(values[1,1] + values[1,0] + values[1,2] + values[1,3] + values[0,1]+ values[2,1]+ values[3,1])\n",
        "class3_IoU = values[2,2]/(values[2,2] + values[2,0] + values[2,1] + values[2,3] + values[0,2]+ values[1,2]+ values[3,2])\n",
        "class4_IoU = values[3,3]/(values[3,3] + values[3,0] + values[3,1] + values[3,2] + values[0,3]+ values[1,3]+ values[2,3])\n",
        "\n",
        "print(\"IoU for class1 is: \", class1_IoU)\n",
        "print(\"IoU for class2 is: \", class2_IoU)\n",
        "print(\"IoU for class3 is: \", class3_IoU)\n",
        "print(\"IoU for class4 is: \", class4_IoU)\n",
        "\n",
        "plt.imshow(train_images[0, :,:,0], cmap='gray')\n",
        "plt.imshow(train_masks[0], cmap='gray')"
      ],
      "execution_count": 72,
      "outputs": [
        {
          "output_type": "stream",
          "text": [
            "Mean IoU = 0.92770875\n",
            "[[3.455920e+05 6.680000e+03 4.478000e+03 2.000000e+00]\n",
            " [9.537000e+03 1.814670e+05 1.070300e+04 0.000000e+00]\n",
            " [5.375000e+03 1.022800e+04 1.984056e+06 6.510000e+02]\n",
            " [0.000000e+00 0.000000e+00 1.424000e+03 6.124700e+04]]\n",
            "IoU for class1 is:  0.92985061776228\n",
            "IoU for class2 is:  0.8300757038629554\n",
            "IoU for class3 is:  0.9837082871613331\n",
            "IoU for class4 is:  0.9672004295369844\n"
          ],
          "name": "stdout"
        },
        {
          "output_type": "execute_result",
          "data": {
            "text/plain": [
              "<matplotlib.image.AxesImage at 0x7f539d9c3510>"
            ]
          },
          "metadata": {
            "tags": []
          },
          "execution_count": 72
        },
        {
          "output_type": "display_data",
          "data": {
            "image/png": "[encoded data removed]",
            "text/plain": [
              "<Figure size 432x288 with 1 Axes>"
            ]
          },
          "metadata": {
            "tags": [],
            "needs_background": "light"
          }
        }
      ]
    },
    {
      "cell_type": "markdown",
      "metadata": {
        "id": "uaooic_oWL4p"
      },
      "source": [
        "############################################################################"
      ]
    },
    {
      "cell_type": "markdown",
      "metadata": {
        "id": "_Lerr0CcWQjV"
      },
      "source": [
        "Проверим предсказание **resnet34** на наскольких изображениях"
      ]
    },
    {
      "cell_type": "code",
      "metadata": {
        "id": "V-WQFpBYTylD",
        "colab": {
          "base_uri": "https://localhost:8080/",
          "height": 391
        },
        "outputId": "3542dc3f-8ce7-4094-eee0-c8a855aefb98"
      },
      "source": [
        "#model = get_model()\n",
        "#model.load_weights('???.hdf5')  \n",
        "import random\n",
        "test_img_number = random.randint(0, len(X_test))\n",
        "test_img = X_test[test_img_number]\n",
        "ground_truth=y_test[test_img_number]\n",
        "test_img_norm=test_img[:,:,0][:,:,None]\n",
        "test_img_input=np.expand_dims(test_img_norm, 0)\n",
        "prediction = (model1.predict(test_img_input))\n",
        "predicted_img=np.argmax(prediction, axis=3)[0,:,:]\n",
        "\n",
        "\n",
        "plt.figure(figsize=(12, 8))\n",
        "plt.subplot(231)\n",
        "plt.title('Testing Image')\n",
        "plt.imshow(test_img[:,:,0], cmap='gray')\n",
        "plt.subplot(232)\n",
        "plt.title('Testing Label')\n",
        "plt.imshow(ground_truth[:,:,0], cmap='jet')\n",
        "plt.subplot(233)\n",
        "plt.title('Prediction on test image')\n",
        "plt.imshow(predicted_img, cmap='jet')\n",
        "plt.show()"
      ],
      "execution_count": 66,
      "outputs": [
        {
          "output_type": "error",
          "ename": "ValueError",
          "evalue": "ignored",
          "traceback": [
            "\u001b[0;31m---------------------------------------------------------------------------\u001b[0m",
            "\u001b[0;31mValueError\u001b[0m                                Traceback (most recent call last)",
            "\u001b[0;32m<ipython-input-66-339436e644d1>\u001b[0m in \u001b[0;36m<module>\u001b[0;34m()\u001b[0m\n\u001b[1;32m      7\u001b[0m \u001b[0mtest_img_norm\u001b[0m\u001b[0;34m=\u001b[0m\u001b[0mtest_img\u001b[0m\u001b[0;34m[\u001b[0m\u001b[0;34m:\u001b[0m\u001b[0;34m,\u001b[0m\u001b[0;34m:\u001b[0m\u001b[0;34m,\u001b[0m\u001b[0;36m0\u001b[0m\u001b[0;34m]\u001b[0m\u001b[0;34m[\u001b[0m\u001b[0;34m:\u001b[0m\u001b[0;34m,\u001b[0m\u001b[0;34m:\u001b[0m\u001b[0;34m,\u001b[0m\u001b[0;32mNone\u001b[0m\u001b[0;34m]\u001b[0m\u001b[0;34m\u001b[0m\u001b[0;34m\u001b[0m\u001b[0m\n\u001b[1;32m      8\u001b[0m \u001b[0mtest_img_input\u001b[0m\u001b[0;34m=\u001b[0m\u001b[0mnp\u001b[0m\u001b[0;34m.\u001b[0m\u001b[0mexpand_dims\u001b[0m\u001b[0;34m(\u001b[0m\u001b[0mtest_img_norm\u001b[0m\u001b[0;34m,\u001b[0m \u001b[0;36m0\u001b[0m\u001b[0;34m)\u001b[0m\u001b[0;34m\u001b[0m\u001b[0;34m\u001b[0m\u001b[0m\n\u001b[0;32m----> 9\u001b[0;31m \u001b[0mprediction\u001b[0m \u001b[0;34m=\u001b[0m \u001b[0;34m(\u001b[0m\u001b[0mmodel1\u001b[0m\u001b[0;34m.\u001b[0m\u001b[0mpredict\u001b[0m\u001b[0;34m(\u001b[0m\u001b[0mtest_img_input\u001b[0m\u001b[0;34m)\u001b[0m\u001b[0;34m)\u001b[0m\u001b[0;34m\u001b[0m\u001b[0;34m\u001b[0m\u001b[0m\n\u001b[0m\u001b[1;32m     10\u001b[0m \u001b[0mpredicted_img\u001b[0m\u001b[0;34m=\u001b[0m\u001b[0mnp\u001b[0m\u001b[0;34m.\u001b[0m\u001b[0margmax\u001b[0m\u001b[0;34m(\u001b[0m\u001b[0mprediction\u001b[0m\u001b[0;34m,\u001b[0m \u001b[0maxis\u001b[0m\u001b[0;34m=\u001b[0m\u001b[0;36m3\u001b[0m\u001b[0;34m)\u001b[0m\u001b[0;34m[\u001b[0m\u001b[0;36m0\u001b[0m\u001b[0;34m,\u001b[0m\u001b[0;34m:\u001b[0m\u001b[0;34m,\u001b[0m\u001b[0;34m:\u001b[0m\u001b[0;34m]\u001b[0m\u001b[0;34m\u001b[0m\u001b[0;34m\u001b[0m\u001b[0m\n\u001b[1;32m     11\u001b[0m \u001b[0;34m\u001b[0m\u001b[0m\n",
            "\u001b[0;32m/usr/local/lib/python3.7/dist-packages/tensorflow_core/python/keras/engine/training.py\u001b[0m in \u001b[0;36mpredict\u001b[0;34m(self, x, batch_size, verbose, steps, callbacks, max_queue_size, workers, use_multiprocessing)\u001b[0m\n\u001b[1;32m   1011\u001b[0m         \u001b[0mmax_queue_size\u001b[0m\u001b[0;34m=\u001b[0m\u001b[0mmax_queue_size\u001b[0m\u001b[0;34m,\u001b[0m\u001b[0;34m\u001b[0m\u001b[0;34m\u001b[0m\u001b[0m\n\u001b[1;32m   1012\u001b[0m         \u001b[0mworkers\u001b[0m\u001b[0;34m=\u001b[0m\u001b[0mworkers\u001b[0m\u001b[0;34m,\u001b[0m\u001b[0;34m\u001b[0m\u001b[0;34m\u001b[0m\u001b[0m\n\u001b[0;32m-> 1013\u001b[0;31m         use_multiprocessing=use_multiprocessing)\n\u001b[0m\u001b[1;32m   1014\u001b[0m \u001b[0;34m\u001b[0m\u001b[0m\n\u001b[1;32m   1015\u001b[0m   \u001b[0;32mdef\u001b[0m \u001b[0mreset_metrics\u001b[0m\u001b[0;34m(\u001b[0m\u001b[0mself\u001b[0m\u001b[0;34m)\u001b[0m\u001b[0;34m:\u001b[0m\u001b[0;34m\u001b[0m\u001b[0;34m\u001b[0m\u001b[0m\n",
            "\u001b[0;32m/usr/local/lib/python3.7/dist-packages/tensorflow_core/python/keras/engine/training_v2.py\u001b[0m in \u001b[0;36mpredict\u001b[0;34m(self, model, x, batch_size, verbose, steps, callbacks, max_queue_size, workers, use_multiprocessing, **kwargs)\u001b[0m\n\u001b[1;32m    496\u001b[0m         \u001b[0mmodel\u001b[0m\u001b[0;34m,\u001b[0m \u001b[0mModeKeys\u001b[0m\u001b[0;34m.\u001b[0m\u001b[0mPREDICT\u001b[0m\u001b[0;34m,\u001b[0m \u001b[0mx\u001b[0m\u001b[0;34m=\u001b[0m\u001b[0mx\u001b[0m\u001b[0;34m,\u001b[0m \u001b[0mbatch_size\u001b[0m\u001b[0;34m=\u001b[0m\u001b[0mbatch_size\u001b[0m\u001b[0;34m,\u001b[0m \u001b[0mverbose\u001b[0m\u001b[0;34m=\u001b[0m\u001b[0mverbose\u001b[0m\u001b[0;34m,\u001b[0m\u001b[0;34m\u001b[0m\u001b[0;34m\u001b[0m\u001b[0m\n\u001b[1;32m    497\u001b[0m         \u001b[0msteps\u001b[0m\u001b[0;34m=\u001b[0m\u001b[0msteps\u001b[0m\u001b[0;34m,\u001b[0m \u001b[0mcallbacks\u001b[0m\u001b[0;34m=\u001b[0m\u001b[0mcallbacks\u001b[0m\u001b[0;34m,\u001b[0m \u001b[0mmax_queue_size\u001b[0m\u001b[0;34m=\u001b[0m\u001b[0mmax_queue_size\u001b[0m\u001b[0;34m,\u001b[0m\u001b[0;34m\u001b[0m\u001b[0;34m\u001b[0m\u001b[0m\n\u001b[0;32m--> 498\u001b[0;31m         workers=workers, use_multiprocessing=use_multiprocessing, **kwargs)\n\u001b[0m\u001b[1;32m    499\u001b[0m \u001b[0;34m\u001b[0m\u001b[0m\n\u001b[1;32m    500\u001b[0m \u001b[0;34m\u001b[0m\u001b[0m\n",
            "\u001b[0;32m/usr/local/lib/python3.7/dist-packages/tensorflow_core/python/keras/engine/training_v2.py\u001b[0m in \u001b[0;36m_model_iteration\u001b[0;34m(self, model, mode, x, y, batch_size, verbose, sample_weight, steps, callbacks, max_queue_size, workers, use_multiprocessing, **kwargs)\u001b[0m\n\u001b[1;32m    424\u001b[0m           \u001b[0mmax_queue_size\u001b[0m\u001b[0;34m=\u001b[0m\u001b[0mmax_queue_size\u001b[0m\u001b[0;34m,\u001b[0m\u001b[0;34m\u001b[0m\u001b[0;34m\u001b[0m\u001b[0m\n\u001b[1;32m    425\u001b[0m           \u001b[0mworkers\u001b[0m\u001b[0;34m=\u001b[0m\u001b[0mworkers\u001b[0m\u001b[0;34m,\u001b[0m\u001b[0;34m\u001b[0m\u001b[0;34m\u001b[0m\u001b[0m\n\u001b[0;32m--> 426\u001b[0;31m           use_multiprocessing=use_multiprocessing)\n\u001b[0m\u001b[1;32m    427\u001b[0m       \u001b[0mtotal_samples\u001b[0m \u001b[0;34m=\u001b[0m \u001b[0m_get_total_number_of_samples\u001b[0m\u001b[0;34m(\u001b[0m\u001b[0madapter\u001b[0m\u001b[0;34m)\u001b[0m\u001b[0;34m\u001b[0m\u001b[0;34m\u001b[0m\u001b[0m\n\u001b[1;32m    428\u001b[0m       \u001b[0muse_sample\u001b[0m \u001b[0;34m=\u001b[0m \u001b[0mtotal_samples\u001b[0m \u001b[0;32mis\u001b[0m \u001b[0;32mnot\u001b[0m \u001b[0;32mNone\u001b[0m\u001b[0;34m\u001b[0m\u001b[0;34m\u001b[0m\u001b[0m\n",
            "\u001b[0;32m/usr/local/lib/python3.7/dist-packages/tensorflow_core/python/keras/engine/training_v2.py\u001b[0m in \u001b[0;36m_process_inputs\u001b[0;34m(model, mode, x, y, batch_size, epochs, sample_weights, class_weights, shuffle, steps, distribution_strategy, max_queue_size, workers, use_multiprocessing)\u001b[0m\n\u001b[1;32m    644\u001b[0m     \u001b[0mstandardize_function\u001b[0m \u001b[0;34m=\u001b[0m \u001b[0;32mNone\u001b[0m\u001b[0;34m\u001b[0m\u001b[0;34m\u001b[0m\u001b[0m\n\u001b[1;32m    645\u001b[0m     x, y, sample_weights = standardize(\n\u001b[0;32m--> 646\u001b[0;31m         x, y, sample_weight=sample_weights)\n\u001b[0m\u001b[1;32m    647\u001b[0m   \u001b[0;32melif\u001b[0m \u001b[0madapter_cls\u001b[0m \u001b[0;32mis\u001b[0m \u001b[0mdata_adapter\u001b[0m\u001b[0;34m.\u001b[0m\u001b[0mListsOfScalarsDataAdapter\u001b[0m\u001b[0;34m:\u001b[0m\u001b[0;34m\u001b[0m\u001b[0;34m\u001b[0m\u001b[0m\n\u001b[1;32m    648\u001b[0m     \u001b[0mstandardize_function\u001b[0m \u001b[0;34m=\u001b[0m \u001b[0mstandardize\u001b[0m\u001b[0;34m\u001b[0m\u001b[0;34m\u001b[0m\u001b[0m\n",
            "\u001b[0;32m/usr/local/lib/python3.7/dist-packages/tensorflow_core/python/keras/engine/training.py\u001b[0m in \u001b[0;36m_standardize_user_data\u001b[0;34m(self, x, y, sample_weight, class_weight, batch_size, check_steps, steps_name, steps, validation_split, shuffle, extract_tensors_from_dataset)\u001b[0m\n\u001b[1;32m   2381\u001b[0m         \u001b[0mis_dataset\u001b[0m\u001b[0;34m=\u001b[0m\u001b[0mis_dataset\u001b[0m\u001b[0;34m,\u001b[0m\u001b[0;34m\u001b[0m\u001b[0;34m\u001b[0m\u001b[0m\n\u001b[1;32m   2382\u001b[0m         \u001b[0mclass_weight\u001b[0m\u001b[0;34m=\u001b[0m\u001b[0mclass_weight\u001b[0m\u001b[0;34m,\u001b[0m\u001b[0;34m\u001b[0m\u001b[0;34m\u001b[0m\u001b[0m\n\u001b[0;32m-> 2383\u001b[0;31m         batch_size=batch_size)\n\u001b[0m\u001b[1;32m   2384\u001b[0m \u001b[0;34m\u001b[0m\u001b[0m\n\u001b[1;32m   2385\u001b[0m   def _standardize_tensors(self, x, y, sample_weight, run_eagerly, dict_inputs,\n",
            "\u001b[0;32m/usr/local/lib/python3.7/dist-packages/tensorflow_core/python/keras/engine/training.py\u001b[0m in \u001b[0;36m_standardize_tensors\u001b[0;34m(self, x, y, sample_weight, run_eagerly, dict_inputs, is_dataset, class_weight, batch_size)\u001b[0m\n\u001b[1;32m   2408\u001b[0m           \u001b[0mfeed_input_shapes\u001b[0m\u001b[0;34m,\u001b[0m\u001b[0;34m\u001b[0m\u001b[0;34m\u001b[0m\u001b[0m\n\u001b[1;32m   2409\u001b[0m           \u001b[0mcheck_batch_axis\u001b[0m\u001b[0;34m=\u001b[0m\u001b[0;32mFalse\u001b[0m\u001b[0;34m,\u001b[0m  \u001b[0;31m# Don't enforce the batch size.\u001b[0m\u001b[0;34m\u001b[0m\u001b[0;34m\u001b[0m\u001b[0m\n\u001b[0;32m-> 2410\u001b[0;31m           exception_prefix='input')\n\u001b[0m\u001b[1;32m   2411\u001b[0m \u001b[0;34m\u001b[0m\u001b[0m\n\u001b[1;32m   2412\u001b[0m     \u001b[0;31m# Get typespecs for the input data and sanitize it if necessary.\u001b[0m\u001b[0;34m\u001b[0m\u001b[0;34m\u001b[0m\u001b[0;34m\u001b[0m\u001b[0m\n",
            "\u001b[0;32m/usr/local/lib/python3.7/dist-packages/tensorflow_core/python/keras/engine/training_utils.py\u001b[0m in \u001b[0;36mstandardize_input_data\u001b[0;34m(data, names, shapes, check_batch_axis, exception_prefix)\u001b[0m\n\u001b[1;32m    580\u001b[0m                              \u001b[0;34m': expected '\u001b[0m \u001b[0;34m+\u001b[0m \u001b[0mnames\u001b[0m\u001b[0;34m[\u001b[0m\u001b[0mi\u001b[0m\u001b[0;34m]\u001b[0m \u001b[0;34m+\u001b[0m \u001b[0;34m' to have shape '\u001b[0m \u001b[0;34m+\u001b[0m\u001b[0;34m\u001b[0m\u001b[0;34m\u001b[0m\u001b[0m\n\u001b[1;32m    581\u001b[0m                              \u001b[0mstr\u001b[0m\u001b[0;34m(\u001b[0m\u001b[0mshape\u001b[0m\u001b[0;34m)\u001b[0m \u001b[0;34m+\u001b[0m \u001b[0;34m' but got array with shape '\u001b[0m \u001b[0;34m+\u001b[0m\u001b[0;34m\u001b[0m\u001b[0;34m\u001b[0m\u001b[0m\n\u001b[0;32m--> 582\u001b[0;31m                              str(data_shape))\n\u001b[0m\u001b[1;32m    583\u001b[0m   \u001b[0;32mreturn\u001b[0m \u001b[0mdata\u001b[0m\u001b[0;34m\u001b[0m\u001b[0;34m\u001b[0m\u001b[0m\n\u001b[1;32m    584\u001b[0m \u001b[0;34m\u001b[0m\u001b[0m\n",
            "\u001b[0;31mValueError\u001b[0m: Error when checking input: expected data to have shape (None, None, 3) but got array with shape (128, 128, 1)"
          ]
        }
      ]
    },
    {
      "cell_type": "markdown",
      "metadata": {
        "id": "3D_BhmwfWeam"
      },
      "source": [
        "##############################################################################"
      ]
    },
    {
      "cell_type": "markdown",
      "metadata": {
        "id": "30nL-kf3FfJx"
      },
      "source": [
        "#####################################################"
      ]
    },
    {
      "cell_type": "code",
      "metadata": {
        "id": "GYxounrxFnDJ"
      },
      "source": [
        "from keras.models import load_model\n",
        "\n",
        "#Set compile=False as we are not loading it for training, only for prediction.\n",
        "model1 = load_model('/content/gdrive/My Drive/Computer_vision/res34_backbone_50epochs.hdf5', compile=False)\n",
        "model2 = load_model('/content/gdrive/My Drive/Computer_vision/inceptionv3_backbone_50epochs.hdf5', compile=False)\n",
        "model3 = load_model('/content/gdrive/My Drive/Computer_vision/vgg19_backbone_50epochs.hdf5', compile=False)"
      ],
      "execution_count": null,
      "outputs": []
    },
    {
      "cell_type": "code",
      "metadata": {
        "id": "xe0CpACjVnjg"
      },
      "source": [
        "#Weighted average ensemble\n",
        "models = [model1, model2, model3]\n",
        "#preds = [model.predict(X_test) for model in models]\n",
        "\n",
        "pred1 = model1.predict(X_test1)\n",
        "pred2 = model2.predict(X_test2)\n",
        "pred3 = model3.predict(X_test3)\n",
        "\n",
        "preds=np.array([pred1, pred2, pred3])"
      ],
      "execution_count": null,
      "outputs": []
    },
    {
      "cell_type": "code",
      "metadata": {
        "colab": {
          "base_uri": "https://localhost:8080/"
        },
        "id": "EVHjD474WAPU",
        "outputId": "01929d68-a616-4d6e-a5e6-f44675ff7dd7"
      },
      "source": [
        "#preds=np.array(preds)\n",
        "weights = [0.3, 0.5, 0.2]\n",
        "\n",
        "#Use tensordot to sum the products of all elements over specified axes.\n",
        "weighted_preds = np.tensordot(preds, weights, axes=((0),(0)))\n",
        "weighted_ensemble_prediction = np.argmax(weighted_preds, axis=3)\n",
        "\n",
        "y_pred1_argmax=np.argmax(pred1, axis=3)\n",
        "y_pred2_argmax=np.argmax(pred2, axis=3)\n",
        "y_pred3_argmax=np.argmax(pred3, axis=3)\n",
        "\n",
        "\n",
        "#Using built in keras function\n",
        "n_classes = 4\n",
        "IOU1 = MeanIoU(num_classes=n_classes)  \n",
        "IOU2 = MeanIoU(num_classes=n_classes)  \n",
        "IOU3 = MeanIoU(num_classes=n_classes)  \n",
        "IOU_weighted = MeanIoU(num_classes=n_classes)  \n",
        "\n",
        "IOU1.update_state(y_test[:,:,:,0], y_pred1_argmax)\n",
        "IOU2.update_state(y_test[:,:,:,0], y_pred2_argmax)\n",
        "IOU3.update_state(y_test[:,:,:,0], y_pred3_argmax)\n",
        "IOU_weighted.update_state(y_test[:,:,:,0], weighted_ensemble_prediction)\n",
        "\n",
        "\n",
        "print('IOU Score for model1 = ', IOU1.result().numpy())\n",
        "print('IOU Score for model2 = ', IOU2.result().numpy())\n",
        "print('IOU Score for model3 = ', IOU3.result().numpy())\n",
        "print('IOU Score for weighted average ensemble = ', IOU_weighted.result().numpy())"
      ],
      "execution_count": null,
      "outputs": [
        {
          "output_type": "stream",
          "text": [
            "IOU Score for model1 =  0.90263987\n",
            "IOU Score for model2 =  0.90043116\n",
            "IOU Score for model3 =  0.92549276\n",
            "IOU Score for weighted average ensemble =  0.9166032\n"
          ],
          "name": "stdout"
        }
      ]
    },
    {
      "cell_type": "markdown",
      "metadata": {
        "id": "na9FpiuuFstJ"
      },
      "source": [
        "###########################################"
      ]
    },
    {
      "cell_type": "markdown",
      "metadata": {
        "id": "E5LS1L9WFtZK"
      },
      "source": [
        "Поиск по сетке наилучшего сочетания w1, w2, w3, дающего максимальную точность"
      ]
    },
    {
      "cell_type": "code",
      "metadata": {
        "id": "8R_5YUvxGH1O",
        "colab": {
          "base_uri": "https://localhost:8080/"
        },
        "outputId": "400f228d-ccb1-4408-b2b9-9286443b4323"
      },
      "source": [
        "import pandas as pd\n",
        "df = pd.DataFrame([])\n",
        "\n",
        "for w1 in range(0, 4):\n",
        "    for w2 in range(0,4):\n",
        "        for w3 in range(0,4):\n",
        "            wts = [w1/10.,w2/10.,w3/10.]\n",
        "            \n",
        "            IOU_wted = MeanIoU(num_classes=n_classes) \n",
        "            wted_preds = np.tensordot(preds, wts, axes=((0),(0)))\n",
        "            wted_ensemble_pred = np.argmax(wted_preds, axis=3)\n",
        "            IOU_wted.update_state(y_test[:,:,:,0], wted_ensemble_pred)\n",
        "            print(\"Now predciting for weights :\", w1/10., w2/10., w3/10., \" : IOU = \", IOU_wted.result().numpy())\n",
        "            df = df.append(pd.DataFrame({'wt1':wts[0],'wt2':wts[1], \n",
        "                                         'wt3':wts[2], 'IOU': IOU_wted.result().numpy()}, index=[0]), ignore_index=True)\n",
        "            \n",
        "max_iou_row = df.iloc[df['IOU'].idxmax()]\n",
        "print(\"Max IOU of \", max_iou_row[3], \" obained with w1=\", max_iou_row[0],\n",
        "      \" w2=\", max_iou_row[1], \" and w3=\", max_iou_row[2])      "
      ],
      "execution_count": null,
      "outputs": [
        {
          "output_type": "stream",
          "text": [
            "Now predciting for weights : 0.0 0.0 0.0  : IOU =  0.03402252\n",
            "Now predciting for weights : 0.0 0.0 0.1  : IOU =  0.92549276\n",
            "Now predciting for weights : 0.0 0.0 0.2  : IOU =  0.92549276\n",
            "Now predciting for weights : 0.0 0.0 0.3  : IOU =  0.92549276\n",
            "Now predciting for weights : 0.0 0.1 0.0  : IOU =  0.90043116\n",
            "Now predciting for weights : 0.0 0.1 0.1  : IOU =  0.9253899\n",
            "Now predciting for weights : 0.0 0.1 0.2  : IOU =  0.9273957\n",
            "Now predciting for weights : 0.0 0.1 0.3  : IOU =  0.9269609\n",
            "Now predciting for weights : 0.0 0.2 0.0  : IOU =  0.90043116\n",
            "Now predciting for weights : 0.0 0.2 0.1  : IOU =  0.91057956\n",
            "Now predciting for weights : 0.0 0.2 0.2  : IOU =  0.9253899\n",
            "Now predciting for weights : 0.0 0.2 0.3  : IOU =  0.9275429\n",
            "Now predciting for weights : 0.0 0.3 0.0  : IOU =  0.90043116\n",
            "Now predciting for weights : 0.0 0.3 0.1  : IOU =  0.9073889\n",
            "Now predciting for weights : 0.0 0.3 0.2  : IOU =  0.9138908\n",
            "Now predciting for weights : 0.0 0.3 0.3  : IOU =  0.9253899\n",
            "Now predciting for weights : 0.1 0.0 0.0  : IOU =  0.90263987\n",
            "Now predciting for weights : 0.1 0.0 0.1  : IOU =  0.9259229\n",
            "Now predciting for weights : 0.1 0.0 0.2  : IOU =  0.9272419\n",
            "Now predciting for weights : 0.1 0.0 0.3  : IOU =  0.9268521\n",
            "Now predciting for weights : 0.1 0.1 0.0  : IOU =  0.9114523\n",
            "Now predciting for weights : 0.1 0.1 0.1  : IOU =  0.92317235\n",
            "Now predciting for weights : 0.1 0.1 0.2  : IOU =  0.9280329\n",
            "Now predciting for weights : 0.1 0.1 0.3  : IOU =  0.92791146\n",
            "Now predciting for weights : 0.1 0.2 0.0  : IOU =  0.9060803\n",
            "Now predciting for weights : 0.1 0.2 0.1  : IOU =  0.91759825\n",
            "Now predciting for weights : 0.1 0.2 0.2  : IOU =  0.9243863\n",
            "Now predciting for weights : 0.1 0.2 0.3  : IOU =  0.92800164\n",
            "Now predciting for weights : 0.1 0.3 0.0  : IOU =  0.904471\n",
            "Now predciting for weights : 0.1 0.3 0.1  : IOU =  0.91086984\n",
            "Now predciting for weights : 0.1 0.3 0.2  : IOU =  0.91941667\n",
            "Now predciting for weights : 0.1 0.3 0.3  : IOU =  0.924686\n",
            "Now predciting for weights : 0.2 0.0 0.0  : IOU =  0.90263987\n",
            "Now predciting for weights : 0.2 0.0 0.1  : IOU =  0.91338927\n",
            "Now predciting for weights : 0.2 0.0 0.2  : IOU =  0.9259229\n",
            "Now predciting for weights : 0.2 0.0 0.3  : IOU =  0.92730606\n",
            "Now predciting for weights : 0.2 0.1 0.0  : IOU =  0.9086921\n",
            "Now predciting for weights : 0.2 0.1 0.1  : IOU =  0.9193524\n",
            "Now predciting for weights : 0.2 0.1 0.2  : IOU =  0.9246255\n",
            "Now predciting for weights : 0.2 0.1 0.3  : IOU =  0.9279156\n",
            "Now predciting for weights : 0.2 0.2 0.0  : IOU =  0.9114523\n",
            "Now predciting for weights : 0.2 0.2 0.1  : IOU =  0.9198108\n",
            "Now predciting for weights : 0.2 0.2 0.2  : IOU =  0.92317235\n",
            "Now predciting for weights : 0.2 0.2 0.3  : IOU =  0.9257935\n",
            "Now predciting for weights : 0.2 0.3 0.0  : IOU =  0.9076892\n",
            "Now predciting for weights : 0.2 0.3 0.1  : IOU =  0.91603774\n",
            "Now predciting for weights : 0.2 0.3 0.2  : IOU =  0.9214446\n",
            "Now predciting for weights : 0.2 0.3 0.3  : IOU =  0.9240562\n",
            "Now predciting for weights : 0.3 0.0 0.0  : IOU =  0.90263987\n",
            "Now predciting for weights : 0.3 0.0 0.1  : IOU =  0.91007656\n",
            "Now predciting for weights : 0.3 0.0 0.2  : IOU =  0.916749\n",
            "Now predciting for weights : 0.3 0.0 0.3  : IOU =  0.9259229\n",
            "Now predciting for weights : 0.3 0.1 0.0  : IOU =  0.907118\n",
            "Now predciting for weights : 0.3 0.1 0.1  : IOU =  0.91381264\n",
            "Now predciting for weights : 0.3 0.1 0.2  : IOU =  0.9208975\n",
            "Now predciting for weights : 0.3 0.1 0.3  : IOU =  0.9249015\n",
            "Now predciting for weights : 0.3 0.2 0.0  : IOU =  0.91008025\n",
            "Now predciting for weights : 0.3 0.2 0.1  : IOU =  0.91759485\n",
            "Now predciting for weights : 0.3 0.2 0.2  : IOU =  0.92181826\n",
            "Now predciting for weights : 0.3 0.2 0.3  : IOU =  0.92408824\n",
            "Now predciting for weights : 0.3 0.3 0.0  : IOU =  0.9114523\n",
            "Now predciting for weights : 0.3 0.3 0.1  : IOU =  0.9181577\n",
            "Now predciting for weights : 0.3 0.3 0.2  : IOU =  0.9211204\n",
            "Now predciting for weights : 0.3 0.3 0.3  : IOU =  0.92317235\n",
            "Max IOU of  0.9280328750610352  obained with w1= 0.1  w2= 0.1  and w3= 0.2\n"
          ],
          "name": "stdout"
        }
      ]
    },
    {
      "cell_type": "markdown",
      "metadata": {
        "id": "cefaX56yGjLW"
      },
      "source": [
        "#############################################################"
      ]
    },
    {
      "cell_type": "code",
      "metadata": {
        "id": "Ku-l_yfaGkKb"
      },
      "source": [
        "opt_weights = [max_iou_row[0], max_iou_row[1], max_iou_row[2]]\n",
        "\n",
        "#Use tensordot to sum the products of all elements over specified axes.\n",
        "opt_weighted_preds = np.tensordot(preds, opt_weights, axes=((0),(0)))\n",
        "opt_weighted_ensemble_prediction = np.argmax(opt_weighted_preds, axis=3)"
      ],
      "execution_count": null,
      "outputs": []
    },
    {
      "cell_type": "markdown",
      "metadata": {
        "id": "rcZB4IHEGpMU"
      },
      "source": [
        "#######################################################"
      ]
    },
    {
      "cell_type": "markdown",
      "metadata": {
        "id": "ynpQWxnJGs9z"
      },
      "source": [
        "Predict on a few images"
      ]
    },
    {
      "cell_type": "code",
      "metadata": {
        "id": "AVl9gcc0GwwK",
        "colab": {
          "base_uri": "https://localhost:8080/",
          "height": 261
        },
        "outputId": "58319c70-ae10-4638-a0a0-0de570c9c0ce"
      },
      "source": [
        "import random\n",
        "test_img_number = random.randint(0, len(X_test))\n",
        "test_img = X_test[test_img_number]\n",
        "ground_truth=y_test[test_img_number]\n",
        "test_img_norm=test_img[:,:,:]\n",
        "test_img_input=np.expand_dims(test_img_norm, 0)\n",
        "\n",
        "#Weighted average ensemble\n",
        "models = [model1, model2, model3]\n",
        "\n",
        "test_img_input1 = preprocess_input1(test_img_input)\n",
        "test_img_input2 = preprocess_input2(test_img_input)\n",
        "test_img_input3 = preprocess_input3(test_img_input)\n",
        "\n",
        "test_pred1 = model1.predict(test_img_input1)\n",
        "test_pred2 = model2.predict(test_img_input2)\n",
        "test_pred3 = model3.predict(test_img_input3)\n",
        "\n",
        "test_preds=np.array([test_pred1, test_pred2, test_pred3])\n",
        "\n",
        "#Use tensordot to sum the products of all elements over specified axes.\n",
        "weighted_test_preds = np.tensordot(test_preds, opt_weights, axes=((0),(0)))\n",
        "weighted_ensemble_test_prediction = np.argmax(weighted_test_preds, axis=3)[0,:,:]\n",
        "\n",
        "\n",
        "plt.figure(figsize=(12, 8))\n",
        "plt.subplot(231)\n",
        "plt.title('Testing Image')\n",
        "plt.imshow(test_img[:,:,0], cmap='gray')\n",
        "plt.subplot(232)\n",
        "plt.title('Testing Label')\n",
        "plt.imshow(ground_truth[:,:,0], cmap='jet')\n",
        "plt.subplot(233)\n",
        "plt.title('Prediction on test image')\n",
        "plt.imshow(weighted_ensemble_test_prediction, cmap='jet')\n",
        "plt.show()"
      ],
      "execution_count": null,
      "outputs": [
        {
          "output_type": "display_data",
          "data": {
            "image/png": "[encoded data removed]",
            "text/plain": [
              "<Figure size 864x576 with 3 Axes>"
            ]
          },
          "metadata": {
            "tags": [],
            "needs_background": "light"
          }
        }
      ]
    },
    {
      "cell_type": "markdown",
      "metadata": {
        "id": "vsG-VeHZG1m8"
      },
      "source": [
        "#####################################################################"
      ]
    }
  ]
}